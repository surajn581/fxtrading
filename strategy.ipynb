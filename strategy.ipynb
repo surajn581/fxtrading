{
 "cells": [
  {
   "cell_type": "code",
   "execution_count": 1,
   "metadata": {},
   "outputs": [],
   "source": [
    "from signals import loadData\n",
    "import plotly.express as px\n",
    "import plotly.graph_objects as go\n",
    "import warnings\n",
    "warnings.filterwarnings('ignore')"
   ]
  },
  {
   "cell_type": "code",
   "execution_count": 11,
   "metadata": {},
   "outputs": [
    {
     "name": "stdout",
     "output_type": "stream",
     "text": [
      "bought 1903 units at 1.05262/unit\n",
      "total holding: 1903 at avg buy price: 1.05262\n",
      "total profit: 0\n",
      "sold 1903 units at profit: 0.0018900000000001693 avg buy price: 1.05262 current price: 1.05451\n",
      "total holding: 0 at avg buy price: 0\n",
      "total profit: 3.596670000000322\n",
      "bought 4342 units at 1.05533/unit\n",
      "total holding: 4342 at avg buy price: 1.05533\n",
      "total profit: 3.596670000000322\n",
      "sold 2886 units at profit: 0.00012999999999996348 avg buy price: 1.05533 current price: 1.05546\n",
      "total holding: 1456 at avg buy price: 1.0550723214285715\n",
      "total profit: 3.9718500000002166\n",
      "sold 1456 units at profit: 0.0030676785714285337 avg buy price: 1.0550723214285715 current price: 1.05814\n",
      "total holding: 0 at avg buy price: 0\n",
      "total profit: 8.438390000000162\n",
      "bought 568 units at 1.05801/unit\n",
      "total holding: 568 at avg buy price: 1.05801\n",
      "total profit: 8.438390000000162\n",
      "bought 606 units at 1.05787/unit\n",
      "total holding: 1174 at avg buy price: 1.057937734241908\n",
      "total profit: 8.438390000000162\n",
      "bought 854 units at 1.05809/unit\n",
      "total holding: 2028 at avg buy price: 1.0580018540433924\n",
      "total profit: 8.438390000000162\n",
      "sold 1252 units at profit: 0.00035814595660754733 avg buy price: 1.0580018540433924 current price: 1.05836\n",
      "total holding: 776 at avg buy price: 1.0574240206185566\n",
      "total profit: 8.886788737672811\n",
      "bought 573 units at 1.05856/unit\n",
      "total holding: 1349 at avg buy price: 1.0579065381764268\n",
      "total profit: 8.886788737672811\n",
      "sold 701 units at profit: 0.0006634618235732415 avg buy price: 1.0579065381764268 current price: 1.05857\n",
      "total holding: 648 at avg buy price: 1.0571888117283945\n",
      "total profit: 9.351875475997653\n",
      "bought 847 units at 1.05876/unit\n",
      "total holding: 1495 at avg buy price: 1.0580789765886285\n",
      "total profit: 9.351875475997653\n",
      "sold 580 units at profit: 0.00048102341137146176 avg buy price: 1.0580789765886285 current price: 1.05856\n",
      "total holding: 915 at avg buy price: 1.05777406557377\n",
      "total profit: 9.630869054593102\n",
      "bought 322 units at 1.05873/unit\n",
      "total holding: 1237 at avg buy price: 1.0580229021826997\n",
      "total profit: 9.630869054593102\n",
      "sold 708 units at profit: 0.0006470978173003239 avg buy price: 1.0580229021826997 current price: 1.05867\n",
      "total holding: 529 at avg buy price: 1.057156843100188\n",
      "total profit: 10.089014309241731\n",
      "bought 360 units at 1.05875/unit\n",
      "total holding: 889 at avg buy price: 1.0578019910011243\n",
      "total profit: 10.089014309241731\n",
      "sold 889 units at profit: 0.0007080089988757976 avg buy price: 1.0578019910011243 current price: 1.05851\n",
      "total holding: 0 at avg buy price: 0\n",
      "total profit: 10.718434309242316\n",
      "bought 2422 units at 1.05873/unit\n",
      "total holding: 2422 at avg buy price: 1.05873\n",
      "total profit: 10.718434309242316\n",
      "sold 2105 units at profit: 0.00021000000000004349 avg buy price: 1.05873 current price: 1.05894\n",
      "total holding: 317 at avg buy price: 1.0573355205047323\n",
      "total profit: 11.160484309242406\n",
      "bought 1505 units at 1.05941/unit\n",
      "total holding: 1822 at avg buy price: 1.0590490724478596\n",
      "total profit: 11.160484309242406\n",
      "bought 1480 units at 1.05939/unit\n",
      "total holding: 3302 at avg buy price: 1.0592018806783767\n",
      "total profit: 11.160484309242406\n",
      "bought 932 units at 1.05936/unit\n",
      "total holding: 4234 at avg buy price: 1.0592366863486065\n",
      "total profit: 11.160484309242406\n",
      "bought 2088 units at 1.05952/unit\n",
      "total holding: 6322 at avg buy price: 1.0593302578298007\n",
      "total profit: 11.160484309242406\n",
      "bought 1067 units at 1.05966/unit\n",
      "total holding: 7389 at avg buy price: 1.0593778738665585\n",
      "total profit: 11.160484309242406\n",
      "sold 1208 units at profit: 0.00021212613344157027 avg buy price: 1.0593778738665585 current price: 1.05959\n",
      "total holding: 6181 at avg buy price: 1.05933641643747\n",
      "total profit: 11.416732678439823\n",
      "sold 1133 units at profit: 0.00018358356253012076 avg buy price: 1.05933641643747 current price: 1.05952\n",
      "total holding: 5048 at avg buy price: 1.059295211965135\n",
      "total profit: 11.62473285478645\n",
      "sold 800 units at profit: 0.00017478803486481453 avg buy price: 1.059295211965135 current price: 1.05947\n",
      "total holding: 4248 at avg buy price: 1.0592622951977404\n",
      "total profit: 11.764563282678301\n",
      "bought 1088 units at 1.05955/unit\n",
      "total holding: 5336 at avg buy price: 1.059320957646177\n",
      "total profit: 11.764563282678301\n",
      "bought 855 units at 1.0595/unit\n",
      "total holding: 6191 at avg buy price: 1.059345684057503\n",
      "total profit: 11.764563282678301\n",
      "sold 896 units at profit: 0.0005043159424968913 avg buy price: 1.059345684057503 current price: 1.05985\n",
      "total holding: 5295 at avg buy price: 1.0592603456090655\n",
      "total profit: 12.216430367155516\n",
      "bought 1151 units at 1.05988/unit\n",
      "total holding: 6446 at avg buy price: 1.059370991312442\n",
      "total profit: 12.216430367155516\n",
      "sold 1388 units at profit: 0.0005590086875579825 avg buy price: 1.059370991312442 current price: 1.05993\n",
      "total holding: 5058 at avg buy price: 1.0592175899565048\n",
      "total profit: 12.992334425485996\n",
      "bought 1170 units at 1.06002/unit\n",
      "total holding: 6228 at avg buy price: 1.0593683317276816\n",
      "total profit: 12.992334425485996\n",
      "bought 801 units at 1.05995/unit\n",
      "total holding: 7029 at avg buy price: 1.0594346165884196\n",
      "total profit: 12.992334425485996\n",
      "bought 1071 units at 1.06001/unit\n",
      "total holding: 8100 at avg buy price: 1.0595106950617286\n",
      "total profit: 12.992334425485996\n",
      "bought 920 units at 1.05998/unit\n",
      "total holding: 9020 at avg buy price: 1.0595585620842574\n",
      "total profit: 12.992334425485996\n",
      "sold 601 units at profit: 0.0002114379157427404 avg buy price: 1.0595585620842574 current price: 1.05977\n",
      "total holding: 8419 at avg buy price: 1.0595434683454095\n",
      "total profit: 13.119408612847383\n",
      "bought 536 units at 1.05989/unit\n",
      "total holding: 8955 at avg buy price: 1.059564209938582\n",
      "total profit: 13.119408612847383\n",
      "sold 387 units at profit: 0.0003257900614179743 avg buy price: 1.059564209938582 current price: 1.05989\n",
      "total holding: 8568 at avg buy price: 1.059549494631186\n",
      "total profit: 13.24548936661614\n",
      "bought 505 units at 1.06009/unit\n",
      "total holding: 9073 at avg buy price: 1.0595795789705722\n",
      "total profit: 13.24548936661614\n",
      "bought 584 units at 1.0602/unit\n",
      "total holding: 9657 at avg buy price: 1.0596170984777884\n",
      "total profit: 13.24548936661614\n",
      "bought 320 units at 1.06027/unit\n",
      "total holding: 9977 at avg buy price: 1.0596380394908291\n",
      "total profit: 13.24548936661614\n",
      "bought 444 units at 1.06006/unit\n",
      "total holding: 10421 at avg buy price: 1.059656017656655\n",
      "total profit: 13.24548936661614\n",
      "sold 558 units at profit: 0.0004339823433450185 avg buy price: 1.059656017656655 current price: 1.06009\n",
      "total holding: 9863 at avg buy price: 1.0596314650714793\n",
      "total profit: 13.48765151420266\n",
      "sold 652 units at profit: 0.0003885349285206452 avg buy price: 1.0596314650714793 current price: 1.06002\n",
      "total holding: 9211 at avg buy price: 1.0596039626533493\n",
      "total profit: 13.740976287598121\n",
      "bought 752 units at 1.06048/unit\n",
      "total holding: 9963 at avg buy price: 1.059670085315668\n",
      "total profit: 13.740976287598121\n",
      "bought 1121 units at 1.06068/unit\n",
      "total holding: 11084 at avg buy price: 1.0597722248285817\n",
      "total profit: 13.740976287598121\n",
      "sold 1792 units at profit: 0.0013977751714182585 avg buy price: 1.0597722248285817 current price: 1.06117\n",
      "total holding: 9292 at avg buy price: 1.0595026582006026\n",
      "total profit: 16.245789394779642\n",
      "bought 1355 units at 1.06139/unit\n",
      "total holding: 10647 at avg buy price: 1.0597428524466985\n",
      "total profit: 16.245789394779642\n",
      "bought 1552 units at 1.0613/unit\n",
      "total holding: 12199 at avg buy price: 1.0599409582752684\n",
      "total profit: 16.245789394779642\n",
      "sold 711 units at profit: 0.0011390417247316709 avg buy price: 1.0599409582752684 current price: 1.06108\n",
      "total holding: 11488 at avg buy price: 1.0598704622214483\n",
      "total profit: 17.05564806106386\n",
      "sold 1066 units at profit: 0.0010295377785516369 avg buy price: 1.0598704622214483 current price: 1.0609\n",
      "total holding: 10422 at avg buy price: 1.0597651573594318\n",
      "total profit: 18.153135332999906\n",
      "sold 1076 units at profit: 0.0010348426405681899 avg buy price: 1.0597651573594318 current price: 1.0608\n",
      "total holding: 9346 at avg buy price: 1.0596460164776373\n",
      "total profit: 19.26662601425128\n",
      "sold 1285 units at profit: 0.0010539835223626337 avg buy price: 1.0596460164776373 current price: 1.0607\n",
      "total holding: 8061 at avg buy price: 1.059478001488649\n",
      "total profit: 20.620994840487263\n",
      "sold 1423 units at profit: 0.001171998511351191 avg buy price: 1.059478001488649 current price: 1.06065\n",
      "total holding: 6638 at avg buy price: 1.0592267580596564\n",
      "total profit: 22.288748722140006\n",
      "sold 1309 units at profit: 0.0011732419403436278 avg buy price: 1.0592267580596564 current price: 1.0604\n",
      "total holding: 5329 at avg buy price: 1.0589385663351472\n",
      "total profit: 23.824522422049814\n",
      "bought 816 units at 1.06051/unit\n",
      "total holding: 6145 at avg buy price: 1.0591472384052074\n",
      "total profit: 23.824522422049814\n",
      "sold 1077 units at profit: 0.0010227615947926427 avg buy price: 1.0591472384052074 current price: 1.06017\n",
      "total holding: 5068 at avg buy price: 1.058929891475927\n",
      "total profit: 24.92603665964149\n",
      "sold 854 units at profit: 0.0012101085240729947 avg buy price: 1.058929891475927 current price: 1.06014\n",
      "total holding: 4214 at avg buy price: 1.0586846535358327\n",
      "total profit: 25.959469339199828\n",
      "bought 1185 units at 1.06022/unit\n",
      "total holding: 5399 at avg buy price: 1.059021639192443\n",
      "total profit: 25.959469339199828\n",
      "bought 1307 units at 1.06043/unit\n",
      "total holding: 6706 at avg buy price: 1.0592961288398448\n",
      "total profit: 25.959469339199828\n",
      "bought 601 units at 1.06058/unit\n",
      "total holding: 7307 at avg buy price: 1.0594017271109895\n",
      "total profit: 25.959469339199828\n",
      "bought 638 units at 1.06057/unit\n",
      "total holding: 7945 at avg buy price: 1.0594955418502203\n",
      "total profit: 25.959469339199828\n",
      "bought 957 units at 1.06062/unit\n",
      "total holding: 8902 at avg buy price: 1.0596164255223546\n",
      "total profit: 25.959469339199828\n",
      "bought 1006 units at 1.06042/unit\n",
      "total holding: 9908 at avg buy price: 1.0596980157448528\n",
      "total profit: 25.959469339199828\n",
      "bought 1951 units at 1.06054/unit\n",
      "total holding: 11859 at avg buy price: 1.0598365359642468\n",
      "total profit: 25.959469339199828\n",
      "bought 2010 units at 1.05981/unit\n",
      "total holding: 13869 at avg buy price: 1.059832690172327\n",
      "total profit: 25.959469339199828\n",
      "bought 2762 units at 1.06107/unit\n",
      "total holding: 16631 at avg buy price: 1.0600381768985632\n",
      "total profit: 25.959469339199828\n",
      "sold 2326 units at profit: 0.00043182310143685676 avg buy price: 1.0600381768985632 current price: 1.06047\n",
      "total holding: 14305 at avg buy price: 1.0599679622509615\n",
      "total profit: 26.963889873141955\n",
      "bought 3310 units at 1.06109/unit\n",
      "total holding: 17615 at avg buy price: 1.0601788021572525\n",
      "total profit: 26.963889873141955\n",
      "bought 2570 units at 1.06118/unit\n",
      "total holding: 20185 at avg buy price: 1.0603062769383207\n",
      "total profit: 26.963889873141955\n",
      "bought 1791 units at 1.0617/unit\n",
      "total holding: 21976 at avg buy price: 1.0604198625773573\n",
      "total profit: 26.963889873141955\n",
      "bought 2593 units at 1.06211/unit\n",
      "total holding: 24569 at avg buy price: 1.0605982388375597\n",
      "total profit: 26.963889873141955\n",
      "bought 1956 units at 1.06249/unit\n",
      "total holding: 26525 at avg buy price: 1.0607377406220548\n",
      "total profit: 26.963889873141955\n",
      "bought 3092 units at 1.06247/unit\n",
      "total holding: 29617 at avg buy price: 1.0609185876354799\n",
      "total profit: 26.963889873141955\n",
      "sold 4388 units at profit: 0.0020014123645202275 avg buy price: 1.0609185876354799 current price: 1.06292\n",
      "total holding: 25229 at avg buy price: 1.0605704883269258\n",
      "total profit: 35.746087328656714\n",
      "sold 2608 units at profit: 0.0018795116730740968 avg buy price: 1.0605704883269258 current price: 1.06245\n",
      "total holding: 22621 at avg buy price: 1.0603537973564394\n",
      "total profit: 40.647853772033955\n",
      "sold 2512 units at profit: 0.0028062026435606846 avg buy price: 1.0603537973564394 current price: 1.06316\n",
      "total holding: 20109 at avg buy price: 1.060003248794073\n",
      "total profit: 47.697034812658394\n",
      "sold 5453 units at profit: 0.0024167512059269924 avg buy price: 1.060003248794073 current price: 1.06242\n",
      "total holding: 14656 at avg buy price: 1.0591040577238\n",
      "total profit: 60.87557913857829\n",
      "sold 4550 units at profit: 0.0030359422762000765 avg buy price: 1.0591040577238 current price: 1.06214\n",
      "total holding: 10106 at avg buy price: 1.0577371927567794\n",
      "total profit: 74.68911649528863\n",
      "bought 4378 units at 1.0623/unit\n",
      "total holding: 14484 at avg buy price: 1.0591163677161013\n",
      "total profit: 74.68911649528863\n",
      "sold 3035 units at profit: 0.0029636322838986207 avg buy price: 1.0591163677161013 current price: 1.06208\n",
      "total holding: 11449 at avg buy price: 1.05833074242292\n",
      "total profit: 83.68374047692095\n",
      "sold 2327 units at profit: 0.0037692575770800207 avg buy price: 1.05833074242292 current price: 1.0621\n",
      "total holding: 9122 at avg buy price: 1.0573692139881619\n",
      "total profit: 92.45480285878615\n",
      "bought 2002 units at 1.06265/unit\n",
      "total holding: 11124 at avg buy price: 1.0583196035598716\n",
      "total profit: 92.45480285878615\n",
      "bought 1455 units at 1.06219/unit\n",
      "total holding: 12579 at avg buy price: 1.0587672883377066\n",
      "total profit: 92.45480285878615\n",
      "sold 2453 units at profit: 0.0030127116622933325 avg buy price: 1.0587672883377066 current price: 1.06178\n",
      "total holding: 10126 at avg buy price: 1.058037465929292\n",
      "total profit: 99.8449845663917\n",
      "sold 2172 units at profit: 0.0031825340707081207 avg buy price: 1.058037465929292 current price: 1.06122\n",
      "total holding: 7954 at avg buy price: 1.0571684108624604\n",
      "total profit: 106.75744856796975\n",
      "sold 3572 units at profit: 0.004021589137539694 avg buy price: 1.0571684108624604 current price: 1.06119\n",
      "total holding: 4382 at avg buy price: 1.053890200821545\n",
      "total profit: 121.12256496726152\n",
      "bought 2211 units at 1.06155/unit\n",
      "total holding: 6593 at avg buy price: 1.056458957985744\n",
      "total profit: 121.12256496726152\n",
      "bought 1812 units at 1.0615/unit\n",
      "total holding: 8405 at avg buy price: 1.0575457358715064\n",
      "total profit: 121.12256496726152\n",
      "sold 1418 units at profit: 0.0030342641284937244 avg buy price: 1.0575457358715064 current price: 1.06058\n",
      "total holding: 6987 at avg buy price: 1.0569299370259067\n",
      "total profit: 125.42515150146562\n",
      "bought 1976 units at 1.06087/unit\n",
      "total holding: 8963 at avg buy price: 1.057798570791031\n",
      "total profit: 125.42515150146562\n",
      "bought 1557 units at 1.06087/unit\n",
      "total holding: 10520 at avg buy price: 1.0582531539923963\n",
      "total profit: 125.42515150146562\n",
      "bought 2923 units at 1.06096/unit\n",
      "total holding: 13443 at avg buy price: 1.058841721341963\n",
      "total profit: 125.42515150146562\n",
      "bought 2181 units at 1.06055/unit\n",
      "total holding: 15624 at avg buy price: 1.0590801849718388\n",
      "total profit: 125.42515150146562\n",
      "bought 2342 units at 1.06083/unit\n",
      "total holding: 17966 at avg buy price: 1.059308286207281\n",
      "total profit: 125.42515150146562\n",
      "bought 2062 units at 1.0613/unit\n",
      "total holding: 20028 at avg buy price: 1.0595133448172562\n",
      "total profit: 125.42515150146562\n",
      "bought 1612 units at 1.06167/unit\n",
      "total holding: 21640 at avg buy price: 1.0596739976894642\n",
      "total profit: 125.42515150146562\n",
      "bought 1905 units at 1.06173/unit\n",
      "total holding: 23545 at avg buy price: 1.0598403465703974\n",
      "total profit: 125.42515150146562\n",
      "bought 2006 units at 1.06181/unit\n",
      "total holding: 25551 at avg buy price: 1.0599949833666005\n",
      "total profit: 125.42515150146562\n",
      "bought 2233 units at 1.06152/unit\n",
      "total holding: 27784 at avg buy price: 1.0601175489490358\n",
      "total profit: 125.42515150146562\n",
      "sold 1140 units at profit: 0.0014424510509642996 avg buy price: 1.0601175489490358 current price: 1.06156\n",
      "total holding: 26644 at avg buy price: 1.0600558317069513\n",
      "total profit: 127.06954569956493\n",
      "sold 1342 units at profit: 0.0009141682930486894 avg buy price: 1.0600558317069513 current price: 1.06097\n",
      "total holding: 25302 at avg buy price: 1.0600073448739236\n",
      "total profit: 128.29635954883628\n",
      "bought 1330 units at 1.06058/unit\n",
      "total holding: 26632 at avg buy price: 1.0600359432261945\n",
      "total profit: 128.29635954883628\n",
      "bought 1909 units at 1.06159/unit\n",
      "total holding: 28541 at avg buy price: 1.0601398882309665\n",
      "total profit: 128.29635954883628\n",
      "sold 2148 units at profit: 0.0011501117690335683 avg buy price: 1.0601398882309665 current price: 1.06129\n",
      "total holding: 26393 at avg buy price: 1.0600462861364761\n",
      "total profit: 130.76679962872038\n",
      "bought 2091 units at 1.06134/unit\n",
      "total holding: 28484 at avg buy price: 1.0601412571970235\n",
      "total profit: 130.76679962872038\n",
      "sold 1692 units at profit: 0.001008742802976581 avg buy price: 1.0601412571970235 current price: 1.06115\n",
      "total holding: 26792 at avg buy price: 1.0600775518811592\n",
      "total profit: 132.47359245135675\n",
      "bought 1965 units at 1.06129/unit\n",
      "total holding: 28757 at avg buy price: 1.060160399902633\n",
      "total profit: 132.47359245135675\n",
      "sold 1528 units at profit: 0.0009396000973669327 avg buy price: 1.060160399902633 current price: 1.0611\n",
      "total holding: 27229 at avg buy price: 1.0601076727018994\n",
      "total profit: 133.90930140013342\n",
      "sold 1926 units at profit: 0.0006723272981006279 avg buy price: 1.0601076727018994 current price: 1.06078\n",
      "total holding: 25303 at avg buy price: 1.0600564968580808\n",
      "total profit: 135.20420377627522\n",
      "bought 2671 units at 1.06098/unit\n",
      "total holding: 27974 at avg buy price: 1.0601446743404597\n",
      "total profit: 135.20420377627522\n",
      "sold 1698 units at profit: 0.0005753256595404377 avg buy price: 1.0601446743404597 current price: 1.06072\n",
      "total holding: 26276 at avg buy price: 1.0601074958136711\n",
      "total profit: 136.1811067461749\n",
      "bought 1964 units at 1.0611/unit\n",
      "total holding: 28240 at avg buy price: 1.0601765212464598\n",
      "total profit: 136.1811067461749\n",
      "bought 1928 units at 1.06099/unit\n",
      "total holding: 30168 at avg buy price: 1.060228509679131\n",
      "total profit: 136.1811067461749\n",
      "bought 3055 units at 1.06085/unit\n",
      "total holding: 33223 at avg buy price: 1.060285658429402\n",
      "total profit: 136.1811067461749\n",
      "bought 1653 units at 1.0613/unit\n",
      "total holding: 34876 at avg buy price: 1.0603337346599389\n",
      "total profit: 136.1811067461749\n",
      "bought 2903 units at 1.06103/unit\n",
      "total holding: 37779 at avg buy price: 1.0603872368246916\n",
      "total profit: 136.1811067461749\n",
      "sold 2323 units at profit: 0.00017276317530834362 avg buy price: 1.0603872368246916 current price: 1.06056\n",
      "total holding: 35456 at avg buy price: 1.060375917757221\n",
      "total profit: 136.58243560241618\n",
      "bought 3400 units at 1.0612/unit\n",
      "total holding: 38856 at avg buy price: 1.0604480270743264\n",
      "total profit: 136.58243560241618\n",
      "bought 3942 units at 1.0603/unit\n",
      "total holding: 42798 at avg buy price: 1.0604343927286328\n",
      "total profit: 136.58243560241618\n"
     ]
    },
    {
     "data": {
      "application/vnd.plotly.v1+json": {
       "config": {
        "plotlyServerURL": "https://plot.ly"
       },
       "data": [
        {
         "hovertemplate": "variable=mid<br>timeStamp=%{x}<br>value=%{y}<extra></extra>",
         "legendgroup": "mid",
         "line": {
          "color": "#636efa",
          "dash": "solid"
         },
         "marker": {
          "symbol": "circle"
         },
         "mode": "lines",
         "name": "mid",
         "orientation": "v",
         "showlegend": true,
         "type": "scatter",
         "x": [
          "2023-03-15 14:20",
          "2023-03-15 14:25",
          "2023-03-15 14:30",
          "2023-03-15 14:35",
          "2023-03-15 14:40",
          "2023-03-15 14:45",
          "2023-03-15 14:50",
          "2023-03-15 14:55",
          "2023-03-15 15:00",
          "2023-03-15 15:05",
          "2023-03-15 15:10",
          "2023-03-15 15:15",
          "2023-03-15 15:20",
          "2023-03-15 15:25",
          "2023-03-15 15:30",
          "2023-03-15 15:35",
          "2023-03-15 15:40",
          "2023-03-15 15:45",
          "2023-03-15 15:50",
          "2023-03-15 15:55",
          "2023-03-15 16:00",
          "2023-03-15 16:05",
          "2023-03-15 16:10",
          "2023-03-15 16:15",
          "2023-03-15 16:20",
          "2023-03-15 16:25",
          "2023-03-15 16:30",
          "2023-03-15 16:35",
          "2023-03-15 16:40",
          "2023-03-15 16:45",
          "2023-03-15 16:50",
          "2023-03-15 16:55",
          "2023-03-15 17:00",
          "2023-03-15 17:05",
          "2023-03-15 17:10",
          "2023-03-15 17:15",
          "2023-03-15 17:20",
          "2023-03-15 17:25",
          "2023-03-15 17:30",
          "2023-03-15 17:35",
          "2023-03-15 17:40",
          "2023-03-15 17:45",
          "2023-03-15 17:50",
          "2023-03-15 17:55",
          "2023-03-15 18:00",
          "2023-03-15 18:05",
          "2023-03-15 18:10",
          "2023-03-15 18:15",
          "2023-03-15 18:20",
          "2023-03-15 18:25",
          "2023-03-15 18:30",
          "2023-03-15 18:35",
          "2023-03-15 18:40",
          "2023-03-15 18:45",
          "2023-03-15 18:50",
          "2023-03-15 18:55",
          "2023-03-15 19:00",
          "2023-03-15 19:05",
          "2023-03-15 19:10",
          "2023-03-15 19:15",
          "2023-03-15 19:20",
          "2023-03-15 19:25",
          "2023-03-15 19:30",
          "2023-03-15 19:35",
          "2023-03-15 19:40",
          "2023-03-15 19:45",
          "2023-03-15 19:50",
          "2023-03-15 19:55",
          "2023-03-15 20:00",
          "2023-03-15 20:05",
          "2023-03-15 20:10",
          "2023-03-15 20:15",
          "2023-03-15 20:20",
          "2023-03-15 20:25",
          "2023-03-15 20:30",
          "2023-03-15 20:35",
          "2023-03-15 20:40",
          "2023-03-15 20:45",
          "2023-03-15 20:50",
          "2023-03-15 20:55",
          "2023-03-15 21:00",
          "2023-03-15 21:05",
          "2023-03-15 21:10",
          "2023-03-15 21:15",
          "2023-03-15 21:30",
          "2023-03-15 21:35",
          "2023-03-15 21:40",
          "2023-03-15 21:45",
          "2023-03-15 21:55",
          "2023-03-15 22:00",
          "2023-03-15 22:05",
          "2023-03-15 22:10",
          "2023-03-15 22:15",
          "2023-03-15 22:20",
          "2023-03-15 22:25",
          "2023-03-15 22:30",
          "2023-03-15 22:35",
          "2023-03-15 22:40",
          "2023-03-15 22:45",
          "2023-03-15 22:50",
          "2023-03-15 22:55",
          "2023-03-15 23:00",
          "2023-03-15 23:05",
          "2023-03-15 23:10",
          "2023-03-15 23:15",
          "2023-03-15 23:20",
          "2023-03-15 23:25",
          "2023-03-15 23:30",
          "2023-03-15 23:35",
          "2023-03-15 23:40",
          "2023-03-15 23:45",
          "2023-03-15 23:50",
          "2023-03-15 23:55",
          "2023-03-16 00:00",
          "2023-03-16 00:05",
          "2023-03-16 00:10",
          "2023-03-16 00:15",
          "2023-03-16 00:20",
          "2023-03-16 00:25",
          "2023-03-16 00:30",
          "2023-03-16 00:35",
          "2023-03-16 00:40",
          "2023-03-16 00:45",
          "2023-03-16 00:50",
          "2023-03-16 00:55",
          "2023-03-16 01:00",
          "2023-03-16 01:05",
          "2023-03-16 01:10",
          "2023-03-16 01:15",
          "2023-03-16 01:20",
          "2023-03-16 01:25",
          "2023-03-16 01:30",
          "2023-03-16 01:35",
          "2023-03-16 01:40",
          "2023-03-16 01:45",
          "2023-03-16 01:50",
          "2023-03-16 01:55",
          "2023-03-16 02:00",
          "2023-03-16 02:05",
          "2023-03-16 02:10",
          "2023-03-16 02:15",
          "2023-03-16 02:20",
          "2023-03-16 02:25",
          "2023-03-16 02:30",
          "2023-03-16 02:35",
          "2023-03-16 02:40",
          "2023-03-16 02:45",
          "2023-03-16 02:50",
          "2023-03-16 02:55",
          "2023-03-16 03:00",
          "2023-03-16 03:05",
          "2023-03-16 03:10",
          "2023-03-16 03:15",
          "2023-03-16 03:20",
          "2023-03-16 03:25",
          "2023-03-16 03:30",
          "2023-03-16 03:35",
          "2023-03-16 03:40",
          "2023-03-16 03:45",
          "2023-03-16 03:50",
          "2023-03-16 03:55",
          "2023-03-16 04:00",
          "2023-03-16 04:05",
          "2023-03-16 04:10",
          "2023-03-16 04:15",
          "2023-03-16 04:20",
          "2023-03-16 04:25",
          "2023-03-16 04:30",
          "2023-03-16 04:35",
          "2023-03-16 04:40",
          "2023-03-16 04:45",
          "2023-03-16 04:50",
          "2023-03-16 04:55",
          "2023-03-16 05:00",
          "2023-03-16 05:05",
          "2023-03-16 05:10",
          "2023-03-16 05:15",
          "2023-03-16 05:20",
          "2023-03-16 05:25",
          "2023-03-16 05:30",
          "2023-03-16 05:35",
          "2023-03-16 05:40",
          "2023-03-16 05:45",
          "2023-03-16 05:50",
          "2023-03-16 05:55",
          "2023-03-16 06:00",
          "2023-03-16 06:05",
          "2023-03-16 06:10",
          "2023-03-16 06:15",
          "2023-03-16 06:20",
          "2023-03-16 06:25",
          "2023-03-16 06:30",
          "2023-03-16 06:35",
          "2023-03-16 06:40",
          "2023-03-16 06:45",
          "2023-03-16 06:50",
          "2023-03-16 06:55",
          "2023-03-16 07:00",
          "2023-03-16 07:05",
          "2023-03-16 07:10",
          "2023-03-16 07:15",
          "2023-03-16 07:20",
          "2023-03-16 07:25",
          "2023-03-16 07:30",
          "2023-03-16 07:35",
          "2023-03-16 07:40",
          "2023-03-16 07:45",
          "2023-03-16 07:50",
          "2023-03-16 07:55",
          "2023-03-16 08:00",
          "2023-03-16 08:05",
          "2023-03-16 08:10",
          "2023-03-16 08:15",
          "2023-03-16 08:20",
          "2023-03-16 08:25",
          "2023-03-16 08:30",
          "2023-03-16 08:35",
          "2023-03-16 08:40",
          "2023-03-16 08:45",
          "2023-03-16 08:50",
          "2023-03-16 08:55",
          "2023-03-16 09:00",
          "2023-03-16 09:05",
          "2023-03-16 09:10",
          "2023-03-16 09:15",
          "2023-03-16 09:20",
          "2023-03-16 09:25",
          "2023-03-16 09:30",
          "2023-03-16 09:35",
          "2023-03-16 09:40",
          "2023-03-16 09:45",
          "2023-03-16 09:50",
          "2023-03-16 09:55",
          "2023-03-16 10:00",
          "2023-03-16 10:05",
          "2023-03-16 10:10",
          "2023-03-16 10:15",
          "2023-03-16 10:20",
          "2023-03-16 10:25",
          "2023-03-16 10:30",
          "2023-03-16 10:35",
          "2023-03-16 10:40",
          "2023-03-16 10:45",
          "2023-03-16 10:50",
          "2023-03-16 10:55",
          "2023-03-16 11:00",
          "2023-03-16 11:05",
          "2023-03-16 11:10",
          "2023-03-16 11:15",
          "2023-03-16 11:20",
          "2023-03-16 11:25",
          "2023-03-16 11:30",
          "2023-03-16 11:35",
          "2023-03-16 11:40",
          "2023-03-16 11:45",
          "2023-03-16 11:50",
          "2023-03-16 11:55",
          "2023-03-16 12:00",
          "2023-03-16 12:05",
          "2023-03-16 12:10",
          "2023-03-16 12:15",
          "2023-03-16 12:20",
          "2023-03-16 12:25",
          "2023-03-16 12:30",
          "2023-03-16 12:35",
          "2023-03-16 12:40",
          "2023-03-16 12:45",
          "2023-03-16 12:50",
          "2023-03-16 12:55",
          "2023-03-16 13:00",
          "2023-03-16 13:05",
          "2023-03-16 13:10",
          "2023-03-16 13:15",
          "2023-03-16 13:20",
          "2023-03-16 13:25",
          "2023-03-16 13:30",
          "2023-03-16 13:35",
          "2023-03-16 13:40",
          "2023-03-16 13:45",
          "2023-03-16 13:50",
          "2023-03-16 13:55",
          "2023-03-16 14:00",
          "2023-03-16 14:05",
          "2023-03-16 14:10",
          "2023-03-16 14:15",
          "2023-03-16 14:20",
          "2023-03-16 14:25"
         ],
         "xaxis": "x",
         "y": [
          1.05566,
          1.05555,
          1.0553,
          1.0548,
          1.05428,
          1.05333,
          1.05422,
          1.05471,
          1.05385,
          1.05458,
          1.05427,
          1.05444,
          1.05356,
          1.05335,
          1.05262,
          1.05236,
          1.05223,
          1.05269,
          1.05282,
          1.05338,
          1.05286,
          1.05337,
          1.05367,
          1.05312,
          1.05374,
          1.05413,
          1.0541,
          1.05388,
          1.05424,
          1.05451,
          1.05453,
          1.0542,
          1.05478,
          1.05533,
          1.05531,
          1.05532,
          1.05532,
          1.05583,
          1.05605,
          1.05554,
          1.05522,
          1.05538,
          1.05543,
          1.05566,
          1.05588,
          1.05546,
          1.05528,
          1.05494,
          1.05547,
          1.05783,
          1.05808,
          1.05753,
          1.05823,
          1.05814,
          1.05853,
          1.05855,
          1.05919,
          1.05848,
          1.05824,
          1.05812,
          1.05822,
          1.05861,
          1.05847,
          1.05818,
          1.05795,
          1.05777,
          1.0576,
          1.05801,
          1.05805,
          1.05818,
          1.05803,
          1.05784,
          1.05772,
          1.05762,
          1.0575,
          1.05765,
          1.05751,
          1.05749,
          1.0576,
          1.0577,
          1.05767,
          1.05774,
          1.05768,
          1.05768,
          1.05769,
          1.05769,
          1.05767,
          1.05767,
          1.05766,
          1.05766,
          1.05741,
          1.0579,
          1.05796,
          1.05801,
          1.0578,
          1.05787,
          1.05794,
          1.05799,
          1.0578,
          1.05783,
          1.0578,
          1.05809,
          1.05836,
          1.05856,
          1.05857,
          1.05876,
          1.05856,
          1.05873,
          1.05867,
          1.05875,
          1.05851,
          1.05846,
          1.05814,
          1.05788,
          1.05814,
          1.05778,
          1.058,
          1.05791,
          1.05811,
          1.0581,
          1.05822,
          1.0583,
          1.05873,
          1.05948,
          1.05895,
          1.05916,
          1.05958,
          1.05922,
          1.05901,
          1.05908,
          1.059,
          1.05867,
          1.05936,
          1.05894,
          1.05941,
          1.05939,
          1.05936,
          1.059,
          1.05952,
          1.05888,
          1.05929,
          1.05899,
          1.05906,
          1.05902,
          1.05941,
          1.05922,
          1.05911,
          1.05929,
          1.05923,
          1.05913,
          1.05903,
          1.05901,
          1.05907,
          1.05944,
          1.05966,
          1.05959,
          1.05952,
          1.05947,
          1.05955,
          1.0595,
          1.05985,
          1.05988,
          1.05993,
          1.06002,
          1.05995,
          1.06001,
          1.05998,
          1.05977,
          1.05989,
          1.05989,
          1.06009,
          1.0602,
          1.06027,
          1.06006,
          1.06009,
          1.06002,
          1.06048,
          1.06068,
          1.06117,
          1.06139,
          1.0613,
          1.06108,
          1.0609,
          1.0608,
          1.0607,
          1.06065,
          1.0604,
          1.06051,
          1.06017,
          1.06014,
          1.06022,
          1.06043,
          1.06058,
          1.06057,
          1.06062,
          1.06042,
          1.06054,
          1.05981,
          1.05992,
          1.0601,
          1.06045,
          1.06107,
          1.06047,
          1.06109,
          1.06118,
          1.0617,
          1.06211,
          1.06249,
          1.06247,
          1.06292,
          1.06245,
          1.06316,
          1.06242,
          1.06214,
          1.0623,
          1.06208,
          1.0621,
          1.06265,
          1.06219,
          1.06178,
          1.06122,
          1.06119,
          1.06155,
          1.0615,
          1.06058,
          1.06087,
          1.06087,
          1.06096,
          1.06055,
          1.06083,
          1.0613,
          1.06167,
          1.06173,
          1.06181,
          1.06152,
          1.06156,
          1.06097,
          1.06058,
          1.06067,
          1.06031,
          1.0603,
          1.0606,
          1.06065,
          1.0606,
          1.06159,
          1.06129,
          1.06134,
          1.06115,
          1.06129,
          1.0611,
          1.06078,
          1.06098,
          1.06072,
          1.0611,
          1.06099,
          1.06085,
          1.0613,
          1.06103,
          1.06056,
          1.06035,
          1.06101,
          1.0612,
          1.06159,
          1.06141,
          1.06196,
          1.05877,
          1.05967,
          1.05984,
          1.05878,
          1.05903,
          1.05968,
          1.05958,
          1.05989,
          1.05561,
          1.05759,
          1.05778,
          1.05818,
          1.0589,
          1.05886,
          1.0603,
          1.06064,
          1.05917,
          1.05909,
          1.05997,
          1.05862,
          1.05813,
          1.05775
         ],
         "yaxis": "y"
        },
        {
         "hovertemplate": "variable=quoteSize<br>timeStamp=%{x}<br>value=%{y}<extra></extra>",
         "legendgroup": "quoteSize",
         "line": {
          "color": "#EF553B",
          "dash": "solid"
         },
         "marker": {
          "symbol": "circle"
         },
         "mode": "lines",
         "name": "quoteSize",
         "orientation": "v",
         "showlegend": true,
         "type": "scatter",
         "x": [
          "2023-03-15 14:20",
          "2023-03-15 14:25",
          "2023-03-15 14:30",
          "2023-03-15 14:35",
          "2023-03-15 14:40",
          "2023-03-15 14:45",
          "2023-03-15 14:50",
          "2023-03-15 14:55",
          "2023-03-15 15:00",
          "2023-03-15 15:05",
          "2023-03-15 15:10",
          "2023-03-15 15:15",
          "2023-03-15 15:20",
          "2023-03-15 15:25",
          "2023-03-15 15:30",
          "2023-03-15 15:35",
          "2023-03-15 15:40",
          "2023-03-15 15:45",
          "2023-03-15 15:50",
          "2023-03-15 15:55",
          "2023-03-15 16:00",
          "2023-03-15 16:05",
          "2023-03-15 16:10",
          "2023-03-15 16:15",
          "2023-03-15 16:20",
          "2023-03-15 16:25",
          "2023-03-15 16:30",
          "2023-03-15 16:35",
          "2023-03-15 16:40",
          "2023-03-15 16:45",
          "2023-03-15 16:50",
          "2023-03-15 16:55",
          "2023-03-15 17:00",
          "2023-03-15 17:05",
          "2023-03-15 17:10",
          "2023-03-15 17:15",
          "2023-03-15 17:20",
          "2023-03-15 17:25",
          "2023-03-15 17:30",
          "2023-03-15 17:35",
          "2023-03-15 17:40",
          "2023-03-15 17:45",
          "2023-03-15 17:50",
          "2023-03-15 17:55",
          "2023-03-15 18:00",
          "2023-03-15 18:05",
          "2023-03-15 18:10",
          "2023-03-15 18:15",
          "2023-03-15 18:20",
          "2023-03-15 18:25",
          "2023-03-15 18:30",
          "2023-03-15 18:35",
          "2023-03-15 18:40",
          "2023-03-15 18:45",
          "2023-03-15 18:50",
          "2023-03-15 18:55",
          "2023-03-15 19:00",
          "2023-03-15 19:05",
          "2023-03-15 19:10",
          "2023-03-15 19:15",
          "2023-03-15 19:20",
          "2023-03-15 19:25",
          "2023-03-15 19:30",
          "2023-03-15 19:35",
          "2023-03-15 19:40",
          "2023-03-15 19:45",
          "2023-03-15 19:50",
          "2023-03-15 19:55",
          "2023-03-15 20:00",
          "2023-03-15 20:05",
          "2023-03-15 20:10",
          "2023-03-15 20:15",
          "2023-03-15 20:20",
          "2023-03-15 20:25",
          "2023-03-15 20:30",
          "2023-03-15 20:35",
          "2023-03-15 20:40",
          "2023-03-15 20:45",
          "2023-03-15 20:50",
          "2023-03-15 20:55",
          "2023-03-15 21:00",
          "2023-03-15 21:05",
          "2023-03-15 21:10",
          "2023-03-15 21:15",
          "2023-03-15 21:30",
          "2023-03-15 21:35",
          "2023-03-15 21:40",
          "2023-03-15 21:45",
          "2023-03-15 21:55",
          "2023-03-15 22:00",
          "2023-03-15 22:05",
          "2023-03-15 22:10",
          "2023-03-15 22:15",
          "2023-03-15 22:20",
          "2023-03-15 22:25",
          "2023-03-15 22:30",
          "2023-03-15 22:35",
          "2023-03-15 22:40",
          "2023-03-15 22:45",
          "2023-03-15 22:50",
          "2023-03-15 22:55",
          "2023-03-15 23:00",
          "2023-03-15 23:05",
          "2023-03-15 23:10",
          "2023-03-15 23:15",
          "2023-03-15 23:20",
          "2023-03-15 23:25",
          "2023-03-15 23:30",
          "2023-03-15 23:35",
          "2023-03-15 23:40",
          "2023-03-15 23:45",
          "2023-03-15 23:50",
          "2023-03-15 23:55",
          "2023-03-16 00:00",
          "2023-03-16 00:05",
          "2023-03-16 00:10",
          "2023-03-16 00:15",
          "2023-03-16 00:20",
          "2023-03-16 00:25",
          "2023-03-16 00:30",
          "2023-03-16 00:35",
          "2023-03-16 00:40",
          "2023-03-16 00:45",
          "2023-03-16 00:50",
          "2023-03-16 00:55",
          "2023-03-16 01:00",
          "2023-03-16 01:05",
          "2023-03-16 01:10",
          "2023-03-16 01:15",
          "2023-03-16 01:20",
          "2023-03-16 01:25",
          "2023-03-16 01:30",
          "2023-03-16 01:35",
          "2023-03-16 01:40",
          "2023-03-16 01:45",
          "2023-03-16 01:50",
          "2023-03-16 01:55",
          "2023-03-16 02:00",
          "2023-03-16 02:05",
          "2023-03-16 02:10",
          "2023-03-16 02:15",
          "2023-03-16 02:20",
          "2023-03-16 02:25",
          "2023-03-16 02:30",
          "2023-03-16 02:35",
          "2023-03-16 02:40",
          "2023-03-16 02:45",
          "2023-03-16 02:50",
          "2023-03-16 02:55",
          "2023-03-16 03:00",
          "2023-03-16 03:05",
          "2023-03-16 03:10",
          "2023-03-16 03:15",
          "2023-03-16 03:20",
          "2023-03-16 03:25",
          "2023-03-16 03:30",
          "2023-03-16 03:35",
          "2023-03-16 03:40",
          "2023-03-16 03:45",
          "2023-03-16 03:50",
          "2023-03-16 03:55",
          "2023-03-16 04:00",
          "2023-03-16 04:05",
          "2023-03-16 04:10",
          "2023-03-16 04:15",
          "2023-03-16 04:20",
          "2023-03-16 04:25",
          "2023-03-16 04:30",
          "2023-03-16 04:35",
          "2023-03-16 04:40",
          "2023-03-16 04:45",
          "2023-03-16 04:50",
          "2023-03-16 04:55",
          "2023-03-16 05:00",
          "2023-03-16 05:05",
          "2023-03-16 05:10",
          "2023-03-16 05:15",
          "2023-03-16 05:20",
          "2023-03-16 05:25",
          "2023-03-16 05:30",
          "2023-03-16 05:35",
          "2023-03-16 05:40",
          "2023-03-16 05:45",
          "2023-03-16 05:50",
          "2023-03-16 05:55",
          "2023-03-16 06:00",
          "2023-03-16 06:05",
          "2023-03-16 06:10",
          "2023-03-16 06:15",
          "2023-03-16 06:20",
          "2023-03-16 06:25",
          "2023-03-16 06:30",
          "2023-03-16 06:35",
          "2023-03-16 06:40",
          "2023-03-16 06:45",
          "2023-03-16 06:50",
          "2023-03-16 06:55",
          "2023-03-16 07:00",
          "2023-03-16 07:05",
          "2023-03-16 07:10",
          "2023-03-16 07:15",
          "2023-03-16 07:20",
          "2023-03-16 07:25",
          "2023-03-16 07:30",
          "2023-03-16 07:35",
          "2023-03-16 07:40",
          "2023-03-16 07:45",
          "2023-03-16 07:50",
          "2023-03-16 07:55",
          "2023-03-16 08:00",
          "2023-03-16 08:05",
          "2023-03-16 08:10",
          "2023-03-16 08:15",
          "2023-03-16 08:20",
          "2023-03-16 08:25",
          "2023-03-16 08:30",
          "2023-03-16 08:35",
          "2023-03-16 08:40",
          "2023-03-16 08:45",
          "2023-03-16 08:50",
          "2023-03-16 08:55",
          "2023-03-16 09:00",
          "2023-03-16 09:05",
          "2023-03-16 09:10",
          "2023-03-16 09:15",
          "2023-03-16 09:20",
          "2023-03-16 09:25",
          "2023-03-16 09:30",
          "2023-03-16 09:35",
          "2023-03-16 09:40",
          "2023-03-16 09:45",
          "2023-03-16 09:50",
          "2023-03-16 09:55",
          "2023-03-16 10:00",
          "2023-03-16 10:05",
          "2023-03-16 10:10",
          "2023-03-16 10:15",
          "2023-03-16 10:20",
          "2023-03-16 10:25",
          "2023-03-16 10:30",
          "2023-03-16 10:35",
          "2023-03-16 10:40",
          "2023-03-16 10:45",
          "2023-03-16 10:50",
          "2023-03-16 10:55",
          "2023-03-16 11:00",
          "2023-03-16 11:05",
          "2023-03-16 11:10",
          "2023-03-16 11:15",
          "2023-03-16 11:20",
          "2023-03-16 11:25",
          "2023-03-16 11:30",
          "2023-03-16 11:35",
          "2023-03-16 11:40",
          "2023-03-16 11:45",
          "2023-03-16 11:50",
          "2023-03-16 11:55",
          "2023-03-16 12:00",
          "2023-03-16 12:05",
          "2023-03-16 12:10",
          "2023-03-16 12:15",
          "2023-03-16 12:20",
          "2023-03-16 12:25",
          "2023-03-16 12:30",
          "2023-03-16 12:35",
          "2023-03-16 12:40",
          "2023-03-16 12:45",
          "2023-03-16 12:50",
          "2023-03-16 12:55",
          "2023-03-16 13:00",
          "2023-03-16 13:05",
          "2023-03-16 13:10",
          "2023-03-16 13:15",
          "2023-03-16 13:20",
          "2023-03-16 13:25",
          "2023-03-16 13:30",
          "2023-03-16 13:35",
          "2023-03-16 13:40",
          "2023-03-16 13:45",
          "2023-03-16 13:50",
          "2023-03-16 13:55",
          "2023-03-16 14:00",
          "2023-03-16 14:05",
          "2023-03-16 14:10",
          "2023-03-16 14:15",
          "2023-03-16 14:20",
          "2023-03-16 14:25"
         ],
         "xaxis": "x",
         "y": [
          5173,
          4839,
          4755,
          4286,
          3155,
          4030,
          2864,
          2140,
          2503,
          3077,
          3651,
          3818,
          3703,
          2671,
          1903,
          2202,
          2604,
          2996,
          4578,
          2059,
          2733,
          3226,
          2819,
          2153,
          2629,
          3665,
          3708,
          2483,
          1769,
          2973,
          2727,
          3132,
          2441,
          4342,
          4896,
          5123,
          4191,
          3726,
          3526,
          2897,
          3048,
          3253,
          3475,
          2924,
          2165,
          2886,
          1976,
          1734,
          2820,
          6582,
          8716,
          5443,
          7995,
          5014,
          5226,
          5052,
          3567,
          3741,
          5772,
          4707,
          5659,
          4190,
          4164,
          3317,
          3540,
          4457,
          2670,
          1990,
          1634,
          737,
          526,
          737,
          387,
          1253,
          1524,
          862,
          464,
          636,
          601,
          664,
          20,
          14,
          30,
          7,
          4,
          6,
          2,
          3,
          168,
          353,
          249,
          489,
          634,
          568,
          631,
          606,
          638,
          514,
          505,
          381,
          193,
          854,
          1252,
          573,
          701,
          847,
          580,
          322,
          708,
          360,
          1240,
          1339,
          1150,
          1476,
          1079,
          900,
          1957,
          1650,
          1296,
          2140,
          1187,
          1230,
          2422,
          4796,
          2735,
          3072,
          2870,
          2810,
          2450,
          1609,
          1383,
          2108,
          1360,
          2105,
          1505,
          1480,
          932,
          949,
          2088,
          2063,
          1165,
          1119,
          1062,
          1932,
          1356,
          1845,
          967,
          956,
          939,
          1194,
          1349,
          1220,
          572,
          1150,
          1067,
          1208,
          1133,
          800,
          1088,
          855,
          896,
          1151,
          1388,
          1170,
          801,
          1071,
          920,
          601,
          536,
          387,
          505,
          584,
          320,
          444,
          558,
          652,
          752,
          1121,
          1792,
          1355,
          1552,
          711,
          1066,
          1076,
          1285,
          1423,
          1309,
          816,
          1077,
          854,
          1185,
          1307,
          601,
          638,
          957,
          1006,
          1951,
          2010,
          2143,
          1674,
          1721,
          2762,
          2326,
          3310,
          2570,
          1791,
          2593,
          1956,
          3092,
          4388,
          2608,
          2512,
          5453,
          4550,
          4378,
          3035,
          2327,
          2002,
          1455,
          2453,
          2172,
          3572,
          2211,
          1812,
          1418,
          1976,
          1557,
          2923,
          2181,
          2342,
          2062,
          1612,
          1905,
          2006,
          2233,
          1140,
          1342,
          1330,
          1547,
          2065,
          2050,
          1384,
          1059,
          1080,
          1909,
          2148,
          2091,
          1692,
          1965,
          1528,
          1926,
          2671,
          1698,
          1964,
          1928,
          3055,
          1653,
          2903,
          2323,
          1851,
          1978,
          3400,
          3359,
          6464,
          3595,
          6613,
          8313,
          6271,
          4457,
          3662,
          3181,
          3781,
          7886,
          6514,
          6686,
          7790,
          6752,
          3898,
          3257,
          3942,
          3911,
          4826,
          3946,
          3604,
          2994,
          3636,
          2533
         ],
         "yaxis": "y"
        },
        {
         "hovertemplate": "variable=amount<br>timeStamp=%{x}<br>value=%{y}<extra></extra>",
         "legendgroup": "amount",
         "line": {
          "color": "#00cc96",
          "dash": "solid"
         },
         "marker": {
          "symbol": "circle"
         },
         "mode": "lines",
         "name": "amount",
         "orientation": "v",
         "showlegend": true,
         "type": "scatter",
         "x": [
          "2023-03-15 14:20",
          "2023-03-15 14:25",
          "2023-03-15 14:30",
          "2023-03-15 14:35",
          "2023-03-15 14:40",
          "2023-03-15 14:45",
          "2023-03-15 14:50",
          "2023-03-15 14:55",
          "2023-03-15 15:00",
          "2023-03-15 15:05",
          "2023-03-15 15:10",
          "2023-03-15 15:15",
          "2023-03-15 15:20",
          "2023-03-15 15:25",
          "2023-03-15 15:30",
          "2023-03-15 15:35",
          "2023-03-15 15:40",
          "2023-03-15 15:45",
          "2023-03-15 15:50",
          "2023-03-15 15:55",
          "2023-03-15 16:00",
          "2023-03-15 16:05",
          "2023-03-15 16:10",
          "2023-03-15 16:15",
          "2023-03-15 16:20",
          "2023-03-15 16:25",
          "2023-03-15 16:30",
          "2023-03-15 16:35",
          "2023-03-15 16:40",
          "2023-03-15 16:45",
          "2023-03-15 16:50",
          "2023-03-15 16:55",
          "2023-03-15 17:00",
          "2023-03-15 17:05",
          "2023-03-15 17:10",
          "2023-03-15 17:15",
          "2023-03-15 17:20",
          "2023-03-15 17:25",
          "2023-03-15 17:30",
          "2023-03-15 17:35",
          "2023-03-15 17:40",
          "2023-03-15 17:45",
          "2023-03-15 17:50",
          "2023-03-15 17:55",
          "2023-03-15 18:00",
          "2023-03-15 18:05",
          "2023-03-15 18:10",
          "2023-03-15 18:15",
          "2023-03-15 18:20",
          "2023-03-15 18:25",
          "2023-03-15 18:30",
          "2023-03-15 18:35",
          "2023-03-15 18:40",
          "2023-03-15 18:45",
          "2023-03-15 18:50",
          "2023-03-15 18:55",
          "2023-03-15 19:00",
          "2023-03-15 19:05",
          "2023-03-15 19:10",
          "2023-03-15 19:15",
          "2023-03-15 19:20",
          "2023-03-15 19:25",
          "2023-03-15 19:30",
          "2023-03-15 19:35",
          "2023-03-15 19:40",
          "2023-03-15 19:45",
          "2023-03-15 19:50",
          "2023-03-15 19:55",
          "2023-03-15 20:00",
          "2023-03-15 20:05",
          "2023-03-15 20:10",
          "2023-03-15 20:15",
          "2023-03-15 20:20",
          "2023-03-15 20:25",
          "2023-03-15 20:30",
          "2023-03-15 20:35",
          "2023-03-15 20:40",
          "2023-03-15 20:45",
          "2023-03-15 20:50",
          "2023-03-15 20:55",
          "2023-03-15 21:00",
          "2023-03-15 21:05",
          "2023-03-15 21:10",
          "2023-03-15 21:15",
          "2023-03-15 21:30",
          "2023-03-15 21:35",
          "2023-03-15 21:40",
          "2023-03-15 21:45",
          "2023-03-15 21:55",
          "2023-03-15 22:00",
          "2023-03-15 22:05",
          "2023-03-15 22:10",
          "2023-03-15 22:15",
          "2023-03-15 22:20",
          "2023-03-15 22:25",
          "2023-03-15 22:30",
          "2023-03-15 22:35",
          "2023-03-15 22:40",
          "2023-03-15 22:45",
          "2023-03-15 22:50",
          "2023-03-15 22:55",
          "2023-03-15 23:00",
          "2023-03-15 23:05",
          "2023-03-15 23:10",
          "2023-03-15 23:15",
          "2023-03-15 23:20",
          "2023-03-15 23:25",
          "2023-03-15 23:30",
          "2023-03-15 23:35",
          "2023-03-15 23:40",
          "2023-03-15 23:45",
          "2023-03-15 23:50",
          "2023-03-15 23:55",
          "2023-03-16 00:00",
          "2023-03-16 00:05",
          "2023-03-16 00:10",
          "2023-03-16 00:15",
          "2023-03-16 00:20",
          "2023-03-16 00:25",
          "2023-03-16 00:30",
          "2023-03-16 00:35",
          "2023-03-16 00:40",
          "2023-03-16 00:45",
          "2023-03-16 00:50",
          "2023-03-16 00:55",
          "2023-03-16 01:00",
          "2023-03-16 01:05",
          "2023-03-16 01:10",
          "2023-03-16 01:15",
          "2023-03-16 01:20",
          "2023-03-16 01:25",
          "2023-03-16 01:30",
          "2023-03-16 01:35",
          "2023-03-16 01:40",
          "2023-03-16 01:45",
          "2023-03-16 01:50",
          "2023-03-16 01:55",
          "2023-03-16 02:00",
          "2023-03-16 02:05",
          "2023-03-16 02:10",
          "2023-03-16 02:15",
          "2023-03-16 02:20",
          "2023-03-16 02:25",
          "2023-03-16 02:30",
          "2023-03-16 02:35",
          "2023-03-16 02:40",
          "2023-03-16 02:45",
          "2023-03-16 02:50",
          "2023-03-16 02:55",
          "2023-03-16 03:00",
          "2023-03-16 03:05",
          "2023-03-16 03:10",
          "2023-03-16 03:15",
          "2023-03-16 03:20",
          "2023-03-16 03:25",
          "2023-03-16 03:30",
          "2023-03-16 03:35",
          "2023-03-16 03:40",
          "2023-03-16 03:45",
          "2023-03-16 03:50",
          "2023-03-16 03:55",
          "2023-03-16 04:00",
          "2023-03-16 04:05",
          "2023-03-16 04:10",
          "2023-03-16 04:15",
          "2023-03-16 04:20",
          "2023-03-16 04:25",
          "2023-03-16 04:30",
          "2023-03-16 04:35",
          "2023-03-16 04:40",
          "2023-03-16 04:45",
          "2023-03-16 04:50",
          "2023-03-16 04:55",
          "2023-03-16 05:00",
          "2023-03-16 05:05",
          "2023-03-16 05:10",
          "2023-03-16 05:15",
          "2023-03-16 05:20",
          "2023-03-16 05:25",
          "2023-03-16 05:30",
          "2023-03-16 05:35",
          "2023-03-16 05:40",
          "2023-03-16 05:45",
          "2023-03-16 05:50",
          "2023-03-16 05:55",
          "2023-03-16 06:00",
          "2023-03-16 06:05",
          "2023-03-16 06:10",
          "2023-03-16 06:15",
          "2023-03-16 06:20",
          "2023-03-16 06:25",
          "2023-03-16 06:30",
          "2023-03-16 06:35",
          "2023-03-16 06:40",
          "2023-03-16 06:45",
          "2023-03-16 06:50",
          "2023-03-16 06:55",
          "2023-03-16 07:00",
          "2023-03-16 07:05",
          "2023-03-16 07:10",
          "2023-03-16 07:15",
          "2023-03-16 07:20",
          "2023-03-16 07:25",
          "2023-03-16 07:30",
          "2023-03-16 07:35",
          "2023-03-16 07:40",
          "2023-03-16 07:45",
          "2023-03-16 07:50",
          "2023-03-16 07:55",
          "2023-03-16 08:00",
          "2023-03-16 08:05",
          "2023-03-16 08:10",
          "2023-03-16 08:15",
          "2023-03-16 08:20",
          "2023-03-16 08:25",
          "2023-03-16 08:30",
          "2023-03-16 08:35",
          "2023-03-16 08:40",
          "2023-03-16 08:45",
          "2023-03-16 08:50",
          "2023-03-16 08:55",
          "2023-03-16 09:00",
          "2023-03-16 09:05",
          "2023-03-16 09:10",
          "2023-03-16 09:15",
          "2023-03-16 09:20",
          "2023-03-16 09:25",
          "2023-03-16 09:30",
          "2023-03-16 09:35",
          "2023-03-16 09:40",
          "2023-03-16 09:45",
          "2023-03-16 09:50",
          "2023-03-16 09:55",
          "2023-03-16 10:00",
          "2023-03-16 10:05",
          "2023-03-16 10:10",
          "2023-03-16 10:15",
          "2023-03-16 10:20",
          "2023-03-16 10:25",
          "2023-03-16 10:30",
          "2023-03-16 10:35",
          "2023-03-16 10:40",
          "2023-03-16 10:45",
          "2023-03-16 10:50",
          "2023-03-16 10:55",
          "2023-03-16 11:00",
          "2023-03-16 11:05",
          "2023-03-16 11:10",
          "2023-03-16 11:15",
          "2023-03-16 11:20",
          "2023-03-16 11:25",
          "2023-03-16 11:30",
          "2023-03-16 11:35",
          "2023-03-16 11:40",
          "2023-03-16 11:45",
          "2023-03-16 11:50",
          "2023-03-16 11:55",
          "2023-03-16 12:00",
          "2023-03-16 12:05",
          "2023-03-16 12:10",
          "2023-03-16 12:15",
          "2023-03-16 12:20",
          "2023-03-16 12:25",
          "2023-03-16 12:30",
          "2023-03-16 12:35",
          "2023-03-16 12:40",
          "2023-03-16 12:45",
          "2023-03-16 12:50",
          "2023-03-16 12:55",
          "2023-03-16 13:00",
          "2023-03-16 13:05",
          "2023-03-16 13:10",
          "2023-03-16 13:15",
          "2023-03-16 13:20",
          "2023-03-16 13:25",
          "2023-03-16 13:30",
          "2023-03-16 13:35",
          "2023-03-16 13:40",
          "2023-03-16 13:45",
          "2023-03-16 13:50",
          "2023-03-16 13:55",
          "2023-03-16 14:00",
          "2023-03-16 14:05",
          "2023-03-16 14:10",
          "2023-03-16 14:15",
          "2023-03-16 14:20",
          "2023-03-16 14:25"
         ],
         "xaxis": "x",
         "y": [
          0,
          0,
          0,
          0,
          0,
          0,
          0,
          0,
          0,
          0,
          0,
          0,
          0,
          0,
          1903,
          0,
          0,
          0,
          0,
          0,
          0,
          0,
          0,
          0,
          0,
          0,
          0,
          0,
          0,
          1903,
          0,
          0,
          0,
          4342,
          0,
          0,
          0,
          0,
          0,
          0,
          0,
          0,
          0,
          0,
          0,
          2886,
          0,
          0,
          0,
          0,
          0,
          0,
          0,
          1456,
          0,
          0,
          0,
          0,
          0,
          0,
          0,
          0,
          0,
          0,
          0,
          0,
          0,
          0,
          0,
          0,
          0,
          0,
          0,
          0,
          0,
          0,
          0,
          0,
          0,
          0,
          0,
          0,
          0,
          0,
          0,
          0,
          0,
          0,
          0,
          0,
          0,
          0,
          0,
          568,
          0,
          606,
          0,
          0,
          0,
          0,
          0,
          854,
          1252,
          573,
          701,
          847,
          580,
          322,
          708,
          360,
          889,
          0,
          0,
          0,
          0,
          0,
          0,
          0,
          0,
          0,
          0,
          0,
          2422,
          0,
          0,
          0,
          0,
          0,
          0,
          0,
          0,
          0,
          0,
          2105,
          1505,
          1480,
          932,
          0,
          2088,
          0,
          0,
          0,
          0,
          0,
          0,
          0,
          0,
          0,
          0,
          0,
          0,
          0,
          0,
          0,
          1067,
          1208,
          1133,
          800,
          1088,
          855,
          896,
          1151,
          1388,
          1170,
          801,
          1071,
          920,
          601,
          536,
          387,
          505,
          584,
          320,
          444,
          558,
          652,
          752,
          1121,
          1792,
          1355,
          1552,
          711,
          1066,
          1076,
          1285,
          1423,
          1309,
          816,
          1077,
          854,
          1185,
          1307,
          601,
          638,
          957,
          1006,
          1951,
          2010,
          0,
          0,
          0,
          2762,
          2326,
          3310,
          2570,
          1791,
          2593,
          1956,
          3092,
          4388,
          2608,
          2512,
          5453,
          4550,
          4378,
          3035,
          2327,
          2002,
          1455,
          2453,
          2172,
          3572,
          2211,
          1812,
          1418,
          1976,
          1557,
          2923,
          2181,
          2342,
          2062,
          1612,
          1905,
          2006,
          2233,
          1140,
          1342,
          1330,
          0,
          0,
          0,
          0,
          0,
          0,
          1909,
          2148,
          2091,
          1692,
          1965,
          1528,
          1926,
          2671,
          1698,
          1964,
          1928,
          3055,
          1653,
          2903,
          2323,
          0,
          0,
          3400,
          0,
          0,
          0,
          0,
          0,
          0,
          0,
          0,
          0,
          0,
          0,
          0,
          0,
          0,
          0,
          0,
          0,
          3942,
          0,
          0,
          0,
          0,
          0,
          0,
          0
         ],
         "yaxis": "y"
        },
        {
         "customdata": [
          [
           1903
          ],
          [
           4342
          ],
          [
           568
          ],
          [
           606
          ],
          [
           854
          ],
          [
           573
          ],
          [
           847
          ],
          [
           322
          ],
          [
           360
          ],
          [
           2422
          ],
          [
           1505
          ],
          [
           1480
          ],
          [
           932
          ],
          [
           2088
          ],
          [
           1067
          ],
          [
           1088
          ],
          [
           855
          ],
          [
           1151
          ],
          [
           1170
          ],
          [
           801
          ],
          [
           1071
          ],
          [
           920
          ],
          [
           536
          ],
          [
           505
          ],
          [
           584
          ],
          [
           320
          ],
          [
           444
          ],
          [
           752
          ],
          [
           1121
          ],
          [
           1355
          ],
          [
           1552
          ],
          [
           816
          ],
          [
           1185
          ],
          [
           1307
          ],
          [
           601
          ],
          [
           638
          ],
          [
           957
          ],
          [
           1006
          ],
          [
           1951
          ],
          [
           2010
          ],
          [
           2762
          ],
          [
           3310
          ],
          [
           2570
          ],
          [
           1791
          ],
          [
           2593
          ],
          [
           1956
          ],
          [
           3092
          ],
          [
           4378
          ],
          [
           2002
          ],
          [
           1455
          ],
          [
           2211
          ],
          [
           1812
          ],
          [
           1976
          ],
          [
           1557
          ],
          [
           2923
          ],
          [
           2342
          ],
          [
           2062
          ],
          [
           1612
          ],
          [
           1905
          ],
          [
           2006
          ],
          [
           2233
          ],
          [
           1330
          ],
          [
           1909
          ],
          [
           2091
          ],
          [
           1965
          ],
          [
           2671
          ],
          [
           1964
          ],
          [
           1928
          ],
          [
           3055
          ],
          [
           1653
          ],
          [
           2903
          ],
          [
           3400
          ],
          [
           3942
          ]
         ],
         "hovertemplate": "signal=buy<br>timeStamp=%{x}<br>mid=%{marker.size}<br>amount=%{customdata[0]}<extra></extra>",
         "legendgroup": "buy",
         "marker": {
          "color": "#636efa",
          "size": [
           1.05262,
           1.05533,
           1.05801,
           1.05787,
           1.05809,
           1.05856,
           1.05876,
           1.05873,
           1.05875,
           1.05873,
           1.05941,
           1.05939,
           1.05936,
           1.05952,
           1.05966,
           1.05955,
           1.0595,
           1.05988,
           1.06002,
           1.05995,
           1.06001,
           1.05998,
           1.05989,
           1.06009,
           1.0602,
           1.06027,
           1.06006,
           1.06048,
           1.06068,
           1.06139,
           1.0613,
           1.06051,
           1.06022,
           1.06043,
           1.06058,
           1.06057,
           1.06062,
           1.06042,
           1.06054,
           1.05981,
           1.06107,
           1.06109,
           1.06118,
           1.0617,
           1.06211,
           1.06249,
           1.06247,
           1.0623,
           1.06265,
           1.06219,
           1.06155,
           1.0615,
           1.06087,
           1.06087,
           1.06096,
           1.06083,
           1.0613,
           1.06167,
           1.06173,
           1.06181,
           1.06152,
           1.06058,
           1.06159,
           1.06134,
           1.06129,
           1.06098,
           1.0611,
           1.06099,
           1.06085,
           1.0613,
           1.06103,
           1.0612,
           1.0603
          ],
          "sizemode": "area",
          "sizeref": 0.0026579000000000004,
          "symbol": "circle"
         },
         "mode": "markers",
         "name": "buy",
         "orientation": "v",
         "showlegend": true,
         "type": "scatter",
         "x": [
          "2023-03-15 15:30",
          "2023-03-15 17:05",
          "2023-03-15 22:20",
          "2023-03-15 22:30",
          "2023-03-15 23:00",
          "2023-03-15 23:10",
          "2023-03-15 23:20",
          "2023-03-15 23:30",
          "2023-03-15 23:40",
          "2023-03-16 00:45",
          "2023-03-16 01:45",
          "2023-03-16 01:50",
          "2023-03-16 01:55",
          "2023-03-16 02:05",
          "2023-03-16 03:25",
          "2023-03-16 03:45",
          "2023-03-16 03:50",
          "2023-03-16 04:00",
          "2023-03-16 04:10",
          "2023-03-16 04:15",
          "2023-03-16 04:20",
          "2023-03-16 04:25",
          "2023-03-16 04:35",
          "2023-03-16 04:45",
          "2023-03-16 04:50",
          "2023-03-16 04:55",
          "2023-03-16 05:00",
          "2023-03-16 05:15",
          "2023-03-16 05:20",
          "2023-03-16 05:30",
          "2023-03-16 05:35",
          "2023-03-16 06:10",
          "2023-03-16 06:25",
          "2023-03-16 06:30",
          "2023-03-16 06:35",
          "2023-03-16 06:40",
          "2023-03-16 06:45",
          "2023-03-16 06:50",
          "2023-03-16 06:55",
          "2023-03-16 07:00",
          "2023-03-16 07:20",
          "2023-03-16 07:30",
          "2023-03-16 07:35",
          "2023-03-16 07:40",
          "2023-03-16 07:45",
          "2023-03-16 07:50",
          "2023-03-16 07:55",
          "2023-03-16 08:25",
          "2023-03-16 08:40",
          "2023-03-16 08:45",
          "2023-03-16 09:05",
          "2023-03-16 09:10",
          "2023-03-16 09:20",
          "2023-03-16 09:25",
          "2023-03-16 09:30",
          "2023-03-16 09:40",
          "2023-03-16 09:45",
          "2023-03-16 09:50",
          "2023-03-16 09:55",
          "2023-03-16 10:00",
          "2023-03-16 10:05",
          "2023-03-16 10:20",
          "2023-03-16 10:55",
          "2023-03-16 11:05",
          "2023-03-16 11:15",
          "2023-03-16 11:30",
          "2023-03-16 11:40",
          "2023-03-16 11:45",
          "2023-03-16 11:50",
          "2023-03-16 11:55",
          "2023-03-16 12:00",
          "2023-03-16 12:20",
          "2023-03-16 13:50"
         ],
         "xaxis": "x",
         "y": [
          1.05262,
          1.05533,
          1.05801,
          1.05787,
          1.05809,
          1.05856,
          1.05876,
          1.05873,
          1.05875,
          1.05873,
          1.05941,
          1.05939,
          1.05936,
          1.05952,
          1.05966,
          1.05955,
          1.0595,
          1.05988,
          1.06002,
          1.05995,
          1.06001,
          1.05998,
          1.05989,
          1.06009,
          1.0602,
          1.06027,
          1.06006,
          1.06048,
          1.06068,
          1.06139,
          1.0613,
          1.06051,
          1.06022,
          1.06043,
          1.06058,
          1.06057,
          1.06062,
          1.06042,
          1.06054,
          1.05981,
          1.06107,
          1.06109,
          1.06118,
          1.0617,
          1.06211,
          1.06249,
          1.06247,
          1.0623,
          1.06265,
          1.06219,
          1.06155,
          1.0615,
          1.06087,
          1.06087,
          1.06096,
          1.06083,
          1.0613,
          1.06167,
          1.06173,
          1.06181,
          1.06152,
          1.06058,
          1.06159,
          1.06134,
          1.06129,
          1.06098,
          1.0611,
          1.06099,
          1.06085,
          1.0613,
          1.06103,
          1.0612,
          1.0603
         ],
         "yaxis": "y"
        },
        {
         "customdata": [
          [
           1903
          ],
          [
           2886
          ],
          [
           1456
          ],
          [
           1252
          ],
          [
           701
          ],
          [
           580
          ],
          [
           708
          ],
          [
           889
          ],
          [
           2105
          ],
          [
           1208
          ],
          [
           1133
          ],
          [
           800
          ],
          [
           896
          ],
          [
           1388
          ],
          [
           601
          ],
          [
           387
          ],
          [
           558
          ],
          [
           652
          ],
          [
           1792
          ],
          [
           711
          ],
          [
           1066
          ],
          [
           1076
          ],
          [
           1285
          ],
          [
           1423
          ],
          [
           1309
          ],
          [
           1077
          ],
          [
           854
          ],
          [
           2326
          ],
          [
           4388
          ],
          [
           2608
          ],
          [
           2512
          ],
          [
           5453
          ],
          [
           4550
          ],
          [
           3035
          ],
          [
           2327
          ],
          [
           2453
          ],
          [
           2172
          ],
          [
           3572
          ],
          [
           1418
          ],
          [
           1140
          ],
          [
           1342
          ],
          [
           2148
          ],
          [
           1692
          ],
          [
           1528
          ],
          [
           1926
          ],
          [
           1698
          ],
          [
           2323
          ]
         ],
         "hovertemplate": "signal=sell<br>timeStamp=%{x}<br>mid=%{marker.size}<br>amount=%{customdata[0]}<extra></extra>",
         "legendgroup": "sell",
         "marker": {
          "color": "#EF553B",
          "size": [
           1.05451,
           1.05546,
           1.05814,
           1.05836,
           1.05857,
           1.05856,
           1.05867,
           1.05851,
           1.05894,
           1.05959,
           1.05952,
           1.05947,
           1.05985,
           1.05993,
           1.05977,
           1.05989,
           1.06009,
           1.06002,
           1.06117,
           1.06108,
           1.0609,
           1.0608,
           1.0607,
           1.06065,
           1.0604,
           1.06017,
           1.06014,
           1.06047,
           1.06292,
           1.06245,
           1.06316,
           1.06242,
           1.06214,
           1.06208,
           1.0621,
           1.06178,
           1.06122,
           1.06119,
           1.06058,
           1.06156,
           1.06097,
           1.06129,
           1.06115,
           1.0611,
           1.06078,
           1.06072,
           1.06056
          ],
          "sizemode": "area",
          "sizeref": 0.0026579000000000004,
          "symbol": "circle"
         },
         "mode": "markers",
         "name": "sell",
         "orientation": "v",
         "showlegend": true,
         "type": "scatter",
         "x": [
          "2023-03-15 16:45",
          "2023-03-15 18:05",
          "2023-03-15 18:45",
          "2023-03-15 23:05",
          "2023-03-15 23:15",
          "2023-03-15 23:25",
          "2023-03-15 23:35",
          "2023-03-15 23:45",
          "2023-03-16 01:40",
          "2023-03-16 03:30",
          "2023-03-16 03:35",
          "2023-03-16 03:40",
          "2023-03-16 03:55",
          "2023-03-16 04:05",
          "2023-03-16 04:30",
          "2023-03-16 04:40",
          "2023-03-16 05:05",
          "2023-03-16 05:10",
          "2023-03-16 05:25",
          "2023-03-16 05:40",
          "2023-03-16 05:45",
          "2023-03-16 05:50",
          "2023-03-16 05:55",
          "2023-03-16 06:00",
          "2023-03-16 06:05",
          "2023-03-16 06:15",
          "2023-03-16 06:20",
          "2023-03-16 07:25",
          "2023-03-16 08:00",
          "2023-03-16 08:05",
          "2023-03-16 08:10",
          "2023-03-16 08:15",
          "2023-03-16 08:20",
          "2023-03-16 08:30",
          "2023-03-16 08:35",
          "2023-03-16 08:50",
          "2023-03-16 08:55",
          "2023-03-16 09:00",
          "2023-03-16 09:15",
          "2023-03-16 10:10",
          "2023-03-16 10:15",
          "2023-03-16 11:00",
          "2023-03-16 11:10",
          "2023-03-16 11:20",
          "2023-03-16 11:25",
          "2023-03-16 11:35",
          "2023-03-16 12:05"
         ],
         "xaxis": "x",
         "y": [
          1.05451,
          1.05546,
          1.05814,
          1.05836,
          1.05857,
          1.05856,
          1.05867,
          1.05851,
          1.05894,
          1.05959,
          1.05952,
          1.05947,
          1.05985,
          1.05993,
          1.05977,
          1.05989,
          1.06009,
          1.06002,
          1.06117,
          1.06108,
          1.0609,
          1.0608,
          1.0607,
          1.06065,
          1.0604,
          1.06017,
          1.06014,
          1.06047,
          1.06292,
          1.06245,
          1.06316,
          1.06242,
          1.06214,
          1.06208,
          1.0621,
          1.06178,
          1.06122,
          1.06119,
          1.06058,
          1.06156,
          1.06097,
          1.06129,
          1.06115,
          1.0611,
          1.06078,
          1.06072,
          1.06056
         ],
         "yaxis": "y"
        },
        {
         "customdata": [
          [
           2181
          ]
         ],
         "hovertemplate": "signal=strong_buy<br>timeStamp=%{x}<br>mid=%{marker.size}<br>amount=%{customdata[0]}<extra></extra>",
         "legendgroup": "strong_buy",
         "marker": {
          "color": "#00cc96",
          "size": [
           1.06055
          ],
          "sizemode": "area",
          "sizeref": 0.0026579000000000004,
          "symbol": "circle"
         },
         "mode": "markers",
         "name": "strong_buy",
         "orientation": "v",
         "showlegend": true,
         "type": "scatter",
         "x": [
          "2023-03-16 09:35"
         ],
         "xaxis": "x",
         "y": [
          1.06055
         ],
         "yaxis": "y"
        }
       ],
       "layout": {
        "template": {
         "data": {
          "bar": [
           {
            "error_x": {
             "color": "#2a3f5f"
            },
            "error_y": {
             "color": "#2a3f5f"
            },
            "marker": {
             "line": {
              "color": "#E5ECF6",
              "width": 0.5
             },
             "pattern": {
              "fillmode": "overlay",
              "size": 10,
              "solidity": 0.2
             }
            },
            "type": "bar"
           }
          ],
          "barpolar": [
           {
            "marker": {
             "line": {
              "color": "#E5ECF6",
              "width": 0.5
             },
             "pattern": {
              "fillmode": "overlay",
              "size": 10,
              "solidity": 0.2
             }
            },
            "type": "barpolar"
           }
          ],
          "carpet": [
           {
            "aaxis": {
             "endlinecolor": "#2a3f5f",
             "gridcolor": "white",
             "linecolor": "white",
             "minorgridcolor": "white",
             "startlinecolor": "#2a3f5f"
            },
            "baxis": {
             "endlinecolor": "#2a3f5f",
             "gridcolor": "white",
             "linecolor": "white",
             "minorgridcolor": "white",
             "startlinecolor": "#2a3f5f"
            },
            "type": "carpet"
           }
          ],
          "choropleth": [
           {
            "colorbar": {
             "outlinewidth": 0,
             "ticks": ""
            },
            "type": "choropleth"
           }
          ],
          "contour": [
           {
            "colorbar": {
             "outlinewidth": 0,
             "ticks": ""
            },
            "colorscale": [
             [
              0,
              "#0d0887"
             ],
             [
              0.1111111111111111,
              "#46039f"
             ],
             [
              0.2222222222222222,
              "#7201a8"
             ],
             [
              0.3333333333333333,
              "#9c179e"
             ],
             [
              0.4444444444444444,
              "#bd3786"
             ],
             [
              0.5555555555555556,
              "#d8576b"
             ],
             [
              0.6666666666666666,
              "#ed7953"
             ],
             [
              0.7777777777777778,
              "#fb9f3a"
             ],
             [
              0.8888888888888888,
              "#fdca26"
             ],
             [
              1,
              "#f0f921"
             ]
            ],
            "type": "contour"
           }
          ],
          "contourcarpet": [
           {
            "colorbar": {
             "outlinewidth": 0,
             "ticks": ""
            },
            "type": "contourcarpet"
           }
          ],
          "heatmap": [
           {
            "colorbar": {
             "outlinewidth": 0,
             "ticks": ""
            },
            "colorscale": [
             [
              0,
              "#0d0887"
             ],
             [
              0.1111111111111111,
              "#46039f"
             ],
             [
              0.2222222222222222,
              "#7201a8"
             ],
             [
              0.3333333333333333,
              "#9c179e"
             ],
             [
              0.4444444444444444,
              "#bd3786"
             ],
             [
              0.5555555555555556,
              "#d8576b"
             ],
             [
              0.6666666666666666,
              "#ed7953"
             ],
             [
              0.7777777777777778,
              "#fb9f3a"
             ],
             [
              0.8888888888888888,
              "#fdca26"
             ],
             [
              1,
              "#f0f921"
             ]
            ],
            "type": "heatmap"
           }
          ],
          "heatmapgl": [
           {
            "colorbar": {
             "outlinewidth": 0,
             "ticks": ""
            },
            "colorscale": [
             [
              0,
              "#0d0887"
             ],
             [
              0.1111111111111111,
              "#46039f"
             ],
             [
              0.2222222222222222,
              "#7201a8"
             ],
             [
              0.3333333333333333,
              "#9c179e"
             ],
             [
              0.4444444444444444,
              "#bd3786"
             ],
             [
              0.5555555555555556,
              "#d8576b"
             ],
             [
              0.6666666666666666,
              "#ed7953"
             ],
             [
              0.7777777777777778,
              "#fb9f3a"
             ],
             [
              0.8888888888888888,
              "#fdca26"
             ],
             [
              1,
              "#f0f921"
             ]
            ],
            "type": "heatmapgl"
           }
          ],
          "histogram": [
           {
            "marker": {
             "pattern": {
              "fillmode": "overlay",
              "size": 10,
              "solidity": 0.2
             }
            },
            "type": "histogram"
           }
          ],
          "histogram2d": [
           {
            "colorbar": {
             "outlinewidth": 0,
             "ticks": ""
            },
            "colorscale": [
             [
              0,
              "#0d0887"
             ],
             [
              0.1111111111111111,
              "#46039f"
             ],
             [
              0.2222222222222222,
              "#7201a8"
             ],
             [
              0.3333333333333333,
              "#9c179e"
             ],
             [
              0.4444444444444444,
              "#bd3786"
             ],
             [
              0.5555555555555556,
              "#d8576b"
             ],
             [
              0.6666666666666666,
              "#ed7953"
             ],
             [
              0.7777777777777778,
              "#fb9f3a"
             ],
             [
              0.8888888888888888,
              "#fdca26"
             ],
             [
              1,
              "#f0f921"
             ]
            ],
            "type": "histogram2d"
           }
          ],
          "histogram2dcontour": [
           {
            "colorbar": {
             "outlinewidth": 0,
             "ticks": ""
            },
            "colorscale": [
             [
              0,
              "#0d0887"
             ],
             [
              0.1111111111111111,
              "#46039f"
             ],
             [
              0.2222222222222222,
              "#7201a8"
             ],
             [
              0.3333333333333333,
              "#9c179e"
             ],
             [
              0.4444444444444444,
              "#bd3786"
             ],
             [
              0.5555555555555556,
              "#d8576b"
             ],
             [
              0.6666666666666666,
              "#ed7953"
             ],
             [
              0.7777777777777778,
              "#fb9f3a"
             ],
             [
              0.8888888888888888,
              "#fdca26"
             ],
             [
              1,
              "#f0f921"
             ]
            ],
            "type": "histogram2dcontour"
           }
          ],
          "mesh3d": [
           {
            "colorbar": {
             "outlinewidth": 0,
             "ticks": ""
            },
            "type": "mesh3d"
           }
          ],
          "parcoords": [
           {
            "line": {
             "colorbar": {
              "outlinewidth": 0,
              "ticks": ""
             }
            },
            "type": "parcoords"
           }
          ],
          "pie": [
           {
            "automargin": true,
            "type": "pie"
           }
          ],
          "scatter": [
           {
            "fillpattern": {
             "fillmode": "overlay",
             "size": 10,
             "solidity": 0.2
            },
            "type": "scatter"
           }
          ],
          "scatter3d": [
           {
            "line": {
             "colorbar": {
              "outlinewidth": 0,
              "ticks": ""
             }
            },
            "marker": {
             "colorbar": {
              "outlinewidth": 0,
              "ticks": ""
             }
            },
            "type": "scatter3d"
           }
          ],
          "scattercarpet": [
           {
            "marker": {
             "colorbar": {
              "outlinewidth": 0,
              "ticks": ""
             }
            },
            "type": "scattercarpet"
           }
          ],
          "scattergeo": [
           {
            "marker": {
             "colorbar": {
              "outlinewidth": 0,
              "ticks": ""
             }
            },
            "type": "scattergeo"
           }
          ],
          "scattergl": [
           {
            "marker": {
             "colorbar": {
              "outlinewidth": 0,
              "ticks": ""
             }
            },
            "type": "scattergl"
           }
          ],
          "scattermapbox": [
           {
            "marker": {
             "colorbar": {
              "outlinewidth": 0,
              "ticks": ""
             }
            },
            "type": "scattermapbox"
           }
          ],
          "scatterpolar": [
           {
            "marker": {
             "colorbar": {
              "outlinewidth": 0,
              "ticks": ""
             }
            },
            "type": "scatterpolar"
           }
          ],
          "scatterpolargl": [
           {
            "marker": {
             "colorbar": {
              "outlinewidth": 0,
              "ticks": ""
             }
            },
            "type": "scatterpolargl"
           }
          ],
          "scatterternary": [
           {
            "marker": {
             "colorbar": {
              "outlinewidth": 0,
              "ticks": ""
             }
            },
            "type": "scatterternary"
           }
          ],
          "surface": [
           {
            "colorbar": {
             "outlinewidth": 0,
             "ticks": ""
            },
            "colorscale": [
             [
              0,
              "#0d0887"
             ],
             [
              0.1111111111111111,
              "#46039f"
             ],
             [
              0.2222222222222222,
              "#7201a8"
             ],
             [
              0.3333333333333333,
              "#9c179e"
             ],
             [
              0.4444444444444444,
              "#bd3786"
             ],
             [
              0.5555555555555556,
              "#d8576b"
             ],
             [
              0.6666666666666666,
              "#ed7953"
             ],
             [
              0.7777777777777778,
              "#fb9f3a"
             ],
             [
              0.8888888888888888,
              "#fdca26"
             ],
             [
              1,
              "#f0f921"
             ]
            ],
            "type": "surface"
           }
          ],
          "table": [
           {
            "cells": {
             "fill": {
              "color": "#EBF0F8"
             },
             "line": {
              "color": "white"
             }
            },
            "header": {
             "fill": {
              "color": "#C8D4E3"
             },
             "line": {
              "color": "white"
             }
            },
            "type": "table"
           }
          ]
         },
         "layout": {
          "annotationdefaults": {
           "arrowcolor": "#2a3f5f",
           "arrowhead": 0,
           "arrowwidth": 1
          },
          "autotypenumbers": "strict",
          "coloraxis": {
           "colorbar": {
            "outlinewidth": 0,
            "ticks": ""
           }
          },
          "colorscale": {
           "diverging": [
            [
             0,
             "#8e0152"
            ],
            [
             0.1,
             "#c51b7d"
            ],
            [
             0.2,
             "#de77ae"
            ],
            [
             0.3,
             "#f1b6da"
            ],
            [
             0.4,
             "#fde0ef"
            ],
            [
             0.5,
             "#f7f7f7"
            ],
            [
             0.6,
             "#e6f5d0"
            ],
            [
             0.7,
             "#b8e186"
            ],
            [
             0.8,
             "#7fbc41"
            ],
            [
             0.9,
             "#4d9221"
            ],
            [
             1,
             "#276419"
            ]
           ],
           "sequential": [
            [
             0,
             "#0d0887"
            ],
            [
             0.1111111111111111,
             "#46039f"
            ],
            [
             0.2222222222222222,
             "#7201a8"
            ],
            [
             0.3333333333333333,
             "#9c179e"
            ],
            [
             0.4444444444444444,
             "#bd3786"
            ],
            [
             0.5555555555555556,
             "#d8576b"
            ],
            [
             0.6666666666666666,
             "#ed7953"
            ],
            [
             0.7777777777777778,
             "#fb9f3a"
            ],
            [
             0.8888888888888888,
             "#fdca26"
            ],
            [
             1,
             "#f0f921"
            ]
           ],
           "sequentialminus": [
            [
             0,
             "#0d0887"
            ],
            [
             0.1111111111111111,
             "#46039f"
            ],
            [
             0.2222222222222222,
             "#7201a8"
            ],
            [
             0.3333333333333333,
             "#9c179e"
            ],
            [
             0.4444444444444444,
             "#bd3786"
            ],
            [
             0.5555555555555556,
             "#d8576b"
            ],
            [
             0.6666666666666666,
             "#ed7953"
            ],
            [
             0.7777777777777778,
             "#fb9f3a"
            ],
            [
             0.8888888888888888,
             "#fdca26"
            ],
            [
             1,
             "#f0f921"
            ]
           ]
          },
          "colorway": [
           "#636efa",
           "#EF553B",
           "#00cc96",
           "#ab63fa",
           "#FFA15A",
           "#19d3f3",
           "#FF6692",
           "#B6E880",
           "#FF97FF",
           "#FECB52"
          ],
          "font": {
           "color": "#2a3f5f"
          },
          "geo": {
           "bgcolor": "white",
           "lakecolor": "white",
           "landcolor": "#E5ECF6",
           "showlakes": true,
           "showland": true,
           "subunitcolor": "white"
          },
          "hoverlabel": {
           "align": "left"
          },
          "hovermode": "closest",
          "mapbox": {
           "style": "light"
          },
          "paper_bgcolor": "white",
          "plot_bgcolor": "#E5ECF6",
          "polar": {
           "angularaxis": {
            "gridcolor": "white",
            "linecolor": "white",
            "ticks": ""
           },
           "bgcolor": "#E5ECF6",
           "radialaxis": {
            "gridcolor": "white",
            "linecolor": "white",
            "ticks": ""
           }
          },
          "scene": {
           "xaxis": {
            "backgroundcolor": "#E5ECF6",
            "gridcolor": "white",
            "gridwidth": 2,
            "linecolor": "white",
            "showbackground": true,
            "ticks": "",
            "zerolinecolor": "white"
           },
           "yaxis": {
            "backgroundcolor": "#E5ECF6",
            "gridcolor": "white",
            "gridwidth": 2,
            "linecolor": "white",
            "showbackground": true,
            "ticks": "",
            "zerolinecolor": "white"
           },
           "zaxis": {
            "backgroundcolor": "#E5ECF6",
            "gridcolor": "white",
            "gridwidth": 2,
            "linecolor": "white",
            "showbackground": true,
            "ticks": "",
            "zerolinecolor": "white"
           }
          },
          "shapedefaults": {
           "line": {
            "color": "#2a3f5f"
           }
          },
          "ternary": {
           "aaxis": {
            "gridcolor": "white",
            "linecolor": "white",
            "ticks": ""
           },
           "baxis": {
            "gridcolor": "white",
            "linecolor": "white",
            "ticks": ""
           },
           "bgcolor": "#E5ECF6",
           "caxis": {
            "gridcolor": "white",
            "linecolor": "white",
            "ticks": ""
           }
          },
          "title": {
           "x": 0.05
          },
          "xaxis": {
           "automargin": true,
           "gridcolor": "white",
           "linecolor": "white",
           "ticks": "",
           "title": {
            "standoff": 15
           },
           "zerolinecolor": "white",
           "zerolinewidth": 2
          },
          "yaxis": {
           "automargin": true,
           "gridcolor": "white",
           "linecolor": "white",
           "ticks": "",
           "title": {
            "standoff": 15
           },
           "zerolinecolor": "white",
           "zerolinewidth": 2
          }
         }
        }
       }
      }
     },
     "metadata": {},
     "output_type": "display_data"
    }
   ],
   "source": [
    "import strategies\n",
    "test_data = loadData(287, True)\n",
    "sma = strategies.SMA(10, 50, is_statefull= False)\n",
    "rsi = strategies.RSI(14, is_statefull= False)\n",
    "macd = strategies.MACD(12, 26, 9, is_statefull= False)\n",
    "composite = strategies.StateFullComposite(10000, strategies=[sma, rsi, macd])\n",
    "actions = []\n",
    "amounts = []\n",
    "for i in range(1, len(test_data)+1):\n",
    "    action, amount = composite.action( test_data.head(i) )\n",
    "    actions.append( action )\n",
    "    amounts.append( amount )\n",
    "test_data['signal'] = actions\n",
    "test_data['amount'] = [ abs(amount) for amount in amounts ]\n",
    "\n",
    "test_data['signal'].replace({0:'hold', 1: 'buy', -1:'sell', 2: 'strong_buy', 3:'very_strong_buy', -2: 'strong_sell', -3: 'very_strong_sell'}, inplace=True)\n",
    "is_signal_col = lambda name: 'mid' in name or 'quote' in name or 'amount' in name or 'RSI' in name or 'MACD' in name or 'Signal' in name\n",
    "line = px.line(test_data, x = 'timeStamp', y = [col for col in test_data.columns if is_signal_col(col)])\n",
    "scatter = px.scatter(test_data[~test_data['signal'].isin(['hold'])], x = 'timeStamp', y='mid', color='signal', size = 'mid', hover_data=['amount'] )\n",
    "plot = go.Figure(data=line.data + scatter.data)\n",
    "plot.show()"
   ]
  },
  {
   "cell_type": "code",
   "execution_count": 3,
   "metadata": {},
   "outputs": [
    {
     "data": {
      "text/plain": [
       "0"
      ]
     },
     "execution_count": 3,
     "metadata": {},
     "output_type": "execute_result"
    }
   ],
   "source": [
    "composite.PreviousTickBuyMiss"
   ]
  },
  {
   "cell_type": "code",
   "execution_count": null,
   "metadata": {},
   "outputs": [],
   "source": []
  }
 ],
 "metadata": {
  "kernelspec": {
   "display_name": "py3",
   "language": "python",
   "name": "python3"
  },
  "language_info": {
   "codemirror_mode": {
    "name": "ipython",
    "version": 3
   },
   "file_extension": ".py",
   "mimetype": "text/x-python",
   "name": "python",
   "nbconvert_exporter": "python",
   "pygments_lexer": "ipython3",
   "version": "3.8.12"
  }
 },
 "nbformat": 4,
 "nbformat_minor": 2
}
