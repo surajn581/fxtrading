{
 "cells": [
  {
   "cell_type": "code",
   "execution_count": 1,
   "metadata": {},
   "outputs": [],
   "source": [
    "from signals import loadData\n",
    "import plotly.express as px\n",
    "import plotly.graph_objects as go\n",
    "import warnings\n",
    "warnings.filterwarnings('ignore')"
   ]
  },
  {
   "cell_type": "code",
   "execution_count": 2,
   "metadata": {},
   "outputs": [
    {
     "name": "stdout",
     "output_type": "stream",
     "text": [
      "bought 354 units at 1.08949/unit\n",
      "total holding: 354 at avg buy price: 1.08949\n",
      "total profit: 0\n",
      "sold 354 units at profit: 0.00022999999999995246 avg buy price: 1.08949 current price: 1.08972\n",
      "total holding: 0 at avg buy price: 0\n",
      "total profit: 0.08141999999998317\n",
      "bought 127 units at 1.08945/unit\n",
      "total holding: 127 at avg buy price: 1.08945\n",
      "total profit: 0.08141999999998317\n",
      "bought 16 units at 1.08952/unit\n",
      "total holding: 143 at avg buy price: 1.089457832167832\n",
      "total profit: 0.08141999999998317\n",
      "sold 143 units at profit: 0.000112167832167831 avg buy price: 1.089457832167832 current price: 1.08957\n",
      "total holding: 0 at avg buy price: 0\n",
      "total profit: 0.097459999999983\n",
      "bought 1140 units at 1.08919/unit\n",
      "total holding: 1140 at avg buy price: 1.08919\n",
      "total profit: 0.097459999999983\n",
      "sold 502 units at profit: 0.00010999999999983245 avg buy price: 1.08919 current price: 1.0893\n",
      "total holding: 638 at avg buy price: 1.0891034482758621\n",
      "total profit: 0.1526799999998989\n",
      "bought 636 units at 1.08912/unit\n",
      "total holding: 1274 at avg buy price: 1.089111711145997\n",
      "total profit: 0.1526799999998989\n",
      "bought 700 units at 1.08913/unit\n",
      "total holding: 1974 at avg buy price: 1.089118196555218\n",
      "total profit: 0.1526799999998989\n",
      "bought 692 units at 1.08918/unit\n",
      "total holding: 2666 at avg buy price: 1.0891342385596399\n",
      "total profit: 0.1526799999998989\n",
      "bought 542 units at 1.0893/unit\n",
      "total holding: 3208 at avg buy price: 1.0891622443890274\n",
      "total profit: 0.1526799999998989\n",
      "bought 714 units at 1.08919/unit\n",
      "total holding: 3922 at avg buy price: 1.0891672972972972\n",
      "total profit: 0.1526799999998989\n",
      "bought 729 units at 1.08916/unit\n",
      "total holding: 4651 at avg buy price: 1.089166153515373\n",
      "total profit: 0.1526799999998989\n",
      "bought 532 units at 1.08925/unit\n",
      "total holding: 5183 at avg buy price: 1.0891747597916264\n",
      "total profit: 0.1526799999998989\n",
      "bought 1023 units at 1.08906/unit\n",
      "total holding: 6206 at avg buy price: 1.0891558427328392\n",
      "total profit: 0.1526799999998989\n",
      "bought 954 units at 1.08916/unit\n",
      "total holding: 7160 at avg buy price: 1.0891563966480446\n",
      "total profit: 0.1526799999998989\n",
      "bought 1129 units at 1.08918/unit\n",
      "total holding: 8289 at avg buy price: 1.0891596115333575\n",
      "total profit: 0.1526799999998989\n",
      "bought 806 units at 1.08915/unit\n",
      "total holding: 9095 at avg buy price: 1.089158759758109\n",
      "total profit: 0.1526799999998989\n",
      "bought 678 units at 1.08915/unit\n",
      "total holding: 9773 at avg buy price: 1.0891581520515707\n",
      "total profit: 0.1526799999998989\n",
      "bought 295 units at 1.08924/unit\n",
      "total holding: 10068 at avg buy price: 1.089160550258244\n",
      "total profit: 0.1526799999998989\n",
      "bought 300 units at 1.08928/unit\n",
      "total holding: 10368 at avg buy price: 1.089164006558642\n",
      "total profit: 0.1526799999998989\n",
      "bought 483 units at 1.08922/unit\n",
      "total holding: 10851 at avg buy price: 1.08916649894019\n",
      "total profit: 0.1526799999998989\n",
      "bought 318 units at 1.08926/unit\n",
      "total holding: 11169 at avg buy price: 1.0891691610708212\n",
      "total profit: 0.1526799999998989\n",
      "bought 153 units at 1.08911/unit\n",
      "total holding: 11322 at avg buy price: 1.0891683615968912\n",
      "total profit: 0.1526799999998989\n",
      "bought 502 units at 1.08908/unit\n",
      "total holding: 11824 at avg buy price: 1.0891646101150205\n",
      "total profit: 0.1526799999998989\n",
      "bought 400 units at 1.08905/unit\n",
      "total holding: 12224 at avg buy price: 1.0891608597840317\n",
      "total profit: 0.1526799999998989\n",
      "bought 555 units at 1.08897/unit\n",
      "total holding: 12779 at avg buy price: 1.0891525706236798\n",
      "total profit: 0.1526799999998989\n",
      "bought 219 units at 1.08896/unit\n",
      "total holding: 12998 at avg buy price: 1.089149326050162\n",
      "total profit: 0.1526799999998989\n",
      "bought 387 units at 1.08896/unit\n",
      "total holding: 13385 at avg buy price: 1.0891438520732166\n",
      "total profit: 0.1526799999998989\n",
      "bought 282 units at 1.08899/unit\n",
      "total holding: 13667 at avg buy price: 1.0891406775444505\n",
      "total profit: 0.1526799999998989\n",
      "bought 246 units at 1.089/unit\n",
      "total holding: 13913 at avg buy price: 1.0891381901818447\n",
      "total profit: 0.1526799999998989\n",
      "bought 267 units at 1.08909/unit\n",
      "total holding: 14180 at avg buy price: 1.089137282792666\n",
      "total profit: 0.1526799999998989\n",
      "bought 285 units at 1.08935/unit\n",
      "total holding: 14465 at avg buy price: 1.0891414739025236\n",
      "total profit: 0.1526799999998989\n",
      "bought 280 units at 1.08924/unit\n",
      "total holding: 14745 at avg buy price: 1.0891433448626655\n",
      "total profit: 0.1526799999998989\n",
      "bought 163 units at 1.08925/unit\n",
      "total holding: 14908 at avg buy price: 1.0891445110008051\n",
      "total profit: 0.1526799999998989\n",
      "bought 330 units at 1.08931/unit\n",
      "total holding: 15238 at avg buy price: 1.0891480948943433\n",
      "total profit: 0.1526799999998989\n",
      "bought 222 units at 1.08927/unit\n",
      "total holding: 15460 at avg buy price: 1.0891498454075035\n",
      "total profit: 0.1526799999998989\n",
      "bought 423 units at 1.08936/unit\n",
      "total holding: 15883 at avg buy price: 1.0891554422967955\n",
      "total profit: 0.1526799999998989\n",
      "bought 217 units at 1.0892/unit\n",
      "total holding: 16100 at avg buy price: 1.089156042857143\n",
      "total profit: 0.1526799999998989\n",
      "bought 197 units at 1.08924/unit\n",
      "total holding: 16297 at avg buy price: 1.0891570577406886\n",
      "total profit: 0.1526799999998989\n",
      "bought 366 units at 1.0892/unit\n",
      "total holding: 16663 at avg buy price: 1.0891580009602113\n",
      "total profit: 0.1526799999998989\n",
      "bought 577 units at 1.08929/unit\n",
      "total holding: 17240 at avg buy price: 1.0891624187935036\n",
      "total profit: 0.1526799999998989\n",
      "sold 506 units at profit: 0.0001475812064963833 avg buy price: 1.0891624187935036 current price: 1.08931\n",
      "total holding: 16734 at avg buy price: 1.089157956256723\n",
      "total profit: 0.22735609048706884\n",
      "bought 465 units at 1.0893/unit\n",
      "total holding: 17199 at avg buy price: 1.0891617966160825\n",
      "total profit: 0.22735609048706884\n",
      "bought 279 units at 1.08925/unit\n",
      "total holding: 17478 at avg buy price: 1.0891632046000688\n",
      "total profit: 0.22735609048706884\n",
      "bought 273 units at 1.08929/unit\n",
      "total holding: 17751 at avg buy price: 1.0891651546391754\n",
      "total profit: 0.22735609048706884\n",
      "bought 157 units at 1.08933/unit\n",
      "total holding: 17908 at avg buy price: 1.0891665998436455\n",
      "total profit: 0.22735609048706884\n",
      "bought 110 units at 1.08933/unit\n",
      "total holding: 18018 at avg buy price: 1.0891675974025976\n",
      "total profit: 0.22735609048706884\n",
      "bought 140 units at 1.0893/unit\n",
      "total holding: 18158 at avg buy price: 1.0891686182398945\n",
      "total profit: 0.22735609048706884\n",
      "bought 127 units at 1.0892/unit\n",
      "total holding: 18285 at avg buy price: 1.0891688362045395\n",
      "total profit: 0.22735609048706884\n",
      "bought 248 units at 1.0893/unit\n",
      "total holding: 18533 at avg buy price: 1.0891705913775431\n",
      "total profit: 0.22735609048706884\n",
      "bought 468 units at 1.08933/unit\n",
      "total holding: 19001 at avg buy price: 1.0891745176569658\n",
      "total profit: 0.22735609048706884\n",
      "bought 394 units at 1.0894/unit\n",
      "total holding: 19395 at avg buy price: 1.0891790982211915\n",
      "total profit: 0.22735609048706884\n",
      "bought 226 units at 1.08939/unit\n",
      "total holding: 19621 at avg buy price: 1.089181527445085\n",
      "total profit: 0.22735609048706884\n",
      "bought 551 units at 1.08924/unit\n",
      "total holding: 20172 at avg buy price: 1.089183124628198\n",
      "total profit: 0.22735609048706884\n",
      "sold 1017 units at profit: 4.687537180192436e-05 avg buy price: 1.089183124628198 current price: 1.08923\n",
      "total holding: 19155 at avg buy price: 1.0891806358653098\n",
      "total profit: 0.2750283436096259\n",
      "bought 725 units at 1.08918/unit\n",
      "total holding: 19880 at avg buy price: 1.0891806126760568\n",
      "total profit: 0.2750283436096259\n",
      "bought 906 units at 1.08921/unit\n",
      "total holding: 20786 at avg buy price: 1.0891818935822193\n",
      "total profit: 0.2750283436096259\n",
      "bought 904 units at 1.08905/unit\n",
      "total holding: 21690 at avg buy price: 1.0891763964960817\n",
      "total profit: 0.2750283436096259\n",
      "bought 1359 units at 1.08902/unit\n",
      "total holding: 23049 at avg buy price: 1.089167175148597\n",
      "total profit: 0.2750283436096259\n",
      "bought 585 units at 1.08898/unit\n",
      "total holding: 23634 at avg buy price: 1.0891625421003643\n",
      "total profit: 0.2750283436096259\n",
      "bought 1138 units at 1.08882/unit\n",
      "total holding: 24772 at avg buy price: 1.0891468060713714\n",
      "total profit: 0.2750283436096259\n",
      "bought 421 units at 1.08888/unit\n",
      "total holding: 25193 at avg buy price: 1.0891423474774744\n",
      "total profit: 0.2750283436096259\n",
      "bought 441 units at 1.08882/unit\n",
      "total holding: 25634 at avg buy price: 1.0891368019037222\n",
      "total profit: 0.2750283436096259\n",
      "bought 273 units at 1.08894/unit\n",
      "total holding: 25907 at avg buy price: 1.0891347280657744\n",
      "total profit: 0.2750283436096259\n",
      "bought 288 units at 1.08899/unit\n",
      "total holding: 26195 at avg buy price: 1.0891331368581796\n",
      "total profit: 0.2750283436096259\n",
      "bought 631 units at 1.08879/unit\n",
      "total holding: 26826 at avg buy price: 1.0891250656079927\n",
      "total profit: 0.2750283436096259\n",
      "bought 900 units at 1.08884/unit\n",
      "total holding: 27726 at avg buy price: 1.0891158122340046\n",
      "total profit: 0.2750283436096259\n",
      "bought 1402 units at 1.08868/unit\n",
      "total holding: 29128 at avg buy price: 1.0890948355534198\n",
      "total profit: 0.2750283436096259\n",
      "bought 994 units at 1.08854/unit\n",
      "total holding: 30122 at avg buy price: 1.089076526459067\n",
      "total profit: 0.2750283436096259\n",
      "bought 757 units at 1.08851/unit\n",
      "total holding: 30879 at avg buy price: 1.089062638038797\n",
      "total profit: 0.2750283436096259\n",
      "bought 993 units at 1.08856/unit\n",
      "total holding: 31872 at avg buy price: 1.0890469779116472\n",
      "total profit: 0.2750283436096259\n",
      "bought 696 units at 1.08864/unit\n",
      "total holding: 32568 at avg buy price: 1.0890382805207572\n",
      "total profit: 0.2750283436096259\n",
      "bought 644 units at 1.08864/unit\n",
      "total holding: 33212 at avg buy price: 1.089030557629773\n",
      "total profit: 0.2750283436096259\n",
      "bought 467 units at 1.08839/unit\n",
      "total holding: 33679 at avg buy price: 1.0890216755248083\n",
      "total profit: 0.2750283436096259\n",
      "bought 604 units at 1.08871/unit\n",
      "total holding: 34283 at avg buy price: 1.089016184406266\n",
      "total profit: 0.2750283436096259\n",
      "bought 1161 units at 1.0886/unit\n",
      "total holding: 35444 at avg buy price: 1.0890025519128772\n",
      "total profit: 0.2750283436096259\n",
      "bought 865 units at 1.08891/unit\n",
      "total holding: 36309 at avg buy price: 1.0890003470214003\n",
      "total profit: 0.2750283436096259\n",
      "bought 1284 units at 1.0888/unit\n",
      "total holding: 37593 at avg buy price: 1.0889935041098082\n",
      "total profit: 0.2750283436096259\n",
      "bought 1203 units at 1.08885/unit\n",
      "total holding: 38796 at avg buy price: 1.0889890542839473\n",
      "total profit: 0.2750283436096259\n",
      "bought 1100 units at 1.08899/unit\n",
      "total holding: 39896 at avg buy price: 1.0889890803589337\n",
      "total profit: 0.2750283436096259\n",
      "bought 753 units at 1.08922/unit\n",
      "total holding: 40649 at avg buy price: 1.088993358016188\n",
      "total profit: 0.2750283436096259\n",
      "bought 800 units at 1.08938/unit\n",
      "total holding: 41449 at avg buy price: 1.0890008205264305\n",
      "total profit: 0.2750283436096259\n",
      "sold 625 units at profit: 0.0005691794735693811 avg buy price: 1.0890008205264305 current price: 1.08957\n",
      "total holding: 40824 at avg buy price: 1.088992106603959\n",
      "total profit: 0.6307655145904891\n",
      "sold 750 units at profit: 0.0006578933960410538 avg buy price: 1.088992106603959 current price: 1.08965\n",
      "total holding: 40074 at avg buy price: 1.0889797938813202\n",
      "total profit: 1.1241855616212795\n",
      "bought 619 units at 1.08961/unit\n",
      "total holding: 40693 at avg buy price: 1.0889893802373878\n",
      "total profit: 1.1241855616212795\n",
      "bought 1168 units at 1.08965/unit\n",
      "total holding: 41861 at avg buy price: 1.089007812761282\n",
      "total profit: 1.1241855616212795\n",
      "bought 1147 units at 1.08953/unit\n",
      "total holding: 43008 at avg buy price: 1.08902173921131\n",
      "total profit: 1.1241855616212795\n",
      "bought 1348 units at 1.08963/unit\n",
      "total holding: 44356 at avg buy price: 1.0890402245468487\n",
      "total profit: 1.1241855616212795\n",
      "bought 1394 units at 1.08972/unit\n",
      "total holding: 45750 at avg buy price: 1.08906093726776\n",
      "total profit: 1.1241855616212795\n",
      "bought 1465 units at 1.08972/unit\n",
      "total holding: 47215 at avg buy price: 1.0890813868474005\n",
      "total profit: 1.1241855616212795\n",
      "bought 3869 units at 1.08992/unit\n",
      "total holding: 51084 at avg buy price: 1.0891449017304835\n",
      "total profit: 1.1241855616212795\n",
      "bought 2451 units at 1.08939/unit\n",
      "total holding: 53535 at avg buy price: 1.0891561230970397\n",
      "total profit: 1.1241855616212795\n",
      "bought 1428 units at 1.08958/unit\n",
      "total holding: 54963 at avg buy price: 1.0891671358914181\n",
      "total profit: 1.1241855616212795\n",
      "bought 1331 units at 1.08975/unit\n",
      "total holding: 56294 at avg buy price: 1.0891809169716136\n",
      "total profit: 1.1241855616212795\n",
      "bought 1405 units at 1.08973/unit\n",
      "total holding: 57699 at avg buy price: 1.0891942874226592\n",
      "total profit: 1.1241855616212795\n",
      "bought 1494 units at 1.09015/unit\n",
      "total holding: 59193 at avg buy price: 1.089218409102428\n",
      "total profit: 1.1241855616212795\n",
      "bought 961 units at 1.0898/unit\n",
      "total holding: 60154 at avg buy price: 1.089227700402301\n",
      "total profit: 1.1241855616212795\n",
      "bought 884 units at 1.09005/unit\n",
      "total holding: 61038 at avg buy price: 1.0892396095874703\n",
      "total profit: 1.1241855616212795\n",
      "bought 967 units at 1.0901/unit\n",
      "total holding: 62005 at avg buy price: 1.0892530278203374\n",
      "total profit: 1.1241855616212795\n",
      "bought 701 units at 1.08995/unit\n",
      "total holding: 62706 at avg buy price: 1.089260819379326\n",
      "total profit: 1.1241855616212795\n",
      "sold 1759 units at profit: 0.0004991806206740002 avg buy price: 1.089260819379326 current price: 1.08976\n",
      "total holding: 60947 at avg buy price: 1.0892464124567252\n",
      "total profit: 2.0022442733868457\n",
      "bought 656 units at 1.08985/unit\n",
      "total holding: 61603 at avg buy price: 1.0892528399590933\n",
      "total profit: 2.0022442733868457\n",
      "bought 877 units at 1.09002/unit\n",
      "total holding: 62480 at avg buy price: 1.0892636081946228\n",
      "total profit: 2.0022442733868457\n",
      "bought 1680 units at 1.09016/unit\n",
      "total holding: 64160 at avg buy price: 1.0892870798004992\n",
      "total profit: 2.0022442733868457\n",
      "bought 1290 units at 1.09026/unit\n",
      "total holding: 65450 at avg buy price: 1.0893062557677622\n",
      "total profit: 2.0022442733868457\n",
      "sold 1065 units at profit: 0.0006837442322378262 avg buy price: 1.0893062557677622 current price: 1.08999\n",
      "total holding: 64385 at avg buy price: 1.0892949458724863\n",
      "total profit: 2.730431880720131\n",
      "bought 1511 units at 1.08997/unit\n",
      "total holding: 65896 at avg buy price: 1.089310424911983\n",
      "total profit: 2.730431880720131\n",
      "bought 978 units at 1.09027/unit\n",
      "total holding: 66874 at avg buy price: 1.08932445823489\n",
      "total profit: 2.730431880720131\n",
      "bought 813 units at 1.09005/unit\n",
      "total holding: 67687 at avg buy price: 1.0893331728396891\n",
      "total profit: 2.730431880720131\n",
      "bought 980 units at 1.08964/unit\n",
      "total holding: 68667 at avg buy price: 1.0893375518080015\n",
      "total profit: 2.730431880720131\n",
      "bought 1261 units at 1.08951/unit\n",
      "total holding: 69928 at avg buy price: 1.089340661537582\n",
      "total profit: 2.730431880720131\n",
      "bought 1241 units at 1.08961/unit\n",
      "total holding: 71169 at avg buy price: 1.0893453580913044\n",
      "total profit: 2.730431880720131\n",
      "bought 1014 units at 1.08976/unit\n",
      "total holding: 72183 at avg buy price: 1.089351182826982\n",
      "total profit: 2.730431880720131\n",
      "bought 321 units at 1.08994/unit\n",
      "total holding: 72504 at avg buy price: 1.089353789721947\n",
      "total profit: 2.730431880720131\n",
      "bought 1983 units at 1.08979/unit\n",
      "total holding: 74487 at avg buy price: 1.0893654025534663\n",
      "total profit: 2.730431880720131\n",
      "bought 1242 units at 1.09/unit\n",
      "total holding: 75729 at avg buy price: 1.0893758103236546\n",
      "total profit: 2.730431880720131\n",
      "bought 1065 units at 1.0899/unit\n",
      "total holding: 76794 at avg buy price: 1.08938307992812\n",
      "total profit: 2.730431880720131\n",
      "bought 1177 units at 1.09001/unit\n",
      "total holding: 77971 at avg buy price: 1.0893925435097669\n",
      "total profit: 2.730431880720131\n",
      "bought 831 units at 1.09025/unit\n",
      "total holding: 78802 at avg buy price: 1.089401585746555\n",
      "total profit: 2.730431880720131\n",
      "bought 1500 units at 1.09015/unit\n",
      "total holding: 80302 at avg buy price: 1.0894155657393345\n",
      "total profit: 2.730431880720131\n",
      "bought 975 units at 1.09005/unit\n",
      "total holding: 81277 at avg buy price: 1.0894231764213742\n",
      "total profit: 2.730431880720131\n",
      "bought 834 units at 1.09008/unit\n",
      "total holding: 82111 at avg buy price: 1.0894298477670474\n",
      "total profit: 2.730431880720131\n",
      "sold 1011 units at profit: 0.0005901522329525566 avg buy price: 1.0894298477670474 current price: 1.09002\n",
      "total holding: 81100 at avg buy price: 1.0894224908754628\n",
      "total profit: 3.327075788235166\n",
      "bought 932 units at 1.09/unit\n",
      "total holding: 82032 at avg buy price: 1.0894290521991423\n",
      "total profit: 3.327075788235166\n",
      "bought 1169 units at 1.08995/unit\n",
      "total holding: 83201 at avg buy price: 1.0894363716782256\n",
      "total profit: 3.327075788235166\n",
      "bought 1275 units at 1.08963/unit\n",
      "total holding: 84476 at avg buy price: 1.0894392941190403\n",
      "total profit: 3.327075788235166\n",
      "bought 1133 units at 1.08989/unit\n",
      "total holding: 85609 at avg buy price: 1.0894452590265047\n",
      "total profit: 3.327075788235166\n",
      "bought 829 units at 1.08999/unit\n",
      "total holding: 86438 at avg buy price: 1.0894504834679197\n",
      "total profit: 3.327075788235166\n",
      "bought 876 units at 1.08988/unit\n",
      "total holding: 87314 at avg buy price: 1.0894547927022018\n",
      "total profit: 3.327075788235166\n",
      "bought 1103 units at 1.08965/unit\n",
      "total holding: 88417 at avg buy price: 1.0894572279086607\n",
      "total profit: 3.327075788235166\n",
      "bought 1013 units at 1.08964/unit\n",
      "total holding: 89430 at avg buy price: 1.0894592982220737\n",
      "total profit: 3.327075788235166\n",
      "bought 430 units at 1.08978/unit\n",
      "total holding: 89860 at avg buy price: 1.0894608328511022\n",
      "total profit: 3.327075788235166\n",
      "bought 534 units at 1.0896/unit\n",
      "total holding: 90394 at avg buy price: 1.0894616549771008\n",
      "total profit: 3.327075788235166\n",
      "bought 710 units at 1.0895/unit\n",
      "total holding: 91104 at avg buy price: 1.0894619538110297\n",
      "total profit: 3.327075788235166\n",
      "bought 755 units at 1.08959/unit\n",
      "total holding: 91859 at avg buy price: 1.0894630062378217\n",
      "total profit: 3.327075788235166\n",
      "bought 694 units at 1.08951/unit\n",
      "total holding: 92553 at avg buy price: 1.0894633586161449\n",
      "total profit: 3.327075788235166\n",
      "bought 796 units at 1.09014/unit\n",
      "total holding: 93349 at avg buy price: 1.0894691284320137\n",
      "total profit: 3.327075788235166\n",
      "bought 1012 units at 1.09011/unit\n",
      "total holding: 94361 at avg buy price: 1.0894760016320306\n",
      "total profit: 3.327075788235166\n",
      "bought 2820 units at 1.09021/unit\n",
      "total holding: 97181 at avg buy price: 1.0894973008098294\n",
      "total profit: 3.327075788235166\n",
      "bought 2013 units at 1.09021/unit\n",
      "total holding: 99194 at avg buy price: 1.0895117640179852\n",
      "total profit: 3.327075788235166\n",
      "bought 2026 units at 1.09019/unit\n",
      "total holding: 101220 at avg buy price: 1.0895253394586053\n",
      "total profit: 3.327075788235166\n",
      "bought 973 units at 1.09005/unit\n",
      "total holding: 102193 at avg buy price: 1.0895303348565952\n",
      "total profit: 3.327075788235166\n",
      "sold 2047 units at profit: 0.0006696651434048295 avg buy price: 1.0895303348565952 current price: 1.0902\n",
      "total holding: 100146 at avg buy price: 1.0895166467956787\n",
      "total profit: 4.697880336784852\n",
      "bought 1159 units at 1.09036/unit\n",
      "total holding: 101305 at avg buy price: 1.0895262953457385\n",
      "total profit: 4.697880336784852\n",
      "bought 733 units at 1.09028/unit\n",
      "total holding: 102038 at avg buy price: 1.089531709657187\n",
      "total profit: 4.697880336784852\n",
      "bought 5242 units at 1.08846/unit\n",
      "total holding: 107280 at avg buy price: 1.0894793429343779\n",
      "total profit: 4.697880336784852\n",
      "bought 3391 units at 1.08834/unit\n",
      "total holding: 110671 at avg buy price: 1.089444433049309\n",
      "total profit: 4.697880336784852\n",
      "bought 2774 units at 1.08792/unit\n",
      "total holding: 113445 at avg buy price: 1.08940715703645\n",
      "total profit: 4.697880336784852\n",
      "bought 3368 units at 1.08771/unit\n",
      "total holding: 116813 at avg buy price: 1.089358223913435\n",
      "total profit: 4.697880336784852\n",
      "bought 1968 units at 1.08806/unit\n",
      "total holding: 118781 at avg buy price: 1.0893367145418886\n",
      "total profit: 4.697880336784852\n",
      "bought 1565 units at 1.0877/unit\n",
      "total holding: 120346 at avg buy price: 1.0893154304256067\n",
      "total profit: 4.697880336784852\n",
      "bought 1446 units at 1.0873/unit\n",
      "total holding: 121792 at avg buy price: 1.0892915018227805\n",
      "total profit: 4.697880336784852\n",
      "bought 1757 units at 1.08721/unit\n",
      "total holding: 123549 at avg buy price: 1.0892619006224258\n",
      "total profit: 4.697880336784852\n",
      "bought 2063 units at 1.08724/unit\n",
      "total holding: 125612 at avg buy price: 1.0892286937553743\n",
      "total profit: 4.697880336784852\n",
      "bought 1272 units at 1.08752/unit\n",
      "total holding: 126884 at avg buy price: 1.0892115642634224\n",
      "total profit: 4.697880336784852\n",
      "bought 935 units at 1.08781/unit\n",
      "total holding: 127819 at avg buy price: 1.08920131177681\n",
      "total profit: 4.697880336784852\n",
      "bought 1119 units at 1.08769/unit\n",
      "total holding: 128938 at avg buy price: 1.0891881957219756\n",
      "total profit: 4.697880336784852\n",
      "bought 1624 units at 1.08803/unit\n",
      "total holding: 130562 at avg buy price: 1.0891737894640101\n",
      "total profit: 4.697880336784852\n",
      "bought 1005 units at 1.08799/unit\n",
      "total holding: 131567 at avg buy price: 1.0891647468590155\n",
      "total profit: 4.697880336784852\n",
      "bought 1247 units at 1.08805/unit\n",
      "total holding: 132814 at avg buy price: 1.0891542804222454\n",
      "total profit: 4.697880336784852\n",
      "bought 946 units at 1.08823/unit\n",
      "total holding: 133760 at avg buy price: 1.089147743570575\n",
      "total profit: 4.697880336784852\n",
      "bought 1055 units at 1.08831/unit\n",
      "total holding: 134815 at avg buy price: 1.0891411877758417\n",
      "total profit: 4.697880336784852\n",
      "bought 1336 units at 1.08829/unit\n",
      "total holding: 136151 at avg buy price: 1.0891328353813052\n",
      "total profit: 4.697880336784852\n",
      "bought 1605 units at 1.08786/unit\n",
      "total holding: 137756 at avg buy price: 1.0891180055315202\n",
      "total profit: 4.697880336784852\n",
      "bought 1589 units at 1.08786/unit\n",
      "total holding: 139345 at avg buy price: 1.0891036600523887\n",
      "total profit: 4.697880336784852\n",
      "bought 983 units at 1.08804/unit\n",
      "total holding: 140328 at avg buy price: 1.0890962090958334\n",
      "total profit: 4.697880336784852\n",
      "bought 809 units at 1.08777/unit\n",
      "total holding: 141137 at avg buy price: 1.089088607239775\n",
      "total profit: 4.697880336784852\n",
      "bought 1572 units at 1.0877/unit\n",
      "total holding: 142709 at avg buy price: 1.0890733111436568\n",
      "total profit: 4.697880336784852\n",
      "bought 1120 units at 1.08765/unit\n",
      "total holding: 143829 at avg buy price: 1.0890622277843836\n",
      "total profit: 4.697880336784852\n",
      "bought 814 units at 1.08762/unit\n",
      "total holding: 144643 at avg buy price: 1.089054111432977\n",
      "total profit: 4.697880336784852\n",
      "bought 944 units at 1.08752/unit\n",
      "total holding: 145587 at avg buy price: 1.0890441641080597\n",
      "total profit: 4.697880336784852\n",
      "bought 1372 units at 1.08769/unit\n",
      "total holding: 146959 at avg buy price: 1.0890315217169422\n",
      "total profit: 4.697880336784852\n",
      "bought 1010 units at 1.08785/unit\n",
      "total holding: 147969 at avg buy price: 1.0890234569403057\n",
      "total profit: 4.697880336784852\n",
      "bought 752 units at 1.08811/unit\n",
      "total holding: 148721 at avg buy price: 1.0890188380928052\n",
      "total profit: 4.697880336784852\n",
      "bought 1147 units at 1.08805/unit\n",
      "total holding: 149868 at avg buy price: 1.0890114231857373\n",
      "total profit: 4.697880336784852\n",
      "bought 769 units at 1.08811/unit\n",
      "total holding: 150637 at avg buy price: 1.0890068214316542\n",
      "total profit: 4.697880336784852\n",
      "bought 922 units at 1.08807/unit\n",
      "total holding: 151559 at avg buy price: 1.0890011223351967\n",
      "total profit: 4.697880336784852\n",
      "bought 877 units at 1.08825/unit\n",
      "total holding: 152436 at avg buy price: 1.0889968009525315\n",
      "total profit: 4.697880336784852\n",
      "bought 823 units at 1.08821/unit\n",
      "total holding: 153259 at avg buy price: 1.0889925758356775\n",
      "total profit: 4.697880336784852\n",
      "bought 1011 units at 1.08826/unit\n",
      "total holding: 154270 at avg buy price: 1.088987774940041\n",
      "total profit: 4.697880336784852\n",
      "bought 872 units at 1.08841/unit\n",
      "total holding: 155142 at avg buy price: 1.0889845274651617\n",
      "total profit: 4.697880336784852\n",
      "bought 668 units at 1.08853/unit\n",
      "total holding: 155810 at avg buy price: 1.0889825787818506\n",
      "total profit: 4.697880336784852\n",
      "bought 496 units at 1.08847/unit\n",
      "total holding: 156306 at avg buy price: 1.08898095223472\n",
      "total profit: 4.697880336784852\n",
      "bought 683 units at 1.08844/unit\n",
      "total holding: 156989 at avg buy price: 1.0889785987553278\n",
      "total profit: 4.697880336784852\n",
      "bought 487 units at 1.08819/unit\n",
      "total holding: 157476 at avg buy price: 1.0889761599862846\n",
      "total profit: 4.697880336784852\n",
      "bought 400 units at 1.08846/unit\n",
      "total holding: 157876 at avg buy price: 1.0889748522257985\n",
      "total profit: 4.697880336784852\n",
      "bought 1120 units at 1.08837/unit\n",
      "total holding: 158996 at avg buy price: 1.0889705915243162\n",
      "total profit: 4.697880336784852\n",
      "bought 396 units at 1.08841/unit\n",
      "total holding: 159392 at avg buy price: 1.0889691987678187\n",
      "total profit: 4.697880336784852\n",
      "bought 411 units at 1.08822/unit\n",
      "total holding: 159803 at avg buy price: 1.0889672718910168\n",
      "total profit: 4.697880336784852\n",
      "bought 998 units at 1.08846/unit\n",
      "total holding: 160801 at avg buy price: 1.0889641235440088\n",
      "total profit: 4.697880336784852\n",
      "bought 572 units at 1.08837/unit\n",
      "total holding: 161373 at avg buy price: 1.088962017623767\n",
      "total profit: 4.697880336784852\n",
      "bought 365 units at 1.08855/unit\n",
      "total holding: 161738 at avg buy price: 1.0889610878086793\n",
      "total profit: 4.697880336784852\n",
      "bought 365 units at 1.08874/unit\n",
      "total holding: 162103 at avg buy price: 1.088960589995251\n",
      "total profit: 4.697880336784852\n",
      "bought 354 units at 1.0889/unit\n",
      "total holding: 162457 at avg buy price: 1.0889604579673402\n",
      "total profit: 4.697880336784852\n"
     ]
    },
    {
     "data": {
      "application/vnd.plotly.v1+json": {
       "config": {
        "plotlyServerURL": "https://plot.ly"
       },
       "data": [
        {
         "hovertemplate": "variable=mid<br>timeStamp=%{x}<br>value=%{y}<extra></extra>",
         "legendgroup": "mid",
         "line": {
          "color": "#636efa",
          "dash": "solid"
         },
         "marker": {
          "symbol": "circle"
         },
         "mode": "lines",
         "name": "mid",
         "orientation": "v",
         "showlegend": true,
         "type": "scatter",
         "x": [
          "2024-07-15 17:05",
          "2024-07-15 17:10",
          "2024-07-15 17:15",
          "2024-07-15 17:20",
          "2024-07-15 17:25",
          "2024-07-15 17:30",
          "2024-07-15 17:35",
          "2024-07-15 17:40",
          "2024-07-15 17:45",
          "2024-07-15 17:50",
          "2024-07-15 17:55",
          "2024-07-15 18:00",
          "2024-07-15 18:05",
          "2024-07-15 18:10",
          "2024-07-15 18:15",
          "2024-07-15 18:20",
          "2024-07-15 18:25",
          "2024-07-15 18:30",
          "2024-07-15 18:35",
          "2024-07-15 18:40",
          "2024-07-15 18:45",
          "2024-07-15 18:50",
          "2024-07-15 18:55",
          "2024-07-15 19:00",
          "2024-07-15 19:05",
          "2024-07-15 19:10",
          "2024-07-15 19:15",
          "2024-07-15 19:20",
          "2024-07-15 19:25",
          "2024-07-15 19:30",
          "2024-07-15 19:35",
          "2024-07-15 19:40",
          "2024-07-15 19:45",
          "2024-07-15 19:50",
          "2024-07-15 19:55",
          "2024-07-15 20:00",
          "2024-07-15 20:05",
          "2024-07-15 20:10",
          "2024-07-15 20:15",
          "2024-07-15 20:20",
          "2024-07-15 20:25",
          "2024-07-15 20:30",
          "2024-07-15 20:35",
          "2024-07-15 20:40",
          "2024-07-15 20:45",
          "2024-07-15 20:50",
          "2024-07-15 20:55",
          "2024-07-15 21:00",
          "2024-07-15 21:05",
          "2024-07-15 21:10",
          "2024-07-15 21:15",
          "2024-07-15 21:20",
          "2024-07-15 21:25",
          "2024-07-15 21:30",
          "2024-07-15 21:35",
          "2024-07-15 21:40",
          "2024-07-15 21:45",
          "2024-07-15 21:50",
          "2024-07-15 21:55",
          "2024-07-15 22:00",
          "2024-07-15 22:05",
          "2024-07-15 22:10",
          "2024-07-15 22:15",
          "2024-07-15 22:20",
          "2024-07-15 22:25",
          "2024-07-15 22:30",
          "2024-07-15 22:35",
          "2024-07-15 22:40",
          "2024-07-15 22:45",
          "2024-07-15 22:50",
          "2024-07-15 22:55",
          "2024-07-15 23:00",
          "2024-07-15 23:05",
          "2024-07-15 23:10",
          "2024-07-15 23:15",
          "2024-07-15 23:20",
          "2024-07-15 23:25",
          "2024-07-15 23:30",
          "2024-07-15 23:35",
          "2024-07-15 23:40",
          "2024-07-15 23:45",
          "2024-07-15 23:50",
          "2024-07-15 23:55",
          "2024-07-16 00:00",
          "2024-07-16 00:05",
          "2024-07-16 00:10",
          "2024-07-16 00:15",
          "2024-07-16 00:20",
          "2024-07-16 00:25",
          "2024-07-16 00:30",
          "2024-07-16 00:35",
          "2024-07-16 00:40",
          "2024-07-16 00:45",
          "2024-07-16 00:50",
          "2024-07-16 00:55",
          "2024-07-16 01:00",
          "2024-07-16 01:05",
          "2024-07-16 01:10",
          "2024-07-16 01:15",
          "2024-07-16 01:20",
          "2024-07-16 01:25",
          "2024-07-16 01:30",
          "2024-07-16 01:35",
          "2024-07-16 01:40",
          "2024-07-16 01:45",
          "2024-07-16 01:50",
          "2024-07-16 01:55",
          "2024-07-16 02:00",
          "2024-07-16 02:05",
          "2024-07-16 02:10",
          "2024-07-16 02:15",
          "2024-07-16 02:20",
          "2024-07-16 02:25",
          "2024-07-16 02:30",
          "2024-07-16 02:35",
          "2024-07-16 02:40",
          "2024-07-16 02:45",
          "2024-07-16 02:50",
          "2024-07-16 02:55",
          "2024-07-16 03:00",
          "2024-07-16 03:05",
          "2024-07-16 03:10",
          "2024-07-16 03:15",
          "2024-07-16 03:20",
          "2024-07-16 03:25",
          "2024-07-16 03:30",
          "2024-07-16 03:35",
          "2024-07-16 03:40",
          "2024-07-16 03:45",
          "2024-07-16 03:50",
          "2024-07-16 03:55",
          "2024-07-16 04:00",
          "2024-07-16 04:05",
          "2024-07-16 04:10",
          "2024-07-16 04:15",
          "2024-07-16 04:20",
          "2024-07-16 04:25",
          "2024-07-16 04:30",
          "2024-07-16 04:35",
          "2024-07-16 04:40",
          "2024-07-16 04:45",
          "2024-07-16 04:50",
          "2024-07-16 04:55",
          "2024-07-16 05:00",
          "2024-07-16 05:05",
          "2024-07-16 05:10",
          "2024-07-16 05:15",
          "2024-07-16 05:20",
          "2024-07-16 05:25",
          "2024-07-16 05:30",
          "2024-07-16 05:35",
          "2024-07-16 05:40",
          "2024-07-16 05:45",
          "2024-07-16 05:50",
          "2024-07-16 05:55",
          "2024-07-16 06:00",
          "2024-07-16 06:05",
          "2024-07-16 06:10",
          "2024-07-16 06:15",
          "2024-07-16 06:20",
          "2024-07-16 06:25",
          "2024-07-16 06:30",
          "2024-07-16 06:35",
          "2024-07-16 06:40",
          "2024-07-16 06:45",
          "2024-07-16 06:50",
          "2024-07-16 06:55",
          "2024-07-16 07:00",
          "2024-07-16 07:05",
          "2024-07-16 07:10",
          "2024-07-16 07:15",
          "2024-07-16 07:20",
          "2024-07-16 07:25",
          "2024-07-16 07:30",
          "2024-07-16 07:35",
          "2024-07-16 07:40",
          "2024-07-16 07:45",
          "2024-07-16 07:50",
          "2024-07-16 07:55",
          "2024-07-16 08:00",
          "2024-07-16 08:05",
          "2024-07-16 08:10",
          "2024-07-16 08:15",
          "2024-07-16 08:20",
          "2024-07-16 08:25",
          "2024-07-16 08:30",
          "2024-07-16 08:35",
          "2024-07-16 08:40",
          "2024-07-16 08:45",
          "2024-07-16 08:50",
          "2024-07-16 08:55",
          "2024-07-16 09:00",
          "2024-07-16 09:05",
          "2024-07-16 09:10",
          "2024-07-16 09:15",
          "2024-07-16 09:20",
          "2024-07-16 09:25",
          "2024-07-16 09:30",
          "2024-07-16 09:35",
          "2024-07-16 09:40",
          "2024-07-16 09:45",
          "2024-07-16 09:50",
          "2024-07-16 09:55",
          "2024-07-16 10:00",
          "2024-07-16 10:05",
          "2024-07-16 10:10",
          "2024-07-16 10:15",
          "2024-07-16 10:20",
          "2024-07-16 10:25",
          "2024-07-16 10:30",
          "2024-07-16 10:35",
          "2024-07-16 10:40",
          "2024-07-16 10:45",
          "2024-07-16 10:50",
          "2024-07-16 10:55",
          "2024-07-16 11:00",
          "2024-07-16 11:05",
          "2024-07-16 11:10",
          "2024-07-16 11:15",
          "2024-07-16 11:20",
          "2024-07-16 11:25",
          "2024-07-16 11:30",
          "2024-07-16 11:35",
          "2024-07-16 11:40",
          "2024-07-16 11:45",
          "2024-07-16 11:50",
          "2024-07-16 11:55",
          "2024-07-16 12:00",
          "2024-07-16 12:05",
          "2024-07-16 12:10",
          "2024-07-16 12:15",
          "2024-07-16 12:20",
          "2024-07-16 12:25",
          "2024-07-16 12:30",
          "2024-07-16 12:35",
          "2024-07-16 12:40",
          "2024-07-16 12:45",
          "2024-07-16 12:50",
          "2024-07-16 12:55",
          "2024-07-16 13:00",
          "2024-07-16 13:05",
          "2024-07-16 13:10",
          "2024-07-16 13:15",
          "2024-07-16 13:20",
          "2024-07-16 13:25",
          "2024-07-16 13:30",
          "2024-07-16 13:35",
          "2024-07-16 13:40",
          "2024-07-16 13:45",
          "2024-07-16 13:50",
          "2024-07-16 13:55",
          "2024-07-16 14:00",
          "2024-07-16 14:05",
          "2024-07-16 14:10",
          "2024-07-16 14:15",
          "2024-07-16 14:20",
          "2024-07-16 14:25",
          "2024-07-16 14:30",
          "2024-07-16 14:35",
          "2024-07-16 14:40",
          "2024-07-16 14:45",
          "2024-07-16 14:50",
          "2024-07-16 14:55",
          "2024-07-16 15:00",
          "2024-07-16 15:05",
          "2024-07-16 15:10",
          "2024-07-16 15:15",
          "2024-07-16 15:20",
          "2024-07-16 15:25",
          "2024-07-16 15:30",
          "2024-07-16 15:35",
          "2024-07-16 15:40",
          "2024-07-16 15:45",
          "2024-07-16 15:50",
          "2024-07-16 15:55",
          "2024-07-16 16:00",
          "2024-07-16 16:05",
          "2024-07-16 16:10",
          "2024-07-16 16:15",
          "2024-07-16 16:20",
          "2024-07-16 16:25",
          "2024-07-16 16:30",
          "2024-07-16 16:35",
          "2024-07-16 16:40",
          "2024-07-16 16:45",
          "2024-07-16 16:50",
          "2024-07-16 16:55"
         ],
         "xaxis": "x",
         "y": [
          1.09035,
          1.09006,
          1.08997,
          1.09011,
          1.0898,
          1.08952,
          1.08935,
          1.08948,
          1.08942,
          1.0895,
          1.08948,
          1.08935,
          1.08958,
          1.0896,
          1.08949,
          1.08972,
          1.08974,
          1.09009,
          1.09006,
          1.09007,
          1.09009,
          1.0899,
          1.09014,
          1.08992,
          1.08987,
          1.08981,
          1.08994,
          1.08997,
          1.08983,
          1.08982,
          1.08973,
          1.08971,
          1.08979,
          1.0897,
          1.08987,
          1.08975,
          1.08964,
          1.08974,
          1.08977,
          1.08981,
          1.08984,
          1.08978,
          1.08978,
          1.08965,
          1.08966,
          1.08951,
          1.08938,
          1.08948,
          1.08948,
          1.08949,
          1.08949,
          1.08945,
          1.0895,
          1.08945,
          1.08945,
          1.08942,
          1.08942,
          1.08943,
          1.08952,
          1.08957,
          1.0896,
          1.0895,
          1.08949,
          1.08954,
          1.08956,
          1.08956,
          1.08943,
          1.08945,
          1.08944,
          1.08948,
          1.08944,
          1.0896,
          1.08969,
          1.08964,
          1.08971,
          1.08969,
          1.08967,
          1.0897,
          1.08971,
          1.08974,
          1.08964,
          1.0897,
          1.08981,
          1.0896,
          1.0896,
          1.08969,
          1.08939,
          1.08957,
          1.08955,
          1.08949,
          1.08933,
          1.08919,
          1.0893,
          1.08912,
          1.08913,
          1.08918,
          1.0893,
          1.08919,
          1.08916,
          1.08925,
          1.08906,
          1.08916,
          1.08918,
          1.08915,
          1.08915,
          1.08924,
          1.08928,
          1.08922,
          1.08926,
          1.08911,
          1.08908,
          1.08901,
          1.08905,
          1.08897,
          1.08896,
          1.08896,
          1.08899,
          1.089,
          1.08909,
          1.08935,
          1.08924,
          1.08925,
          1.08931,
          1.08927,
          1.08936,
          1.0892,
          1.08924,
          1.0892,
          1.08929,
          1.08931,
          1.0893,
          1.08925,
          1.08929,
          1.08933,
          1.08933,
          1.0893,
          1.0892,
          1.0893,
          1.08933,
          1.0894,
          1.08939,
          1.08924,
          1.08923,
          1.08918,
          1.08921,
          1.08905,
          1.08902,
          1.08898,
          1.08882,
          1.08888,
          1.08882,
          1.08894,
          1.08899,
          1.08879,
          1.08884,
          1.08868,
          1.08854,
          1.08851,
          1.08856,
          1.08864,
          1.08864,
          1.08839,
          1.08871,
          1.0886,
          1.08891,
          1.0888,
          1.08885,
          1.08899,
          1.08922,
          1.08938,
          1.08957,
          1.08965,
          1.08961,
          1.08965,
          1.08953,
          1.08963,
          1.08972,
          1.08972,
          1.08992,
          1.08939,
          1.08958,
          1.08975,
          1.08973,
          1.09015,
          1.0898,
          1.09005,
          1.0901,
          1.08995,
          1.08976,
          1.08985,
          1.09002,
          1.09016,
          1.09026,
          1.08999,
          1.08997,
          1.09027,
          1.09005,
          1.08964,
          1.08951,
          1.08961,
          1.08976,
          1.08994,
          1.08979,
          1.09,
          1.0899,
          1.09001,
          1.09025,
          1.09015,
          1.09005,
          1.09008,
          1.09002,
          1.09,
          1.08995,
          1.08963,
          1.08989,
          1.08999,
          1.08988,
          1.08965,
          1.08964,
          1.08978,
          1.0896,
          1.0895,
          1.08959,
          1.08951,
          1.09014,
          1.09011,
          1.09021,
          1.09021,
          1.09019,
          1.09005,
          1.0902,
          1.09036,
          1.09028,
          1.08918,
          1.08846,
          1.08834,
          1.08792,
          1.08771,
          1.08806,
          1.0877,
          1.0873,
          1.08721,
          1.08724,
          1.08752,
          1.08781,
          1.08769,
          1.08803,
          1.08799,
          1.08805,
          1.08823,
          1.08831,
          1.08829,
          1.08786,
          1.08786,
          1.08804,
          1.08811,
          1.08777,
          1.0877,
          1.08765,
          1.08762,
          1.08752,
          1.08769,
          1.08785,
          1.08811,
          1.08805,
          1.08811,
          1.08807,
          1.08825,
          1.08821,
          1.08826,
          1.08848,
          1.08841,
          1.08853,
          1.08847,
          1.08844,
          1.08846,
          1.08819,
          1.08846,
          1.08837,
          1.08841,
          1.08822,
          1.08822,
          1.08846,
          1.08837,
          1.08855,
          1.08874,
          1.0889
         ],
         "yaxis": "y"
        },
        {
         "hovertemplate": "variable=quoteSize<br>timeStamp=%{x}<br>value=%{y}<extra></extra>",
         "legendgroup": "quoteSize",
         "line": {
          "color": "#EF553B",
          "dash": "solid"
         },
         "marker": {
          "symbol": "circle"
         },
         "mode": "lines",
         "name": "quoteSize",
         "orientation": "v",
         "showlegend": true,
         "type": "scatter",
         "x": [
          "2024-07-15 17:05",
          "2024-07-15 17:10",
          "2024-07-15 17:15",
          "2024-07-15 17:20",
          "2024-07-15 17:25",
          "2024-07-15 17:30",
          "2024-07-15 17:35",
          "2024-07-15 17:40",
          "2024-07-15 17:45",
          "2024-07-15 17:50",
          "2024-07-15 17:55",
          "2024-07-15 18:00",
          "2024-07-15 18:05",
          "2024-07-15 18:10",
          "2024-07-15 18:15",
          "2024-07-15 18:20",
          "2024-07-15 18:25",
          "2024-07-15 18:30",
          "2024-07-15 18:35",
          "2024-07-15 18:40",
          "2024-07-15 18:45",
          "2024-07-15 18:50",
          "2024-07-15 18:55",
          "2024-07-15 19:00",
          "2024-07-15 19:05",
          "2024-07-15 19:10",
          "2024-07-15 19:15",
          "2024-07-15 19:20",
          "2024-07-15 19:25",
          "2024-07-15 19:30",
          "2024-07-15 19:35",
          "2024-07-15 19:40",
          "2024-07-15 19:45",
          "2024-07-15 19:50",
          "2024-07-15 19:55",
          "2024-07-15 20:00",
          "2024-07-15 20:05",
          "2024-07-15 20:10",
          "2024-07-15 20:15",
          "2024-07-15 20:20",
          "2024-07-15 20:25",
          "2024-07-15 20:30",
          "2024-07-15 20:35",
          "2024-07-15 20:40",
          "2024-07-15 20:45",
          "2024-07-15 20:50",
          "2024-07-15 20:55",
          "2024-07-15 21:00",
          "2024-07-15 21:05",
          "2024-07-15 21:10",
          "2024-07-15 21:15",
          "2024-07-15 21:20",
          "2024-07-15 21:25",
          "2024-07-15 21:30",
          "2024-07-15 21:35",
          "2024-07-15 21:40",
          "2024-07-15 21:45",
          "2024-07-15 21:50",
          "2024-07-15 21:55",
          "2024-07-15 22:00",
          "2024-07-15 22:05",
          "2024-07-15 22:10",
          "2024-07-15 22:15",
          "2024-07-15 22:20",
          "2024-07-15 22:25",
          "2024-07-15 22:30",
          "2024-07-15 22:35",
          "2024-07-15 22:40",
          "2024-07-15 22:45",
          "2024-07-15 22:50",
          "2024-07-15 22:55",
          "2024-07-15 23:00",
          "2024-07-15 23:05",
          "2024-07-15 23:10",
          "2024-07-15 23:15",
          "2024-07-15 23:20",
          "2024-07-15 23:25",
          "2024-07-15 23:30",
          "2024-07-15 23:35",
          "2024-07-15 23:40",
          "2024-07-15 23:45",
          "2024-07-15 23:50",
          "2024-07-15 23:55",
          "2024-07-16 00:00",
          "2024-07-16 00:05",
          "2024-07-16 00:10",
          "2024-07-16 00:15",
          "2024-07-16 00:20",
          "2024-07-16 00:25",
          "2024-07-16 00:30",
          "2024-07-16 00:35",
          "2024-07-16 00:40",
          "2024-07-16 00:45",
          "2024-07-16 00:50",
          "2024-07-16 00:55",
          "2024-07-16 01:00",
          "2024-07-16 01:05",
          "2024-07-16 01:10",
          "2024-07-16 01:15",
          "2024-07-16 01:20",
          "2024-07-16 01:25",
          "2024-07-16 01:30",
          "2024-07-16 01:35",
          "2024-07-16 01:40",
          "2024-07-16 01:45",
          "2024-07-16 01:50",
          "2024-07-16 01:55",
          "2024-07-16 02:00",
          "2024-07-16 02:05",
          "2024-07-16 02:10",
          "2024-07-16 02:15",
          "2024-07-16 02:20",
          "2024-07-16 02:25",
          "2024-07-16 02:30",
          "2024-07-16 02:35",
          "2024-07-16 02:40",
          "2024-07-16 02:45",
          "2024-07-16 02:50",
          "2024-07-16 02:55",
          "2024-07-16 03:00",
          "2024-07-16 03:05",
          "2024-07-16 03:10",
          "2024-07-16 03:15",
          "2024-07-16 03:20",
          "2024-07-16 03:25",
          "2024-07-16 03:30",
          "2024-07-16 03:35",
          "2024-07-16 03:40",
          "2024-07-16 03:45",
          "2024-07-16 03:50",
          "2024-07-16 03:55",
          "2024-07-16 04:00",
          "2024-07-16 04:05",
          "2024-07-16 04:10",
          "2024-07-16 04:15",
          "2024-07-16 04:20",
          "2024-07-16 04:25",
          "2024-07-16 04:30",
          "2024-07-16 04:35",
          "2024-07-16 04:40",
          "2024-07-16 04:45",
          "2024-07-16 04:50",
          "2024-07-16 04:55",
          "2024-07-16 05:00",
          "2024-07-16 05:05",
          "2024-07-16 05:10",
          "2024-07-16 05:15",
          "2024-07-16 05:20",
          "2024-07-16 05:25",
          "2024-07-16 05:30",
          "2024-07-16 05:35",
          "2024-07-16 05:40",
          "2024-07-16 05:45",
          "2024-07-16 05:50",
          "2024-07-16 05:55",
          "2024-07-16 06:00",
          "2024-07-16 06:05",
          "2024-07-16 06:10",
          "2024-07-16 06:15",
          "2024-07-16 06:20",
          "2024-07-16 06:25",
          "2024-07-16 06:30",
          "2024-07-16 06:35",
          "2024-07-16 06:40",
          "2024-07-16 06:45",
          "2024-07-16 06:50",
          "2024-07-16 06:55",
          "2024-07-16 07:00",
          "2024-07-16 07:05",
          "2024-07-16 07:10",
          "2024-07-16 07:15",
          "2024-07-16 07:20",
          "2024-07-16 07:25",
          "2024-07-16 07:30",
          "2024-07-16 07:35",
          "2024-07-16 07:40",
          "2024-07-16 07:45",
          "2024-07-16 07:50",
          "2024-07-16 07:55",
          "2024-07-16 08:00",
          "2024-07-16 08:05",
          "2024-07-16 08:10",
          "2024-07-16 08:15",
          "2024-07-16 08:20",
          "2024-07-16 08:25",
          "2024-07-16 08:30",
          "2024-07-16 08:35",
          "2024-07-16 08:40",
          "2024-07-16 08:45",
          "2024-07-16 08:50",
          "2024-07-16 08:55",
          "2024-07-16 09:00",
          "2024-07-16 09:05",
          "2024-07-16 09:10",
          "2024-07-16 09:15",
          "2024-07-16 09:20",
          "2024-07-16 09:25",
          "2024-07-16 09:30",
          "2024-07-16 09:35",
          "2024-07-16 09:40",
          "2024-07-16 09:45",
          "2024-07-16 09:50",
          "2024-07-16 09:55",
          "2024-07-16 10:00",
          "2024-07-16 10:05",
          "2024-07-16 10:10",
          "2024-07-16 10:15",
          "2024-07-16 10:20",
          "2024-07-16 10:25",
          "2024-07-16 10:30",
          "2024-07-16 10:35",
          "2024-07-16 10:40",
          "2024-07-16 10:45",
          "2024-07-16 10:50",
          "2024-07-16 10:55",
          "2024-07-16 11:00",
          "2024-07-16 11:05",
          "2024-07-16 11:10",
          "2024-07-16 11:15",
          "2024-07-16 11:20",
          "2024-07-16 11:25",
          "2024-07-16 11:30",
          "2024-07-16 11:35",
          "2024-07-16 11:40",
          "2024-07-16 11:45",
          "2024-07-16 11:50",
          "2024-07-16 11:55",
          "2024-07-16 12:00",
          "2024-07-16 12:05",
          "2024-07-16 12:10",
          "2024-07-16 12:15",
          "2024-07-16 12:20",
          "2024-07-16 12:25",
          "2024-07-16 12:30",
          "2024-07-16 12:35",
          "2024-07-16 12:40",
          "2024-07-16 12:45",
          "2024-07-16 12:50",
          "2024-07-16 12:55",
          "2024-07-16 13:00",
          "2024-07-16 13:05",
          "2024-07-16 13:10",
          "2024-07-16 13:15",
          "2024-07-16 13:20",
          "2024-07-16 13:25",
          "2024-07-16 13:30",
          "2024-07-16 13:35",
          "2024-07-16 13:40",
          "2024-07-16 13:45",
          "2024-07-16 13:50",
          "2024-07-16 13:55",
          "2024-07-16 14:00",
          "2024-07-16 14:05",
          "2024-07-16 14:10",
          "2024-07-16 14:15",
          "2024-07-16 14:20",
          "2024-07-16 14:25",
          "2024-07-16 14:30",
          "2024-07-16 14:35",
          "2024-07-16 14:40",
          "2024-07-16 14:45",
          "2024-07-16 14:50",
          "2024-07-16 14:55",
          "2024-07-16 15:00",
          "2024-07-16 15:05",
          "2024-07-16 15:10",
          "2024-07-16 15:15",
          "2024-07-16 15:20",
          "2024-07-16 15:25",
          "2024-07-16 15:30",
          "2024-07-16 15:35",
          "2024-07-16 15:40",
          "2024-07-16 15:45",
          "2024-07-16 15:50",
          "2024-07-16 15:55",
          "2024-07-16 16:00",
          "2024-07-16 16:05",
          "2024-07-16 16:10",
          "2024-07-16 16:15",
          "2024-07-16 16:20",
          "2024-07-16 16:25",
          "2024-07-16 16:30",
          "2024-07-16 16:35",
          "2024-07-16 16:40",
          "2024-07-16 16:45",
          "2024-07-16 16:50",
          "2024-07-16 16:55"
         ],
         "xaxis": "x",
         "y": [
          1176,
          1125,
          1544,
          1149,
          2464,
          2757,
          1766,
          1481,
          938,
          717,
          635,
          549,
          664,
          559,
          354,
          457,
          404,
          524,
          604,
          418,
          857,
          827,
          880,
          480,
          442,
          506,
          330,
          551,
          448,
          571,
          1042,
          589,
          583,
          750,
          1637,
          678,
          508,
          182,
          283,
          217,
          360,
          1811,
          1385,
          358,
          373,
          372,
          208,
          23,
          8,
          38,
          123,
          52,
          104,
          127,
          27,
          24,
          85,
          35,
          16,
          325,
          44,
          90,
          150,
          243,
          62,
          147,
          94,
          320,
          355,
          218,
          203,
          417,
          686,
          549,
          230,
          682,
          431,
          371,
          64,
          76,
          423,
          196,
          193,
          1092,
          422,
          703,
          704,
          628,
          301,
          583,
          620,
          1140,
          502,
          636,
          700,
          692,
          542,
          714,
          729,
          532,
          1023,
          954,
          1129,
          806,
          678,
          295,
          300,
          483,
          318,
          153,
          502,
          432,
          400,
          555,
          219,
          387,
          282,
          246,
          267,
          285,
          280,
          163,
          330,
          222,
          423,
          217,
          197,
          366,
          577,
          506,
          465,
          279,
          273,
          157,
          110,
          140,
          127,
          248,
          468,
          394,
          226,
          551,
          1017,
          725,
          906,
          904,
          1359,
          585,
          1138,
          421,
          441,
          273,
          288,
          631,
          900,
          1402,
          994,
          757,
          993,
          696,
          644,
          467,
          604,
          1161,
          865,
          1284,
          1203,
          1100,
          753,
          800,
          625,
          750,
          619,
          1168,
          1147,
          1348,
          1394,
          1465,
          3869,
          2451,
          1428,
          1331,
          1405,
          1494,
          961,
          884,
          967,
          701,
          1759,
          656,
          877,
          1680,
          1290,
          1065,
          1511,
          978,
          813,
          980,
          1261,
          1241,
          1014,
          321,
          1983,
          1242,
          1065,
          1177,
          831,
          1500,
          975,
          834,
          1011,
          932,
          1169,
          1275,
          1133,
          829,
          876,
          1103,
          1013,
          430,
          534,
          710,
          755,
          694,
          796,
          1012,
          2820,
          2013,
          2026,
          973,
          2047,
          1159,
          733,
          4273,
          5242,
          3391,
          2774,
          3368,
          1968,
          1565,
          1446,
          1757,
          2063,
          1272,
          935,
          1119,
          1624,
          1005,
          1247,
          946,
          1055,
          1336,
          1605,
          1589,
          983,
          715,
          809,
          1572,
          1120,
          814,
          944,
          1372,
          1010,
          752,
          1147,
          769,
          922,
          877,
          823,
          1011,
          744,
          872,
          668,
          496,
          683,
          569,
          487,
          400,
          1120,
          396,
          411,
          862,
          998,
          572,
          365,
          365,
          354
         ],
         "yaxis": "y"
        },
        {
         "hovertemplate": "variable=amount<br>timeStamp=%{x}<br>value=%{y}<extra></extra>",
         "legendgroup": "amount",
         "line": {
          "color": "#00cc96",
          "dash": "solid"
         },
         "marker": {
          "symbol": "circle"
         },
         "mode": "lines",
         "name": "amount",
         "orientation": "v",
         "showlegend": true,
         "type": "scatter",
         "x": [
          "2024-07-15 17:05",
          "2024-07-15 17:10",
          "2024-07-15 17:15",
          "2024-07-15 17:20",
          "2024-07-15 17:25",
          "2024-07-15 17:30",
          "2024-07-15 17:35",
          "2024-07-15 17:40",
          "2024-07-15 17:45",
          "2024-07-15 17:50",
          "2024-07-15 17:55",
          "2024-07-15 18:00",
          "2024-07-15 18:05",
          "2024-07-15 18:10",
          "2024-07-15 18:15",
          "2024-07-15 18:20",
          "2024-07-15 18:25",
          "2024-07-15 18:30",
          "2024-07-15 18:35",
          "2024-07-15 18:40",
          "2024-07-15 18:45",
          "2024-07-15 18:50",
          "2024-07-15 18:55",
          "2024-07-15 19:00",
          "2024-07-15 19:05",
          "2024-07-15 19:10",
          "2024-07-15 19:15",
          "2024-07-15 19:20",
          "2024-07-15 19:25",
          "2024-07-15 19:30",
          "2024-07-15 19:35",
          "2024-07-15 19:40",
          "2024-07-15 19:45",
          "2024-07-15 19:50",
          "2024-07-15 19:55",
          "2024-07-15 20:00",
          "2024-07-15 20:05",
          "2024-07-15 20:10",
          "2024-07-15 20:15",
          "2024-07-15 20:20",
          "2024-07-15 20:25",
          "2024-07-15 20:30",
          "2024-07-15 20:35",
          "2024-07-15 20:40",
          "2024-07-15 20:45",
          "2024-07-15 20:50",
          "2024-07-15 20:55",
          "2024-07-15 21:00",
          "2024-07-15 21:05",
          "2024-07-15 21:10",
          "2024-07-15 21:15",
          "2024-07-15 21:20",
          "2024-07-15 21:25",
          "2024-07-15 21:30",
          "2024-07-15 21:35",
          "2024-07-15 21:40",
          "2024-07-15 21:45",
          "2024-07-15 21:50",
          "2024-07-15 21:55",
          "2024-07-15 22:00",
          "2024-07-15 22:05",
          "2024-07-15 22:10",
          "2024-07-15 22:15",
          "2024-07-15 22:20",
          "2024-07-15 22:25",
          "2024-07-15 22:30",
          "2024-07-15 22:35",
          "2024-07-15 22:40",
          "2024-07-15 22:45",
          "2024-07-15 22:50",
          "2024-07-15 22:55",
          "2024-07-15 23:00",
          "2024-07-15 23:05",
          "2024-07-15 23:10",
          "2024-07-15 23:15",
          "2024-07-15 23:20",
          "2024-07-15 23:25",
          "2024-07-15 23:30",
          "2024-07-15 23:35",
          "2024-07-15 23:40",
          "2024-07-15 23:45",
          "2024-07-15 23:50",
          "2024-07-15 23:55",
          "2024-07-16 00:00",
          "2024-07-16 00:05",
          "2024-07-16 00:10",
          "2024-07-16 00:15",
          "2024-07-16 00:20",
          "2024-07-16 00:25",
          "2024-07-16 00:30",
          "2024-07-16 00:35",
          "2024-07-16 00:40",
          "2024-07-16 00:45",
          "2024-07-16 00:50",
          "2024-07-16 00:55",
          "2024-07-16 01:00",
          "2024-07-16 01:05",
          "2024-07-16 01:10",
          "2024-07-16 01:15",
          "2024-07-16 01:20",
          "2024-07-16 01:25",
          "2024-07-16 01:30",
          "2024-07-16 01:35",
          "2024-07-16 01:40",
          "2024-07-16 01:45",
          "2024-07-16 01:50",
          "2024-07-16 01:55",
          "2024-07-16 02:00",
          "2024-07-16 02:05",
          "2024-07-16 02:10",
          "2024-07-16 02:15",
          "2024-07-16 02:20",
          "2024-07-16 02:25",
          "2024-07-16 02:30",
          "2024-07-16 02:35",
          "2024-07-16 02:40",
          "2024-07-16 02:45",
          "2024-07-16 02:50",
          "2024-07-16 02:55",
          "2024-07-16 03:00",
          "2024-07-16 03:05",
          "2024-07-16 03:10",
          "2024-07-16 03:15",
          "2024-07-16 03:20",
          "2024-07-16 03:25",
          "2024-07-16 03:30",
          "2024-07-16 03:35",
          "2024-07-16 03:40",
          "2024-07-16 03:45",
          "2024-07-16 03:50",
          "2024-07-16 03:55",
          "2024-07-16 04:00",
          "2024-07-16 04:05",
          "2024-07-16 04:10",
          "2024-07-16 04:15",
          "2024-07-16 04:20",
          "2024-07-16 04:25",
          "2024-07-16 04:30",
          "2024-07-16 04:35",
          "2024-07-16 04:40",
          "2024-07-16 04:45",
          "2024-07-16 04:50",
          "2024-07-16 04:55",
          "2024-07-16 05:00",
          "2024-07-16 05:05",
          "2024-07-16 05:10",
          "2024-07-16 05:15",
          "2024-07-16 05:20",
          "2024-07-16 05:25",
          "2024-07-16 05:30",
          "2024-07-16 05:35",
          "2024-07-16 05:40",
          "2024-07-16 05:45",
          "2024-07-16 05:50",
          "2024-07-16 05:55",
          "2024-07-16 06:00",
          "2024-07-16 06:05",
          "2024-07-16 06:10",
          "2024-07-16 06:15",
          "2024-07-16 06:20",
          "2024-07-16 06:25",
          "2024-07-16 06:30",
          "2024-07-16 06:35",
          "2024-07-16 06:40",
          "2024-07-16 06:45",
          "2024-07-16 06:50",
          "2024-07-16 06:55",
          "2024-07-16 07:00",
          "2024-07-16 07:05",
          "2024-07-16 07:10",
          "2024-07-16 07:15",
          "2024-07-16 07:20",
          "2024-07-16 07:25",
          "2024-07-16 07:30",
          "2024-07-16 07:35",
          "2024-07-16 07:40",
          "2024-07-16 07:45",
          "2024-07-16 07:50",
          "2024-07-16 07:55",
          "2024-07-16 08:00",
          "2024-07-16 08:05",
          "2024-07-16 08:10",
          "2024-07-16 08:15",
          "2024-07-16 08:20",
          "2024-07-16 08:25",
          "2024-07-16 08:30",
          "2024-07-16 08:35",
          "2024-07-16 08:40",
          "2024-07-16 08:45",
          "2024-07-16 08:50",
          "2024-07-16 08:55",
          "2024-07-16 09:00",
          "2024-07-16 09:05",
          "2024-07-16 09:10",
          "2024-07-16 09:15",
          "2024-07-16 09:20",
          "2024-07-16 09:25",
          "2024-07-16 09:30",
          "2024-07-16 09:35",
          "2024-07-16 09:40",
          "2024-07-16 09:45",
          "2024-07-16 09:50",
          "2024-07-16 09:55",
          "2024-07-16 10:00",
          "2024-07-16 10:05",
          "2024-07-16 10:10",
          "2024-07-16 10:15",
          "2024-07-16 10:20",
          "2024-07-16 10:25",
          "2024-07-16 10:30",
          "2024-07-16 10:35",
          "2024-07-16 10:40",
          "2024-07-16 10:45",
          "2024-07-16 10:50",
          "2024-07-16 10:55",
          "2024-07-16 11:00",
          "2024-07-16 11:05",
          "2024-07-16 11:10",
          "2024-07-16 11:15",
          "2024-07-16 11:20",
          "2024-07-16 11:25",
          "2024-07-16 11:30",
          "2024-07-16 11:35",
          "2024-07-16 11:40",
          "2024-07-16 11:45",
          "2024-07-16 11:50",
          "2024-07-16 11:55",
          "2024-07-16 12:00",
          "2024-07-16 12:05",
          "2024-07-16 12:10",
          "2024-07-16 12:15",
          "2024-07-16 12:20",
          "2024-07-16 12:25",
          "2024-07-16 12:30",
          "2024-07-16 12:35",
          "2024-07-16 12:40",
          "2024-07-16 12:45",
          "2024-07-16 12:50",
          "2024-07-16 12:55",
          "2024-07-16 13:00",
          "2024-07-16 13:05",
          "2024-07-16 13:10",
          "2024-07-16 13:15",
          "2024-07-16 13:20",
          "2024-07-16 13:25",
          "2024-07-16 13:30",
          "2024-07-16 13:35",
          "2024-07-16 13:40",
          "2024-07-16 13:45",
          "2024-07-16 13:50",
          "2024-07-16 13:55",
          "2024-07-16 14:00",
          "2024-07-16 14:05",
          "2024-07-16 14:10",
          "2024-07-16 14:15",
          "2024-07-16 14:20",
          "2024-07-16 14:25",
          "2024-07-16 14:30",
          "2024-07-16 14:35",
          "2024-07-16 14:40",
          "2024-07-16 14:45",
          "2024-07-16 14:50",
          "2024-07-16 14:55",
          "2024-07-16 15:00",
          "2024-07-16 15:05",
          "2024-07-16 15:10",
          "2024-07-16 15:15",
          "2024-07-16 15:20",
          "2024-07-16 15:25",
          "2024-07-16 15:30",
          "2024-07-16 15:35",
          "2024-07-16 15:40",
          "2024-07-16 15:45",
          "2024-07-16 15:50",
          "2024-07-16 15:55",
          "2024-07-16 16:00",
          "2024-07-16 16:05",
          "2024-07-16 16:10",
          "2024-07-16 16:15",
          "2024-07-16 16:20",
          "2024-07-16 16:25",
          "2024-07-16 16:30",
          "2024-07-16 16:35",
          "2024-07-16 16:40",
          "2024-07-16 16:45",
          "2024-07-16 16:50",
          "2024-07-16 16:55"
         ],
         "xaxis": "x",
         "y": [
          0,
          0,
          0,
          0,
          0,
          0,
          0,
          0,
          0,
          0,
          0,
          0,
          0,
          0,
          354,
          354,
          0,
          0,
          0,
          0,
          0,
          0,
          0,
          0,
          0,
          0,
          0,
          0,
          0,
          0,
          0,
          0,
          0,
          0,
          0,
          0,
          0,
          0,
          0,
          0,
          0,
          0,
          0,
          0,
          0,
          0,
          0,
          0,
          0,
          0,
          0,
          0,
          0,
          127,
          0,
          0,
          0,
          0,
          16,
          143,
          0,
          0,
          0,
          0,
          0,
          0,
          0,
          0,
          0,
          0,
          0,
          0,
          0,
          0,
          0,
          0,
          0,
          0,
          0,
          0,
          0,
          0,
          0,
          0,
          0,
          0,
          0,
          0,
          0,
          0,
          0,
          1140,
          502,
          636,
          700,
          692,
          542,
          714,
          729,
          532,
          1023,
          954,
          1129,
          806,
          678,
          295,
          300,
          483,
          318,
          153,
          502,
          0,
          400,
          555,
          219,
          387,
          282,
          246,
          267,
          285,
          280,
          163,
          330,
          222,
          423,
          217,
          197,
          366,
          577,
          506,
          465,
          279,
          273,
          157,
          110,
          140,
          127,
          248,
          468,
          394,
          226,
          551,
          1017,
          725,
          906,
          904,
          1359,
          585,
          1138,
          421,
          441,
          273,
          288,
          631,
          900,
          1402,
          994,
          757,
          993,
          696,
          644,
          467,
          604,
          1161,
          865,
          1284,
          1203,
          1100,
          753,
          800,
          625,
          750,
          619,
          1168,
          1147,
          1348,
          1394,
          1465,
          3869,
          2451,
          1428,
          1331,
          1405,
          1494,
          961,
          884,
          967,
          701,
          1759,
          656,
          877,
          1680,
          1290,
          1065,
          1511,
          978,
          813,
          980,
          1261,
          1241,
          1014,
          321,
          1983,
          1242,
          1065,
          1177,
          831,
          1500,
          975,
          834,
          1011,
          932,
          1169,
          1275,
          1133,
          829,
          876,
          1103,
          1013,
          430,
          534,
          710,
          755,
          694,
          796,
          1012,
          2820,
          2013,
          2026,
          973,
          2047,
          1159,
          733,
          0,
          5242,
          3391,
          2774,
          3368,
          1968,
          1565,
          1446,
          1757,
          2063,
          1272,
          935,
          1119,
          1624,
          1005,
          1247,
          946,
          1055,
          1336,
          1605,
          1589,
          983,
          0,
          809,
          1572,
          1120,
          814,
          944,
          1372,
          1010,
          752,
          1147,
          769,
          922,
          877,
          823,
          1011,
          0,
          872,
          668,
          496,
          683,
          0,
          487,
          400,
          1120,
          396,
          411,
          0,
          998,
          572,
          365,
          365,
          354
         ],
         "yaxis": "y"
        },
        {
         "customdata": [
          [
           354
          ],
          [
           127
          ],
          [
           16
          ],
          [
           1140
          ],
          [
           636
          ],
          [
           700
          ],
          [
           692
          ],
          [
           542
          ],
          [
           714
          ],
          [
           729
          ],
          [
           532
          ],
          [
           1023
          ],
          [
           954
          ],
          [
           1129
          ],
          [
           806
          ],
          [
           678
          ],
          [
           295
          ],
          [
           300
          ],
          [
           483
          ],
          [
           318
          ],
          [
           153
          ],
          [
           502
          ],
          [
           400
          ],
          [
           555
          ],
          [
           219
          ],
          [
           387
          ],
          [
           282
          ],
          [
           246
          ],
          [
           267
          ],
          [
           285
          ],
          [
           280
          ],
          [
           163
          ],
          [
           330
          ],
          [
           222
          ],
          [
           423
          ],
          [
           217
          ],
          [
           197
          ],
          [
           366
          ],
          [
           577
          ],
          [
           465
          ],
          [
           279
          ],
          [
           273
          ],
          [
           157
          ],
          [
           110
          ],
          [
           140
          ],
          [
           127
          ],
          [
           248
          ],
          [
           468
          ],
          [
           394
          ],
          [
           226
          ],
          [
           551
          ],
          [
           725
          ],
          [
           906
          ],
          [
           904
          ],
          [
           1359
          ],
          [
           585
          ],
          [
           1138
          ],
          [
           421
          ],
          [
           441
          ],
          [
           273
          ],
          [
           288
          ],
          [
           631
          ],
          [
           900
          ],
          [
           1402
          ],
          [
           994
          ],
          [
           757
          ],
          [
           993
          ],
          [
           696
          ],
          [
           644
          ],
          [
           467
          ],
          [
           604
          ],
          [
           1161
          ],
          [
           865
          ],
          [
           1284
          ],
          [
           1203
          ],
          [
           1100
          ],
          [
           753
          ],
          [
           800
          ],
          [
           619
          ],
          [
           1168
          ],
          [
           1147
          ],
          [
           1348
          ],
          [
           1394
          ],
          [
           1465
          ],
          [
           3869
          ],
          [
           2451
          ],
          [
           1428
          ],
          [
           1331
          ],
          [
           1405
          ],
          [
           1494
          ],
          [
           961
          ],
          [
           884
          ],
          [
           967
          ],
          [
           701
          ],
          [
           656
          ],
          [
           877
          ],
          [
           1680
          ],
          [
           1290
          ],
          [
           1511
          ],
          [
           978
          ],
          [
           813
          ],
          [
           980
          ],
          [
           1261
          ],
          [
           1241
          ],
          [
           1014
          ],
          [
           321
          ],
          [
           1983
          ],
          [
           1242
          ],
          [
           1065
          ],
          [
           1177
          ],
          [
           831
          ],
          [
           1500
          ],
          [
           975
          ],
          [
           834
          ],
          [
           932
          ],
          [
           1169
          ],
          [
           1275
          ],
          [
           1133
          ],
          [
           829
          ],
          [
           876
          ],
          [
           1103
          ],
          [
           1013
          ],
          [
           430
          ],
          [
           534
          ],
          [
           710
          ],
          [
           755
          ],
          [
           694
          ],
          [
           796
          ],
          [
           1012
          ],
          [
           2820
          ],
          [
           2013
          ],
          [
           2026
          ],
          [
           973
          ],
          [
           1159
          ],
          [
           733
          ],
          [
           5242
          ],
          [
           3391
          ],
          [
           2774
          ],
          [
           3368
          ],
          [
           1968
          ],
          [
           1565
          ],
          [
           1446
          ],
          [
           1757
          ],
          [
           2063
          ],
          [
           1272
          ],
          [
           935
          ],
          [
           1119
          ],
          [
           1624
          ],
          [
           1005
          ],
          [
           1247
          ],
          [
           946
          ],
          [
           1055
          ],
          [
           1336
          ],
          [
           1605
          ],
          [
           1589
          ],
          [
           983
          ],
          [
           809
          ],
          [
           1572
          ],
          [
           1120
          ],
          [
           814
          ],
          [
           944
          ],
          [
           1372
          ],
          [
           1010
          ],
          [
           752
          ],
          [
           1147
          ],
          [
           769
          ],
          [
           922
          ],
          [
           877
          ],
          [
           823
          ],
          [
           1011
          ],
          [
           872
          ],
          [
           668
          ],
          [
           496
          ],
          [
           683
          ],
          [
           487
          ],
          [
           400
          ],
          [
           1120
          ],
          [
           396
          ],
          [
           411
          ],
          [
           998
          ],
          [
           572
          ],
          [
           365
          ],
          [
           365
          ],
          [
           354
          ]
         ],
         "hovertemplate": "signal=buy<br>timeStamp=%{x}<br>mid=%{marker.size}<br>amount=%{customdata[0]}<extra></extra>",
         "legendgroup": "buy",
         "marker": {
          "color": "#636efa",
          "size": [
           1.08949,
           1.08945,
           1.08952,
           1.08919,
           1.08912,
           1.08913,
           1.08918,
           1.0893,
           1.08919,
           1.08916,
           1.08925,
           1.08906,
           1.08916,
           1.08918,
           1.08915,
           1.08915,
           1.08924,
           1.08928,
           1.08922,
           1.08926,
           1.08911,
           1.08908,
           1.08905,
           1.08897,
           1.08896,
           1.08896,
           1.08899,
           1.089,
           1.08909,
           1.08935,
           1.08924,
           1.08925,
           1.08931,
           1.08927,
           1.08936,
           1.0892,
           1.08924,
           1.0892,
           1.08929,
           1.0893,
           1.08925,
           1.08929,
           1.08933,
           1.08933,
           1.0893,
           1.0892,
           1.0893,
           1.08933,
           1.0894,
           1.08939,
           1.08924,
           1.08918,
           1.08921,
           1.08905,
           1.08902,
           1.08898,
           1.08882,
           1.08888,
           1.08882,
           1.08894,
           1.08899,
           1.08879,
           1.08884,
           1.08868,
           1.08854,
           1.08851,
           1.08856,
           1.08864,
           1.08864,
           1.08839,
           1.08871,
           1.0886,
           1.08891,
           1.0888,
           1.08885,
           1.08899,
           1.08922,
           1.08938,
           1.08961,
           1.08965,
           1.08953,
           1.08963,
           1.08972,
           1.08972,
           1.08992,
           1.08939,
           1.08958,
           1.08975,
           1.08973,
           1.09015,
           1.0898,
           1.09005,
           1.0901,
           1.08995,
           1.08985,
           1.09002,
           1.09016,
           1.09026,
           1.08997,
           1.09027,
           1.09005,
           1.08964,
           1.08951,
           1.08961,
           1.08976,
           1.08994,
           1.08979,
           1.09,
           1.0899,
           1.09001,
           1.09025,
           1.09015,
           1.09005,
           1.09008,
           1.09,
           1.08995,
           1.08963,
           1.08989,
           1.08999,
           1.08988,
           1.08965,
           1.08964,
           1.08978,
           1.0896,
           1.0895,
           1.08959,
           1.08951,
           1.09014,
           1.09011,
           1.09021,
           1.09021,
           1.09019,
           1.09005,
           1.09036,
           1.09028,
           1.08846,
           1.08834,
           1.08792,
           1.08771,
           1.08806,
           1.0877,
           1.0873,
           1.08721,
           1.08724,
           1.08752,
           1.08781,
           1.08769,
           1.08803,
           1.08799,
           1.08805,
           1.08823,
           1.08831,
           1.08829,
           1.08786,
           1.08786,
           1.08804,
           1.08777,
           1.0877,
           1.08765,
           1.08762,
           1.08752,
           1.08769,
           1.08785,
           1.08811,
           1.08805,
           1.08811,
           1.08807,
           1.08825,
           1.08821,
           1.08826,
           1.08841,
           1.08853,
           1.08847,
           1.08844,
           1.08819,
           1.08846,
           1.08837,
           1.08841,
           1.08822,
           1.08846,
           1.08837,
           1.08855,
           1.08874,
           1.0889
          ],
          "sizemode": "area",
          "sizeref": 0.0027259,
          "symbol": "circle"
         },
         "mode": "markers",
         "name": "buy",
         "orientation": "v",
         "showlegend": true,
         "type": "scatter",
         "x": [
          "2024-07-15 18:15",
          "2024-07-15 21:30",
          "2024-07-15 21:55",
          "2024-07-16 00:40",
          "2024-07-16 00:50",
          "2024-07-16 00:55",
          "2024-07-16 01:00",
          "2024-07-16 01:05",
          "2024-07-16 01:10",
          "2024-07-16 01:15",
          "2024-07-16 01:20",
          "2024-07-16 01:25",
          "2024-07-16 01:30",
          "2024-07-16 01:35",
          "2024-07-16 01:40",
          "2024-07-16 01:45",
          "2024-07-16 01:50",
          "2024-07-16 01:55",
          "2024-07-16 02:00",
          "2024-07-16 02:05",
          "2024-07-16 02:10",
          "2024-07-16 02:15",
          "2024-07-16 02:25",
          "2024-07-16 02:30",
          "2024-07-16 02:35",
          "2024-07-16 02:40",
          "2024-07-16 02:45",
          "2024-07-16 02:50",
          "2024-07-16 02:55",
          "2024-07-16 03:00",
          "2024-07-16 03:05",
          "2024-07-16 03:10",
          "2024-07-16 03:15",
          "2024-07-16 03:20",
          "2024-07-16 03:25",
          "2024-07-16 03:30",
          "2024-07-16 03:35",
          "2024-07-16 03:40",
          "2024-07-16 03:45",
          "2024-07-16 03:55",
          "2024-07-16 04:00",
          "2024-07-16 04:05",
          "2024-07-16 04:10",
          "2024-07-16 04:15",
          "2024-07-16 04:20",
          "2024-07-16 04:25",
          "2024-07-16 04:30",
          "2024-07-16 04:35",
          "2024-07-16 04:40",
          "2024-07-16 04:45",
          "2024-07-16 04:50",
          "2024-07-16 05:00",
          "2024-07-16 05:05",
          "2024-07-16 05:10",
          "2024-07-16 05:15",
          "2024-07-16 05:20",
          "2024-07-16 05:25",
          "2024-07-16 05:30",
          "2024-07-16 05:35",
          "2024-07-16 05:40",
          "2024-07-16 05:45",
          "2024-07-16 05:50",
          "2024-07-16 05:55",
          "2024-07-16 06:00",
          "2024-07-16 06:05",
          "2024-07-16 06:10",
          "2024-07-16 06:15",
          "2024-07-16 06:20",
          "2024-07-16 06:25",
          "2024-07-16 06:30",
          "2024-07-16 06:35",
          "2024-07-16 06:40",
          "2024-07-16 06:45",
          "2024-07-16 06:50",
          "2024-07-16 06:55",
          "2024-07-16 07:00",
          "2024-07-16 07:05",
          "2024-07-16 07:10",
          "2024-07-16 07:25",
          "2024-07-16 07:30",
          "2024-07-16 07:35",
          "2024-07-16 07:40",
          "2024-07-16 07:45",
          "2024-07-16 07:50",
          "2024-07-16 07:55",
          "2024-07-16 08:00",
          "2024-07-16 08:05",
          "2024-07-16 08:10",
          "2024-07-16 08:15",
          "2024-07-16 08:20",
          "2024-07-16 08:25",
          "2024-07-16 08:30",
          "2024-07-16 08:35",
          "2024-07-16 08:40",
          "2024-07-16 08:50",
          "2024-07-16 08:55",
          "2024-07-16 09:00",
          "2024-07-16 09:05",
          "2024-07-16 09:15",
          "2024-07-16 09:20",
          "2024-07-16 09:25",
          "2024-07-16 09:30",
          "2024-07-16 09:35",
          "2024-07-16 09:40",
          "2024-07-16 09:45",
          "2024-07-16 09:50",
          "2024-07-16 09:55",
          "2024-07-16 10:00",
          "2024-07-16 10:05",
          "2024-07-16 10:10",
          "2024-07-16 10:15",
          "2024-07-16 10:20",
          "2024-07-16 10:25",
          "2024-07-16 10:30",
          "2024-07-16 10:40",
          "2024-07-16 10:45",
          "2024-07-16 10:50",
          "2024-07-16 10:55",
          "2024-07-16 11:00",
          "2024-07-16 11:05",
          "2024-07-16 11:10",
          "2024-07-16 11:15",
          "2024-07-16 11:20",
          "2024-07-16 11:25",
          "2024-07-16 11:30",
          "2024-07-16 11:35",
          "2024-07-16 11:40",
          "2024-07-16 11:45",
          "2024-07-16 11:50",
          "2024-07-16 11:55",
          "2024-07-16 12:00",
          "2024-07-16 12:05",
          "2024-07-16 12:10",
          "2024-07-16 12:20",
          "2024-07-16 12:25",
          "2024-07-16 12:35",
          "2024-07-16 12:40",
          "2024-07-16 12:45",
          "2024-07-16 12:50",
          "2024-07-16 12:55",
          "2024-07-16 13:00",
          "2024-07-16 13:05",
          "2024-07-16 13:10",
          "2024-07-16 13:15",
          "2024-07-16 13:20",
          "2024-07-16 13:25",
          "2024-07-16 13:30",
          "2024-07-16 13:35",
          "2024-07-16 13:40",
          "2024-07-16 13:45",
          "2024-07-16 13:50",
          "2024-07-16 13:55",
          "2024-07-16 14:00",
          "2024-07-16 14:05",
          "2024-07-16 14:10",
          "2024-07-16 14:15",
          "2024-07-16 14:25",
          "2024-07-16 14:30",
          "2024-07-16 14:35",
          "2024-07-16 14:40",
          "2024-07-16 14:45",
          "2024-07-16 14:50",
          "2024-07-16 14:55",
          "2024-07-16 15:00",
          "2024-07-16 15:05",
          "2024-07-16 15:10",
          "2024-07-16 15:15",
          "2024-07-16 15:20",
          "2024-07-16 15:25",
          "2024-07-16 15:30",
          "2024-07-16 15:40",
          "2024-07-16 15:45",
          "2024-07-16 15:50",
          "2024-07-16 15:55",
          "2024-07-16 16:05",
          "2024-07-16 16:10",
          "2024-07-16 16:15",
          "2024-07-16 16:20",
          "2024-07-16 16:25",
          "2024-07-16 16:35",
          "2024-07-16 16:40",
          "2024-07-16 16:45",
          "2024-07-16 16:50",
          "2024-07-16 16:55"
         ],
         "xaxis": "x",
         "y": [
          1.08949,
          1.08945,
          1.08952,
          1.08919,
          1.08912,
          1.08913,
          1.08918,
          1.0893,
          1.08919,
          1.08916,
          1.08925,
          1.08906,
          1.08916,
          1.08918,
          1.08915,
          1.08915,
          1.08924,
          1.08928,
          1.08922,
          1.08926,
          1.08911,
          1.08908,
          1.08905,
          1.08897,
          1.08896,
          1.08896,
          1.08899,
          1.089,
          1.08909,
          1.08935,
          1.08924,
          1.08925,
          1.08931,
          1.08927,
          1.08936,
          1.0892,
          1.08924,
          1.0892,
          1.08929,
          1.0893,
          1.08925,
          1.08929,
          1.08933,
          1.08933,
          1.0893,
          1.0892,
          1.0893,
          1.08933,
          1.0894,
          1.08939,
          1.08924,
          1.08918,
          1.08921,
          1.08905,
          1.08902,
          1.08898,
          1.08882,
          1.08888,
          1.08882,
          1.08894,
          1.08899,
          1.08879,
          1.08884,
          1.08868,
          1.08854,
          1.08851,
          1.08856,
          1.08864,
          1.08864,
          1.08839,
          1.08871,
          1.0886,
          1.08891,
          1.0888,
          1.08885,
          1.08899,
          1.08922,
          1.08938,
          1.08961,
          1.08965,
          1.08953,
          1.08963,
          1.08972,
          1.08972,
          1.08992,
          1.08939,
          1.08958,
          1.08975,
          1.08973,
          1.09015,
          1.0898,
          1.09005,
          1.0901,
          1.08995,
          1.08985,
          1.09002,
          1.09016,
          1.09026,
          1.08997,
          1.09027,
          1.09005,
          1.08964,
          1.08951,
          1.08961,
          1.08976,
          1.08994,
          1.08979,
          1.09,
          1.0899,
          1.09001,
          1.09025,
          1.09015,
          1.09005,
          1.09008,
          1.09,
          1.08995,
          1.08963,
          1.08989,
          1.08999,
          1.08988,
          1.08965,
          1.08964,
          1.08978,
          1.0896,
          1.0895,
          1.08959,
          1.08951,
          1.09014,
          1.09011,
          1.09021,
          1.09021,
          1.09019,
          1.09005,
          1.09036,
          1.09028,
          1.08846,
          1.08834,
          1.08792,
          1.08771,
          1.08806,
          1.0877,
          1.0873,
          1.08721,
          1.08724,
          1.08752,
          1.08781,
          1.08769,
          1.08803,
          1.08799,
          1.08805,
          1.08823,
          1.08831,
          1.08829,
          1.08786,
          1.08786,
          1.08804,
          1.08777,
          1.0877,
          1.08765,
          1.08762,
          1.08752,
          1.08769,
          1.08785,
          1.08811,
          1.08805,
          1.08811,
          1.08807,
          1.08825,
          1.08821,
          1.08826,
          1.08841,
          1.08853,
          1.08847,
          1.08844,
          1.08819,
          1.08846,
          1.08837,
          1.08841,
          1.08822,
          1.08846,
          1.08837,
          1.08855,
          1.08874,
          1.0889
         ],
         "yaxis": "y"
        },
        {
         "customdata": [
          [
           354
          ],
          [
           143
          ],
          [
           502
          ],
          [
           506
          ],
          [
           1017
          ],
          [
           625
          ],
          [
           750
          ],
          [
           1759
          ],
          [
           1065
          ],
          [
           1011
          ],
          [
           2047
          ]
         ],
         "hovertemplate": "signal=sell<br>timeStamp=%{x}<br>mid=%{marker.size}<br>amount=%{customdata[0]}<extra></extra>",
         "legendgroup": "sell",
         "marker": {
          "color": "#EF553B",
          "size": [
           1.08972,
           1.08957,
           1.0893,
           1.08931,
           1.08923,
           1.08957,
           1.08965,
           1.08976,
           1.08999,
           1.09002,
           1.0902
          ],
          "sizemode": "area",
          "sizeref": 0.0027259,
          "symbol": "circle"
         },
         "mode": "markers",
         "name": "sell",
         "orientation": "v",
         "showlegend": true,
         "type": "scatter",
         "x": [
          "2024-07-15 18:20",
          "2024-07-15 22:00",
          "2024-07-16 00:45",
          "2024-07-16 03:50",
          "2024-07-16 04:55",
          "2024-07-16 07:15",
          "2024-07-16 07:20",
          "2024-07-16 08:45",
          "2024-07-16 09:10",
          "2024-07-16 10:35",
          "2024-07-16 12:15"
         ],
         "xaxis": "x",
         "y": [
          1.08972,
          1.08957,
          1.0893,
          1.08931,
          1.08923,
          1.08957,
          1.08965,
          1.08976,
          1.08999,
          1.09002,
          1.0902
         ],
         "yaxis": "y"
        }
       ],
       "layout": {
        "template": {
         "data": {
          "bar": [
           {
            "error_x": {
             "color": "#2a3f5f"
            },
            "error_y": {
             "color": "#2a3f5f"
            },
            "marker": {
             "line": {
              "color": "#E5ECF6",
              "width": 0.5
             },
             "pattern": {
              "fillmode": "overlay",
              "size": 10,
              "solidity": 0.2
             }
            },
            "type": "bar"
           }
          ],
          "barpolar": [
           {
            "marker": {
             "line": {
              "color": "#E5ECF6",
              "width": 0.5
             },
             "pattern": {
              "fillmode": "overlay",
              "size": 10,
              "solidity": 0.2
             }
            },
            "type": "barpolar"
           }
          ],
          "carpet": [
           {
            "aaxis": {
             "endlinecolor": "#2a3f5f",
             "gridcolor": "white",
             "linecolor": "white",
             "minorgridcolor": "white",
             "startlinecolor": "#2a3f5f"
            },
            "baxis": {
             "endlinecolor": "#2a3f5f",
             "gridcolor": "white",
             "linecolor": "white",
             "minorgridcolor": "white",
             "startlinecolor": "#2a3f5f"
            },
            "type": "carpet"
           }
          ],
          "choropleth": [
           {
            "colorbar": {
             "outlinewidth": 0,
             "ticks": ""
            },
            "type": "choropleth"
           }
          ],
          "contour": [
           {
            "colorbar": {
             "outlinewidth": 0,
             "ticks": ""
            },
            "colorscale": [
             [
              0,
              "#0d0887"
             ],
             [
              0.1111111111111111,
              "#46039f"
             ],
             [
              0.2222222222222222,
              "#7201a8"
             ],
             [
              0.3333333333333333,
              "#9c179e"
             ],
             [
              0.4444444444444444,
              "#bd3786"
             ],
             [
              0.5555555555555556,
              "#d8576b"
             ],
             [
              0.6666666666666666,
              "#ed7953"
             ],
             [
              0.7777777777777778,
              "#fb9f3a"
             ],
             [
              0.8888888888888888,
              "#fdca26"
             ],
             [
              1,
              "#f0f921"
             ]
            ],
            "type": "contour"
           }
          ],
          "contourcarpet": [
           {
            "colorbar": {
             "outlinewidth": 0,
             "ticks": ""
            },
            "type": "contourcarpet"
           }
          ],
          "heatmap": [
           {
            "colorbar": {
             "outlinewidth": 0,
             "ticks": ""
            },
            "colorscale": [
             [
              0,
              "#0d0887"
             ],
             [
              0.1111111111111111,
              "#46039f"
             ],
             [
              0.2222222222222222,
              "#7201a8"
             ],
             [
              0.3333333333333333,
              "#9c179e"
             ],
             [
              0.4444444444444444,
              "#bd3786"
             ],
             [
              0.5555555555555556,
              "#d8576b"
             ],
             [
              0.6666666666666666,
              "#ed7953"
             ],
             [
              0.7777777777777778,
              "#fb9f3a"
             ],
             [
              0.8888888888888888,
              "#fdca26"
             ],
             [
              1,
              "#f0f921"
             ]
            ],
            "type": "heatmap"
           }
          ],
          "heatmapgl": [
           {
            "colorbar": {
             "outlinewidth": 0,
             "ticks": ""
            },
            "colorscale": [
             [
              0,
              "#0d0887"
             ],
             [
              0.1111111111111111,
              "#46039f"
             ],
             [
              0.2222222222222222,
              "#7201a8"
             ],
             [
              0.3333333333333333,
              "#9c179e"
             ],
             [
              0.4444444444444444,
              "#bd3786"
             ],
             [
              0.5555555555555556,
              "#d8576b"
             ],
             [
              0.6666666666666666,
              "#ed7953"
             ],
             [
              0.7777777777777778,
              "#fb9f3a"
             ],
             [
              0.8888888888888888,
              "#fdca26"
             ],
             [
              1,
              "#f0f921"
             ]
            ],
            "type": "heatmapgl"
           }
          ],
          "histogram": [
           {
            "marker": {
             "pattern": {
              "fillmode": "overlay",
              "size": 10,
              "solidity": 0.2
             }
            },
            "type": "histogram"
           }
          ],
          "histogram2d": [
           {
            "colorbar": {
             "outlinewidth": 0,
             "ticks": ""
            },
            "colorscale": [
             [
              0,
              "#0d0887"
             ],
             [
              0.1111111111111111,
              "#46039f"
             ],
             [
              0.2222222222222222,
              "#7201a8"
             ],
             [
              0.3333333333333333,
              "#9c179e"
             ],
             [
              0.4444444444444444,
              "#bd3786"
             ],
             [
              0.5555555555555556,
              "#d8576b"
             ],
             [
              0.6666666666666666,
              "#ed7953"
             ],
             [
              0.7777777777777778,
              "#fb9f3a"
             ],
             [
              0.8888888888888888,
              "#fdca26"
             ],
             [
              1,
              "#f0f921"
             ]
            ],
            "type": "histogram2d"
           }
          ],
          "histogram2dcontour": [
           {
            "colorbar": {
             "outlinewidth": 0,
             "ticks": ""
            },
            "colorscale": [
             [
              0,
              "#0d0887"
             ],
             [
              0.1111111111111111,
              "#46039f"
             ],
             [
              0.2222222222222222,
              "#7201a8"
             ],
             [
              0.3333333333333333,
              "#9c179e"
             ],
             [
              0.4444444444444444,
              "#bd3786"
             ],
             [
              0.5555555555555556,
              "#d8576b"
             ],
             [
              0.6666666666666666,
              "#ed7953"
             ],
             [
              0.7777777777777778,
              "#fb9f3a"
             ],
             [
              0.8888888888888888,
              "#fdca26"
             ],
             [
              1,
              "#f0f921"
             ]
            ],
            "type": "histogram2dcontour"
           }
          ],
          "mesh3d": [
           {
            "colorbar": {
             "outlinewidth": 0,
             "ticks": ""
            },
            "type": "mesh3d"
           }
          ],
          "parcoords": [
           {
            "line": {
             "colorbar": {
              "outlinewidth": 0,
              "ticks": ""
             }
            },
            "type": "parcoords"
           }
          ],
          "pie": [
           {
            "automargin": true,
            "type": "pie"
           }
          ],
          "scatter": [
           {
            "fillpattern": {
             "fillmode": "overlay",
             "size": 10,
             "solidity": 0.2
            },
            "type": "scatter"
           }
          ],
          "scatter3d": [
           {
            "line": {
             "colorbar": {
              "outlinewidth": 0,
              "ticks": ""
             }
            },
            "marker": {
             "colorbar": {
              "outlinewidth": 0,
              "ticks": ""
             }
            },
            "type": "scatter3d"
           }
          ],
          "scattercarpet": [
           {
            "marker": {
             "colorbar": {
              "outlinewidth": 0,
              "ticks": ""
             }
            },
            "type": "scattercarpet"
           }
          ],
          "scattergeo": [
           {
            "marker": {
             "colorbar": {
              "outlinewidth": 0,
              "ticks": ""
             }
            },
            "type": "scattergeo"
           }
          ],
          "scattergl": [
           {
            "marker": {
             "colorbar": {
              "outlinewidth": 0,
              "ticks": ""
             }
            },
            "type": "scattergl"
           }
          ],
          "scattermapbox": [
           {
            "marker": {
             "colorbar": {
              "outlinewidth": 0,
              "ticks": ""
             }
            },
            "type": "scattermapbox"
           }
          ],
          "scatterpolar": [
           {
            "marker": {
             "colorbar": {
              "outlinewidth": 0,
              "ticks": ""
             }
            },
            "type": "scatterpolar"
           }
          ],
          "scatterpolargl": [
           {
            "marker": {
             "colorbar": {
              "outlinewidth": 0,
              "ticks": ""
             }
            },
            "type": "scatterpolargl"
           }
          ],
          "scatterternary": [
           {
            "marker": {
             "colorbar": {
              "outlinewidth": 0,
              "ticks": ""
             }
            },
            "type": "scatterternary"
           }
          ],
          "surface": [
           {
            "colorbar": {
             "outlinewidth": 0,
             "ticks": ""
            },
            "colorscale": [
             [
              0,
              "#0d0887"
             ],
             [
              0.1111111111111111,
              "#46039f"
             ],
             [
              0.2222222222222222,
              "#7201a8"
             ],
             [
              0.3333333333333333,
              "#9c179e"
             ],
             [
              0.4444444444444444,
              "#bd3786"
             ],
             [
              0.5555555555555556,
              "#d8576b"
             ],
             [
              0.6666666666666666,
              "#ed7953"
             ],
             [
              0.7777777777777778,
              "#fb9f3a"
             ],
             [
              0.8888888888888888,
              "#fdca26"
             ],
             [
              1,
              "#f0f921"
             ]
            ],
            "type": "surface"
           }
          ],
          "table": [
           {
            "cells": {
             "fill": {
              "color": "#EBF0F8"
             },
             "line": {
              "color": "white"
             }
            },
            "header": {
             "fill": {
              "color": "#C8D4E3"
             },
             "line": {
              "color": "white"
             }
            },
            "type": "table"
           }
          ]
         },
         "layout": {
          "annotationdefaults": {
           "arrowcolor": "#2a3f5f",
           "arrowhead": 0,
           "arrowwidth": 1
          },
          "autotypenumbers": "strict",
          "coloraxis": {
           "colorbar": {
            "outlinewidth": 0,
            "ticks": ""
           }
          },
          "colorscale": {
           "diverging": [
            [
             0,
             "#8e0152"
            ],
            [
             0.1,
             "#c51b7d"
            ],
            [
             0.2,
             "#de77ae"
            ],
            [
             0.3,
             "#f1b6da"
            ],
            [
             0.4,
             "#fde0ef"
            ],
            [
             0.5,
             "#f7f7f7"
            ],
            [
             0.6,
             "#e6f5d0"
            ],
            [
             0.7,
             "#b8e186"
            ],
            [
             0.8,
             "#7fbc41"
            ],
            [
             0.9,
             "#4d9221"
            ],
            [
             1,
             "#276419"
            ]
           ],
           "sequential": [
            [
             0,
             "#0d0887"
            ],
            [
             0.1111111111111111,
             "#46039f"
            ],
            [
             0.2222222222222222,
             "#7201a8"
            ],
            [
             0.3333333333333333,
             "#9c179e"
            ],
            [
             0.4444444444444444,
             "#bd3786"
            ],
            [
             0.5555555555555556,
             "#d8576b"
            ],
            [
             0.6666666666666666,
             "#ed7953"
            ],
            [
             0.7777777777777778,
             "#fb9f3a"
            ],
            [
             0.8888888888888888,
             "#fdca26"
            ],
            [
             1,
             "#f0f921"
            ]
           ],
           "sequentialminus": [
            [
             0,
             "#0d0887"
            ],
            [
             0.1111111111111111,
             "#46039f"
            ],
            [
             0.2222222222222222,
             "#7201a8"
            ],
            [
             0.3333333333333333,
             "#9c179e"
            ],
            [
             0.4444444444444444,
             "#bd3786"
            ],
            [
             0.5555555555555556,
             "#d8576b"
            ],
            [
             0.6666666666666666,
             "#ed7953"
            ],
            [
             0.7777777777777778,
             "#fb9f3a"
            ],
            [
             0.8888888888888888,
             "#fdca26"
            ],
            [
             1,
             "#f0f921"
            ]
           ]
          },
          "colorway": [
           "#636efa",
           "#EF553B",
           "#00cc96",
           "#ab63fa",
           "#FFA15A",
           "#19d3f3",
           "#FF6692",
           "#B6E880",
           "#FF97FF",
           "#FECB52"
          ],
          "font": {
           "color": "#2a3f5f"
          },
          "geo": {
           "bgcolor": "white",
           "lakecolor": "white",
           "landcolor": "#E5ECF6",
           "showlakes": true,
           "showland": true,
           "subunitcolor": "white"
          },
          "hoverlabel": {
           "align": "left"
          },
          "hovermode": "closest",
          "mapbox": {
           "style": "light"
          },
          "paper_bgcolor": "white",
          "plot_bgcolor": "#E5ECF6",
          "polar": {
           "angularaxis": {
            "gridcolor": "white",
            "linecolor": "white",
            "ticks": ""
           },
           "bgcolor": "#E5ECF6",
           "radialaxis": {
            "gridcolor": "white",
            "linecolor": "white",
            "ticks": ""
           }
          },
          "scene": {
           "xaxis": {
            "backgroundcolor": "#E5ECF6",
            "gridcolor": "white",
            "gridwidth": 2,
            "linecolor": "white",
            "showbackground": true,
            "ticks": "",
            "zerolinecolor": "white"
           },
           "yaxis": {
            "backgroundcolor": "#E5ECF6",
            "gridcolor": "white",
            "gridwidth": 2,
            "linecolor": "white",
            "showbackground": true,
            "ticks": "",
            "zerolinecolor": "white"
           },
           "zaxis": {
            "backgroundcolor": "#E5ECF6",
            "gridcolor": "white",
            "gridwidth": 2,
            "linecolor": "white",
            "showbackground": true,
            "ticks": "",
            "zerolinecolor": "white"
           }
          },
          "shapedefaults": {
           "line": {
            "color": "#2a3f5f"
           }
          },
          "ternary": {
           "aaxis": {
            "gridcolor": "white",
            "linecolor": "white",
            "ticks": ""
           },
           "baxis": {
            "gridcolor": "white",
            "linecolor": "white",
            "ticks": ""
           },
           "bgcolor": "#E5ECF6",
           "caxis": {
            "gridcolor": "white",
            "linecolor": "white",
            "ticks": ""
           }
          },
          "title": {
           "x": 0.05
          },
          "xaxis": {
           "automargin": true,
           "gridcolor": "white",
           "linecolor": "white",
           "ticks": "",
           "title": {
            "standoff": 15
           },
           "zerolinecolor": "white",
           "zerolinewidth": 2
          },
          "yaxis": {
           "automargin": true,
           "gridcolor": "white",
           "linecolor": "white",
           "ticks": "",
           "title": {
            "standoff": 15
           },
           "zerolinecolor": "white",
           "zerolinewidth": 2
          }
         }
        }
       }
      }
     },
     "metadata": {},
     "output_type": "display_data"
    }
   ],
   "source": [
    "import strategies\n",
    "test_data = loadData(287, False)\n",
    "sma = strategies.SMA(10, 50, is_statefull= False)\n",
    "rsi = strategies.RSI(14, is_statefull= False)\n",
    "macd = strategies.MACD(12, 26, 9, is_statefull= False)\n",
    "composite = strategies.StateFullComposite(2500, strategies=[sma, rsi, macd])\n",
    "actions = []\n",
    "amounts = []\n",
    "for i in range(1, len(test_data)+1):\n",
    "    action, amount = composite.action( test_data.head(i) )\n",
    "    actions.append( action )\n",
    "    amounts.append( amount )\n",
    "test_data['signal'] = actions\n",
    "test_data['amount'] = [ abs(amount) for amount in amounts ]\n",
    "\n",
    "test_data['signal'].replace({0:'hold', 1: 'buy', -1:'sell', 2: 'strong_buy', 3:'very_strong_buy', -2: 'strong_sell', -3: 'very_strong_sell'}, inplace=True)\n",
    "is_signal_col = lambda name: 'mid' in name or 'quote' in name or 'amount' in name or 'RSI' in name or 'MACD' in name or 'Signal' in name\n",
    "line = px.line(test_data, x = 'timeStamp', y = [col for col in test_data.columns if is_signal_col(col)])\n",
    "scatter = px.scatter(test_data[~test_data['signal'].isin(['hold'])], x = 'timeStamp', y='mid', color='signal', size = 'mid', hover_data=['amount'] )\n",
    "plot = go.Figure(data=line.data + scatter.data)\n",
    "plot.show()"
   ]
  },
  {
   "cell_type": "code",
   "execution_count": null,
   "metadata": {},
   "outputs": [],
   "source": [
    "composite.PreviousTickBuyMiss"
   ]
  },
  {
   "cell_type": "code",
   "execution_count": null,
   "metadata": {},
   "outputs": [],
   "source": []
  }
 ],
 "metadata": {
  "kernelspec": {
   "display_name": "py3",
   "language": "python",
   "name": "python3"
  },
  "language_info": {
   "codemirror_mode": {
    "name": "ipython",
    "version": 3
   },
   "file_extension": ".py",
   "mimetype": "text/x-python",
   "name": "python",
   "nbconvert_exporter": "python",
   "pygments_lexer": "ipython3",
   "version": "3.8.12"
  }
 },
 "nbformat": 4,
 "nbformat_minor": 2
}
